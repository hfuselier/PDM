{
 "cells": [
  {
   "cell_type": "code",
   "execution_count": 1,
   "metadata": {},
   "outputs": [],
   "source": [
    "import numpy as np\n",
    "from load import load_data\n",
    "from convert import convert\n",
    "from pmc2 import *\n",
    "from brute_force import planes_def"
   ]
  },
  {
   "cell_type": "code",
   "execution_count": 2,
   "metadata": {},
   "outputs": [],
   "source": [
    "#%matplotlib widget\n",
    "#matplotlib inline\n",
    "%matplotlib qt\n",
    "#%matplotlib gtk\n",
    "\n",
    "import matplotlib.pyplot as plt\n",
    "import matplotlib.font_manager\n",
    "\n",
    "from mpl_toolkits.mplot3d import Axes3D\n",
    "from mpl_toolkits.mplot3d.art3d import Poly3DCollection\n",
    "\n",
    "plt.rcParams.update({\n",
    "    'pgf.rcfonts': False,\n",
    "})\n",
    "\n",
    "plt.rcParams['font.family'] = 'serif'\n",
    "\n",
    "from matplotlib.backends.backend_pgf import FigureCanvasPgf\n",
    "matplotlib.backend_bases.register_backend('pdf', FigureCanvasPgf)"
   ]
  },
  {
   "cell_type": "code",
   "execution_count": 3,
   "metadata": {},
   "outputs": [
    {
     "name": "stdout",
     "output_type": "stream",
     "text": [
      "[ 70.3  72.7 109.3 113.  115. ]\n",
      "[]\n",
      "[ 80.7  82.7  81.7  85.3  92.3 100.7  99.3 102.  107.3 106.3 108.3 115.3\n",
      " 113.7 125.3 133.7 138.7 140.  144.  154.7 155. ]\n"
     ]
    },
    {
     "data": {
      "application/vnd.jupyter.widget-view+json": {
       "model_id": "9ccbeb7f76fe478db37255c8b993aefd",
       "version_major": 2,
       "version_minor": 0
      },
      "text/plain": [
       "HBox(children=(IntProgress(value=0, max=4), HTML(value='')))"
      ]
     },
     "metadata": {},
     "output_type": "display_data"
    },
    {
     "name": "stderr",
     "output_type": "stream",
     "text": [
      "/Users/heloisefuselier/Dropbox/PDM/Travail/PDM helo/Python/pmc2.py:167: RuntimeWarning: invalid value encountered in arcsin\n",
      "  self.phyC = arcsin(3*bc/(6*self.Vo+bc))\n"
     ]
    },
    {
     "name": "stdout",
     "output_type": "stream",
     "text": [
      "\n",
      "[68.86724295 52.28621579 -0.9435294  60.13543739 28.73943582 28.73943582]\n",
      "[ 59.11896216 221.56230667   0.26924417  52.73475766  28.1828752\n",
      "  28.1828752 ]\n",
      "0.99955143587754 0.9995549887640355 0.9996813647609688\n"
     ]
    }
   ],
   "source": [
    "data = load_data(2)\n",
    "d = convert(data)\n",
    "\n",
    "print(d['C'][:,3])\n",
    "print(d['E'][:,3])\n",
    "print(d['o'][:,3])\n",
    "\n",
    "P1, P2, Rsqu, Rsqu_P1, Rsqu_P2 = planes_def(data,d)\n",
    "print(Rsqu, Rsqu_P1, Rsqu_P2)"
   ]
  },
  {
   "cell_type": "markdown",
   "metadata": {},
   "source": [
    "in this situation $\\phi_C^1 > \\phi_C^2$ in this situation. planes P1 and P2 in zone 0, 2 and 4 do not intersect\n",
    "\n",
    "if $\\phi_E^1 > \\phi_E^2$ planes P1 and P2 in zone 1, 3 and 5 do not intersect"
   ]
  },
  {
   "cell_type": "code",
   "execution_count": 4,
   "metadata": {},
   "outputs": [
    {
     "name": "stdout",
     "output_type": "stream",
     "text": [
      "P1 P2\n",
      "28.739435822307737 28.18287520430161\n",
      "28.739435822307737 28.18287520430161\n"
     ]
    }
   ],
   "source": [
    "print('P1 P2\\n{} {}\\n{} {}'.format(P1.phyC*180/pi,P2.phyC*180/pi,P1.phyE*180/pi,P2.phyE*180/pi))"
   ]
  },
  {
   "cell_type": "code",
   "execution_count": 5,
   "metadata": {},
   "outputs": [],
   "source": [
    "special_case_phyC = P1.phyC > P2.phyC\n",
    "special_case_phyE = P1.phyE > P2.phyE"
   ]
  },
  {
   "cell_type": "code",
   "execution_count": 6,
   "metadata": {},
   "outputs": [
    {
     "name": "stdout",
     "output_type": "stream",
     "text": [
      "P1 < P2 ?\n",
      "phyC : True\n",
      "phyE : True\n"
     ]
    }
   ],
   "source": [
    "print('P1 < P2 ?\\nphyC : {}\\nphyE : {}'.format(special_case_phyC,special_case_phyE))"
   ]
  },
  {
   "cell_type": "code",
   "execution_count": 7,
   "metadata": {},
   "outputs": [
    {
     "name": "stdout",
     "output_type": "stream",
     "text": [
      "V0 P1 : 60.13543738548873\n",
      "V0 P2 : 52.734757662051784\n"
     ]
    }
   ],
   "source": [
    "print('V0 P1 : {}\\nV0 P2 : {}'.format(P1.Vo,P2.Vo))"
   ]
  },
  {
   "cell_type": "code",
   "execution_count": 8,
   "metadata": {},
   "outputs": [
    {
     "name": "stdout",
     "output_type": "stream",
     "text": [
      "offset = 0\n"
     ]
    }
   ],
   "source": [
    "offset = None\n",
    "if special_case_phyC:\n",
    "    offset = 0\n",
    "elif special_case_phyE:\n",
    "    offset = 2\n",
    "else:\n",
    "    print(\"you shouldn't be here\")\n",
    "print('offset = {}'.format(offset))"
   ]
  },
  {
   "cell_type": "markdown",
   "metadata": {},
   "source": [
    "## 3D plot | Calculating intersections"
   ]
  },
  {
   "cell_type": "markdown",
   "metadata": {},
   "source": [
    "### P1 P2 transition points"
   ]
  },
  {
   "cell_type": "code",
   "execution_count": 9,
   "metadata": {},
   "outputs": [
    {
     "name": "stdout",
     "output_type": "stream",
     "text": [
      "[[-666.2237267 -666.2237267 -272.6279063 -272.6279063 -272.6279063\n",
      "  -666.2237267]\n",
      " [-272.6279063 -272.6279063 -272.6279063 -666.2237267 -666.2237267\n",
      "  -666.2237267]\n",
      " [-272.6279063 -666.2237267 -666.2237267 -666.2237267 -272.6279063\n",
      "  -272.6279063]]\n"
     ]
    }
   ],
   "source": [
    "eq_pts_transisiton_P12 = np.zeros((6,3,3))\n",
    "\n",
    "for i in range(6):\n",
    "    eq_pts_transisiton_P12[(i-offset)%6] = np.array([get_plane_normal_6_cycle(P1,i),get_plane_normal_6_cycle(P1,i-1),get_plane_normal_6_cycle(P2,i)])\n",
    "    \n",
    "ones = np.ones((6,3))\n",
    "\n",
    "pts_transisiton_P12 = np.linalg.solve(eq_pts_transisiton_P12, ones).transpose()\n",
    "print(pts_transisiton_P12)"
   ]
  },
  {
   "cell_type": "code",
   "execution_count": 10,
   "metadata": {},
   "outputs": [
    {
     "name": "stdout",
     "output_type": "stream",
     "text": [
      "[[-666.2237267 -272.6279063 -666.2237267]\n",
      " [-272.6279063 -666.2237267 -666.2237267]\n",
      " [-666.2237267 -666.2237267 -272.6279063]]\n"
     ]
    }
   ],
   "source": [
    "if offset == 0:\n",
    "    pts_transisiton_P12 = pts_transisiton_P12[:,1::2]\n",
    "elif offset == 2:\n",
    "    pts_transisiton_P12 = pts_transisiton_P12[:,::2]\n",
    "print(pts_transisiton_P12)\n",
    "#assert(pts_transisiton_P12.shape==(3,3))"
   ]
  },
  {
   "cell_type": "markdown",
   "metadata": {},
   "source": [
    "$V_0^2$"
   ]
  },
  {
   "cell_type": "code",
   "execution_count": 11,
   "metadata": {},
   "outputs": [],
   "source": [
    "eq_pts_P2 = np.array([get_plane_normal_6_cycle(P2,0),get_plane_normal_6_cycle(P2,1),get_plane_normal_6_cycle(P2,2)])\n",
    "pts_P2 = np.linalg.solve(eq_pts_P2,np.ones((3,1)))"
   ]
  },
  {
   "cell_type": "markdown",
   "metadata": {},
   "source": [
    "### Intersection with far plane"
   ]
  },
  {
   "cell_type": "code",
   "execution_count": null,
   "metadata": {},
   "outputs": [],
   "source": []
  },
  {
   "cell_type": "code",
   "execution_count": 12,
   "metadata": {},
   "outputs": [],
   "source": [
    "def p_plane_intersection_12(P1,P2,plane_dist,offset):\n",
    "    p_plane_n = np.ones(3)/np.sqrt(3)\n",
    "    p_plane_o = p_plane_n*plane_dist\n",
    "    \n",
    "    eq = np.zeros((12,3,3))\n",
    "    b = np.array([[1,1,np.dot(p_plane_n,p_plane_o)]])\n",
    "    \n",
    "    for i in range(12):\n",
    "        eq[i] = np.array([get_plane_normal_12_cycle(P1,P2,i,offset),get_plane_normal_12_cycle(P1,P2,i-1,offset),p_plane_n])\n",
    "        \n",
    "    pts = np.linalg.solve(eq,b).transpose()\n",
    "    return pts\n",
    "    \n",
    "    "
   ]
  },
  {
   "cell_type": "code",
   "execution_count": 13,
   "metadata": {},
   "outputs": [],
   "source": [
    "sig_pts = np.concatenate((P1.pts,P2.pts),axis=1)\n",
    "all_pts = np.concatenate((sig_pts,pts_transisiton_P12,pts_P2),axis=1) #miss pts_P2\n",
    "pts_with_largest_coord = 1*all_pts[:,np.argmax(np.max(all_pts, axis=0))]\n",
    "pts_with_largest_coord *= 1.1"
   ]
  },
  {
   "cell_type": "code",
   "execution_count": 14,
   "metadata": {},
   "outputs": [],
   "source": [
    "dist = np.dot(np.ones(3)/np.sqrt(3),pts_with_largest_coord)\n",
    "pts_far = p_plane_intersection_12(P1,P2,dist,offset)"
   ]
  },
  {
   "cell_type": "code",
   "execution_count": 15,
   "metadata": {},
   "outputs": [
    {
     "data": {
      "text/plain": [
       "[<mpl_toolkits.mplot3d.art3d.Line3D at 0x11eb46f10>]"
      ]
     },
     "execution_count": 15,
     "metadata": {},
     "output_type": "execute_result"
    }
   ],
   "source": [
    "fig = plt.figure()\n",
    "ax = fig.add_subplot(111, projection='3d')\n",
    "#ax.set_aspect('equal')\n",
    "ax.plot(d['sig2'],d['sig3'],d['sig1'],'k.')"
   ]
  },
  {
   "cell_type": "code",
   "execution_count": 16,
   "metadata": {},
   "outputs": [
    {
     "data": {
      "text/plain": [
       "[<mpl_toolkits.mplot3d.art3d.Line3D at 0x127fd1350>]"
      ]
     },
     "execution_count": 16,
     "metadata": {},
     "output_type": "execute_result"
    }
   ],
   "source": [
    "ax.plot(*pts_transisiton_P12[:,:], 'ro',alpha=1)\n",
    "#ax.plot(*pts_transisiton_P12[:,-1:], 'yo',alpha=1)\n",
    "ax.plot(*pts_P2,'ko',alpha=1)\n",
    "ax.plot(*pts_far,'bo',alpha=1)"
   ]
  },
  {
   "cell_type": "code",
   "execution_count": null,
   "metadata": {},
   "outputs": [],
   "source": []
  },
  {
   "cell_type": "code",
   "execution_count": 17,
   "metadata": {},
   "outputs": [],
   "source": [
    "def get_verts(cord):\n",
    "    return [list(zip(*cord))]"
   ]
  },
  {
   "cell_type": "markdown",
   "metadata": {},
   "source": [
    "## Draw P2 planes"
   ]
  },
  {
   "cell_type": "code",
   "execution_count": 18,
   "metadata": {},
   "outputs": [],
   "source": [
    "for i in range(3):\n",
    "    cord_l = np.zeros((3,4))\n",
    "    cord_r = np.zeros((3,4))\n",
    "    far_pts_inter_P2_idx = i*4\n",
    "    cord_r[:,0] = pts_P2[:,0]\n",
    "    cord_r[:,1] = pts_transisiton_P12[:,i] \n",
    "    cord_r[:,2] = pts_far[:,(far_pts_inter_P2_idx+1)%12]\n",
    "    cord_r[:,3] = pts_far[:,far_pts_inter_P2_idx]\n",
    "    \n",
    "    cord_l[:,0] = pts_P2[:,0]\n",
    "    cord_l[:,1] = pts_transisiton_P12[:,(i-1)%3] \n",
    "    cord_l[:,2] = pts_far[:,(far_pts_inter_P2_idx-1)%12]\n",
    "    cord_l[:,3] = pts_far[:,far_pts_inter_P2_idx]\n",
    "    \n",
    "    verts = get_verts(cord_r)\n",
    "    poly = Poly3DCollection(verts,linewidths=1, alpha=0.2)\n",
    "    poly.set_facecolor('r')\n",
    "    ax.add_collection3d(poly)\n",
    "    \n",
    "    verts = get_verts(cord_l)\n",
    "    poly = Poly3DCollection(verts,linewidths=1, alpha=0.2)\n",
    "    poly.set_facecolor('r')\n",
    "    ax.add_collection3d(poly)"
   ]
  },
  {
   "cell_type": "markdown",
   "metadata": {},
   "source": [
    "## Draw P1 planes"
   ]
  },
  {
   "cell_type": "code",
   "execution_count": 19,
   "metadata": {},
   "outputs": [],
   "source": [
    "for i in range(3):\n",
    "    cord_l = np.zeros((3,3))\n",
    "    cord_r = np.zeros((3,3))\n",
    "    far_pts_inter_P2_idx = i*4 + 2\n",
    "    cord_r[:,0] = pts_transisiton_P12[:,i] \n",
    "    cord_r[:,1] = pts_far[:,(far_pts_inter_P2_idx+1)%12]\n",
    "    cord_r[:,2] = pts_far[:,far_pts_inter_P2_idx]\n",
    "\n",
    "    cord_l[:,0] = pts_transisiton_P12[:,i] \n",
    "    cord_l[:,1] = pts_far[:,(far_pts_inter_P2_idx-1)%12]\n",
    "    cord_l[:,2] = pts_far[:,far_pts_inter_P2_idx]\n",
    "    \n",
    "    verts = get_verts(cord_r)\n",
    "    poly = Poly3DCollection(verts,linewidths=1, alpha=0.2)\n",
    "    poly.set_facecolor('b')\n",
    "    ax.add_collection3d(poly)\n",
    "    \n",
    "    verts = get_verts(cord_l)\n",
    "    poly = Poly3DCollection(verts,linewidths=1, alpha=0.2)\n",
    "    poly.set_facecolor('b')\n",
    "    ax.add_collection3d(poly)"
   ]
  },
  {
   "cell_type": "code",
   "execution_count": 20,
   "metadata": {},
   "outputs": [],
   "source": [
    "#ax.set_aspect('equal')\n",
    "fig.show()"
   ]
  },
  {
   "cell_type": "code",
   "execution_count": null,
   "metadata": {},
   "outputs": [],
   "source": []
  },
  {
   "cell_type": "markdown",
   "metadata": {},
   "source": [
    "# 2D view"
   ]
  },
  {
   "cell_type": "code",
   "execution_count": 22,
   "metadata": {},
   "outputs": [],
   "source": [
    "new_base = np.zeros((3,3))\n",
    "\n",
    "new_z = np.array([1,1,1])\n",
    "new_y = np.array([-1,-1,2])\n",
    "new_x = np.array([-1,1,0])\n",
    "new_base[:,0] = new_x /np.linalg.norm(new_x )\n",
    "new_base[:,1] = new_y /np.linalg.norm(new_y )\n",
    "new_base[:,2] = new_z /np.linalg.norm(new_z )\n",
    "new_base_transform = np.linalg.inv(new_base)"
   ]
  },
  {
   "cell_type": "code",
   "execution_count": 23,
   "metadata": {},
   "outputs": [],
   "source": [
    "new_sig_pts = new_base_transform @ sig_pts\n",
    "new_P2 = new_base_transform @ pts_P2\n",
    "new_transi = new_base_transform @ pts_transisiton_P12\n",
    "new_far = new_base_transform @ pts_far"
   ]
  },
  {
   "cell_type": "code",
   "execution_count": 24,
   "metadata": {},
   "outputs": [],
   "source": [
    "transi_dist = new_transi[2,2]\n",
    "near_inter = p_plane_intersection_6(P2,transi_dist*0.99)\n",
    "new_near = new_base_transform @ near_inter"
   ]
  },
  {
   "cell_type": "code",
   "execution_count": 25,
   "metadata": {},
   "outputs": [
    {
     "data": {
      "text/plain": [
       "[<matplotlib.patches.Polygon at 0x11a952990>]"
      ]
     },
     "execution_count": 25,
     "metadata": {},
     "output_type": "execute_result"
    }
   ],
   "source": [
    "plt.close()\n",
    "#plt.axis('equal')\n",
    "plt.plot(new_P2[0,:],new_P2[1,:],'r.')\n",
    "plt.plot(new_sig_pts[0,:],new_sig_pts[1,:],'k.')\n",
    "plt.fill(new_far[0,:],new_far[1,:],edgecolor='b',fill=False)\n",
    "plt.fill(new_near[0,:],new_near[1,:],edgecolor='r',fill=False)"
   ]
  },
  {
   "cell_type": "code",
   "execution_count": null,
   "metadata": {},
   "outputs": [],
   "source": [
    "P1.sol"
   ]
  },
  {
   "cell_type": "code",
   "execution_count": 39,
   "metadata": {},
   "outputs": [
    {
     "data": {
      "text/plain": [
       "array([29.88443564, 20.27825491, -1.12435306, 18.67837649, 39.16551874,\n",
       "       41.50962047])"
      ]
     },
     "execution_count": 39,
     "metadata": {},
     "output_type": "execute_result"
    }
   ],
   "source": [
    "P2.sol"
   ]
  },
  {
   "cell_type": "code",
   "execution_count": null,
   "metadata": {},
   "outputs": [],
   "source": []
  },
  {
   "cell_type": "code",
   "execution_count": null,
   "metadata": {},
   "outputs": [],
   "source": []
  },
  {
   "cell_type": "code",
   "execution_count": null,
   "metadata": {},
   "outputs": [],
   "source": []
  }
 ],
 "metadata": {
  "kernelspec": {
   "display_name": "Python 3",
   "language": "python",
   "name": "python3"
  },
  "language_info": {
   "codemirror_mode": {
    "name": "ipython",
    "version": 3
   },
   "file_extension": ".py",
   "mimetype": "text/x-python",
   "name": "python",
   "nbconvert_exporter": "python",
   "pygments_lexer": "ipython3",
   "version": "3.7.4"
  }
 },
 "nbformat": 4,
 "nbformat_minor": 4
}
