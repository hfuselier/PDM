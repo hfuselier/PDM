{
 "cells": [
  {
   "cell_type": "code",
   "execution_count": 1,
   "metadata": {},
   "outputs": [],
   "source": [
    "import numpy as np\n",
    "from load import load_data\n",
    "from convert import convert\n",
    "from pmc import *\n",
    "from brute_force import planes_def\n",
    "#from pmc_4p import *\n",
    "#from brute_force_4pPMC import planes_def_PMC"
   ]
  },
  {
   "cell_type": "code",
   "execution_count": 2,
   "metadata": {},
   "outputs": [],
   "source": [
    "#%matplotlib widget\n",
    "#%matplotlib inline\n",
    "%matplotlib qt\n",
    "#%matplotlib gtk\n",
    "import matplotlib.pyplot as plt\n",
    "import matplotlib.font_manager\n",
    "from mpl_toolkits.mplot3d import Axes3D\n",
    "from mpl_toolkits.mplot3d.art3d import Poly3DCollection\n",
    "plt.rcParams.update({\n",
    "    'pgf.rcfonts': False,\n",
    "})\n",
    "plt.rcParams['font.family'] = 'serif'\n",
    "#from matplotlib.backends.backend_pgf import FigureCanvasPgf\n",
    "#matplotlib.backend_bases.register_backend('pdf', FigureCanvasPgf)"
   ]
  },
  {
   "cell_type": "code",
   "execution_count": 3,
   "metadata": {},
   "outputs": [],
   "source": [
    "alf_inter = 1\n",
    "alf_plane = 0.5"
   ]
  },
  {
   "cell_type": "markdown",
   "metadata": {},
   "source": [
    "# Input"
   ]
  },
  {
   "cell_type": "code",
   "execution_count": 4,
   "metadata": {},
   "outputs": [
    {
     "data": {
      "application/vnd.jupyter.widget-view+json": {
       "model_id": "38316455a8d8431bbbfc19bd75346d1f",
       "version_major": 2,
       "version_minor": 0
      },
      "text/plain": [
       "HBox(children=(IntProgress(value=0, max=24), HTML(value='')))"
      ]
     },
     "metadata": {},
     "output_type": "display_data"
    },
    {
     "name": "stderr",
     "output_type": "stream",
     "text": [
      "/Users/heloisefuselier/Dropbox/PDM/PDM/python/pmc.py:150: RuntimeWarning: invalid value encountered in arcsin\n",
      "  self.phyC = arcsin(3*bc/(6*self.Vo+bc))\n"
     ]
    },
    {
     "name": "stdout",
     "output_type": "stream",
     "text": [
      "\n",
      "[86.88604901 14.38681242 12.11303767]\n",
      "[11.13569445 34.33311375 34.74696686]\n",
      "14.96247381857528 6.118649968601993\n"
     ]
    }
   ],
   "source": [
    "data = load_data(13)\n",
    "d = convert(data)\n",
    "#fit_pts = np.concatenate([data[1:4,:],data[5:8,:]])\n",
    "#print(fit_pts)\n",
    "#P1, P2, SP1, SP2 = planes_def_PMC(data,fit_pts)\n",
    "P1, P2, SP1, SP2 = planes_def(data,d)\n",
    "print(SP1,SP2)\n"
   ]
  },
  {
   "cell_type": "code",
   "execution_count": 5,
   "metadata": {},
   "outputs": [
    {
     "name": "stdout",
     "output_type": "stream",
     "text": [
      "10.540561893588636\n"
     ]
    }
   ],
   "source": [
    "print((SP1+SP2)/2)"
   ]
  },
  {
   "cell_type": "code",
   "execution_count": 6,
   "metadata": {},
   "outputs": [],
   "source": [
    "eq_pts_transisiton_P12 = np.zeros((6,3,3))\n",
    "for i in range(6):\n",
    "    eq_pts_transisiton_P12[i] = np.array([get_plane_normal_6_cycle(P1,i),get_plane_normal_6_cycle(P1,i-1),get_plane_normal_6_cycle(P2,i)])\n",
    "\n",
    "ones = np.ones((6,3))\n",
    "pts_transisiton_P12 = np.linalg.solve(eq_pts_transisiton_P12, ones).transpose()"
   ]
  },
  {
   "cell_type": "code",
   "execution_count": 7,
   "metadata": {},
   "outputs": [
    {
     "name": "stdout",
     "output_type": "stream",
     "text": [
      "[29.7  0.   0. ]\n"
     ]
    }
   ],
   "source": [
    "data = data[0,:]\n",
    "print(data[:3])"
   ]
  },
  {
   "cell_type": "code",
   "execution_count": 8,
   "metadata": {},
   "outputs": [],
   "source": [
    "eq_pts_P2 = np.array([get_plane_normal_6_cycle(P2,0),get_plane_normal_6_cycle(P2,1),get_plane_normal_6_cycle(P2,2)])\n",
    "pts_P2 = np.linalg.solve(eq_pts_P2,np.ones((3,1)))"
   ]
  },
  {
   "cell_type": "code",
   "execution_count": 9,
   "metadata": {},
   "outputs": [],
   "source": [
    "p_trans = (pts_transisiton_P12[0,:]+pts_transisiton_P12[1,:]+pts_transisiton_P12[2,:])/3"
   ]
  },
  {
   "cell_type": "code",
   "execution_count": 10,
   "metadata": {},
   "outputs": [],
   "source": [
    "sig_pts = np.concatenate((P1.pts,P2.pts),axis=1) #miss pts_P2\n",
    "pts_with_largest_coord = sig_pts[:,np.argmax(np.max(sig_pts, axis=0))]\n",
    "dist = np.dot(np.ones(3)/np.sqrt(3),pts_with_largest_coord)*1.1"
   ]
  },
  {
   "cell_type": "code",
   "execution_count": 11,
   "metadata": {},
   "outputs": [],
   "source": [
    "pts_P1_far = p_plane_intersection_6(P1,dist)"
   ]
  },
  {
   "cell_type": "code",
   "execution_count": 12,
   "metadata": {},
   "outputs": [],
   "source": [
    "fig = plt.figure()\n",
    "ax = fig.add_subplot(111, projection='3d')\n",
    "ax.plot(d['sig2'],d['sig3'],d['sig1'],'k.')\n",
    "#ax.plot(*P1.pts,'k.')\n",
    "#ax.plot(*P2.pts,'k.')\n",
    "#ax.plot(d['sig2'],d['sig3'],d['sig1'],'k.')\n",
    "ax.plot(*pts_P2,'ko',alpha=0)\n",
    "ax.plot(*pts_transisiton_P12,'ro',alpha=alf_inter)\n",
    "ax.plot(*pts_P1_far,'bo',alpha=alf_inter)\n",
    "ax.set_xlabel('[MPa]')\n",
    "ax.set_ylabel('[MPa]')\n",
    "ax.set_zlabel('[MPa]')\n",
    "def get_verts(coord):\n",
    "    return [list(zip(*cord))]"
   ]
  },
  {
   "cell_type": "markdown",
   "metadata": {},
   "source": [
    "## Draw P2 plane"
   ]
  },
  {
   "cell_type": "code",
   "execution_count": 13,
   "metadata": {},
   "outputs": [],
   "source": [
    "for i in range(6):\n",
    "    cord = np.zeros((3,3))\n",
    "    cord[:,0] = pts_P2[:,0]\n",
    "    cord[:,1] = pts_transisiton_P12[:,i]\n",
    "    cord[:,2] = pts_transisiton_P12[:,(i+1)%6]\n",
    "    \n",
    "    verts = get_verts(cord)\n",
    "    poly = Poly3DCollection(verts,linewidths=1, alpha=alf_plane)\n",
    "    poly.set_facecolor('r')\n",
    "    ax.add_collection3d(poly)"
   ]
  },
  {
   "cell_type": "markdown",
   "metadata": {},
   "source": [
    "## Draw P1 plane"
   ]
  },
  {
   "cell_type": "code",
   "execution_count": 14,
   "metadata": {},
   "outputs": [],
   "source": [
    "for i in range(6):\n",
    "    cord = np.zeros((3,4))\n",
    "    cord[:,0] = pts_transisiton_P12[:,i]\n",
    "    cord[:,1] = pts_transisiton_P12[:,(i+1)%6]\n",
    "    cord[:,2] = pts_P1_far[:,(i+1)%6]\n",
    "    cord[:,3] = pts_P1_far[:,i%6]\n",
    "    \n",
    "    verts = get_verts(cord)\n",
    "    poly = Poly3DCollection(verts,linewidths=1, alpha=alf_plane)\n",
    "    poly.set_facecolor('b')\n",
    "    ax.add_collection3d(poly)"
   ]
  },
  {
   "cell_type": "code",
   "execution_count": 15,
   "metadata": {},
   "outputs": [],
   "source": [
    "ax.grid(b=None)\n",
    "ax.set_zticks([0,40,80,120,160])\n",
    "ax.set_xticks([0,40,80,120,160])\n",
    "ax.set_yticks([0,40,80,120,160])\n",
    "fig.show()\n",
    "#fig.savefig('3D.pdf')"
   ]
  },
  {
   "cell_type": "markdown",
   "metadata": {},
   "source": [
    "# 2D view"
   ]
  },
  {
   "cell_type": "code",
   "execution_count": 16,
   "metadata": {},
   "outputs": [],
   "source": [
    "new_base = np.zeros((3,3))\n",
    "\n",
    "new_z = np.array([1,1,1])\n",
    "new_y = np.array([-1,-1,2])\n",
    "new_x = np.array([-1,1,0])\n",
    "new_base[:,0] = new_x /np.linalg.norm(new_x )\n",
    "new_base[:,1] = new_y /np.linalg.norm(new_y )\n",
    "new_base[:,2] = new_z /np.linalg.norm(new_z )\n",
    "new_base_transform = np.linalg.inv(new_base)"
   ]
  },
  {
   "cell_type": "code",
   "execution_count": null,
   "metadata": {},
   "outputs": [],
   "source": []
  },
  {
   "cell_type": "code",
   "execution_count": 17,
   "metadata": {},
   "outputs": [],
   "source": [
    "#new_sig = new_base_transform @ sig_pts\n",
    "new_transi = new_base_transform @ pts_transisiton_P12\n",
    "new_P2 = new_base_transform @ pts_P2\n",
    "new_far_P1 = new_base_transform @ pts_P1_far"
   ]
  },
  {
   "cell_type": "code",
   "execution_count": 18,
   "metadata": {},
   "outputs": [],
   "source": [
    "transi_dist_min = np.min(new_transi[2,:])\n",
    "transi_dist_max = np.max(new_transi[2,:])\n",
    "transi_dist_mid = (transi_dist_min+transi_dist_max)/2\n",
    "near_inter = p_plane_intersection_6(P2,transi_dist_min*0.4)\n",
    "near_transP2 = p_plane_intersection_6(P2,transi_dist_mid*1)\n",
    "near_transP1 = p_plane_intersection_6(P1,transi_dist_mid*1)\n",
    "new_near = new_base_transform @ near_inter\n",
    "new_transP2 = new_base_transform @ near_transP2\n",
    "new_transP1 = new_base_transform @ near_transP1"
   ]
  },
  {
   "cell_type": "code",
   "execution_count": 19,
   "metadata": {},
   "outputs": [],
   "source": [
    "transi_dist_max = np.max(new_transi[2,:])\n",
    "t = 0.5\n",
    "dist = transi_dist_max*t + transi_dist_min*(1-t)\n",
    "#offset = 2 if np.allclose(new_transi[0,0],transi_dist_max) else 0\n",
    "offset = 2 if p_trans[0]>p_trans[1] else 0\n",
    "middle_inter = p_plane_intersection_12(P1,P2,dist,offset)\n",
    "new_middle = new_base_transform @ middle_inter"
   ]
  },
  {
   "cell_type": "code",
   "execution_count": 20,
   "metadata": {},
   "outputs": [],
   "source": [
    "o_sig = d['o'][:,:3].transpose()\n",
    "o_pts = np.zeros(o_sig.shape)\n",
    "o_pts[0,:] = o_sig[1,:]\n",
    "o_pts[1,:] = o_sig[2,:]\n",
    "o_pts[2,:] = o_sig[0,:]\n",
    "new_o_pts = new_base_transform @ o_pts"
   ]
  },
  {
   "cell_type": "code",
   "execution_count": 21,
   "metadata": {},
   "outputs": [],
   "source": [
    "p = np.unique(d['o'][:,3])\n",
    "pts_tt1p = p_planes(p[0],P1,P2,p_trans,offset)\n",
    "pts_tt2p = p_planes(p[1],P1,P2,p_trans,offset)\n",
    "pts_tt3p = p_planes(p[3],P1,P2,p_trans,offset)\n",
    "pts_tt1 = p_planes(p[2],P1,P2,p_trans,offset)"
   ]
  },
  {
   "cell_type": "code",
   "execution_count": 22,
   "metadata": {},
   "outputs": [],
   "source": [
    "new_tt1p = new_base_transform @ pts_tt1p\n",
    "new_tt2p = new_base_transform @ pts_tt2p\n",
    "new_tt3p = new_base_transform @ pts_tt3p\n",
    "new_tt1 = new_base_transform @ pts_tt1"
   ]
  },
  {
   "cell_type": "code",
   "execution_count": 23,
   "metadata": {},
   "outputs": [],
   "source": [
    "plt.close()\n",
    "#plt.axis('equal')\n",
    "p1, = plt.plot(new_o_pts[0,:3],new_o_pts[1,:3],'r*', label='p={} MPa'.format(p[0]))\n",
    "p2, = plt.plot(new_o_pts[0,3],new_o_pts[1,3],'b.',label='p={} MPa'.format(p[1]))\n",
    "p3, = plt.plot(new_o_pts[0,4:6],new_o_pts[1,4:6],'gp',label='p={} MPa'.format(p[3]))\n",
    "p4, = plt.plot(new_o_pts[0,6],new_o_pts[1,6],'yX',label='p={} MPa'.format(p[2]))\n",
    "\n",
    "#p5, = plt.fill(new_middle[0,:],new_middle[1,:],edgecolor='k',fill=False,label='12 sided - P2 and P1')\n",
    "plt.fill(new_tt1p[0,:],new_tt1p[1,:],edgecolor='r',fill=False)\n",
    "plt.fill(new_tt2p[0,:],new_tt2p[1,:],edgecolor='b',fill=False)\n",
    "plt.fill(new_tt3p[0,:],new_tt3p[1,:],edgecolor='g',fill=False)\n",
    "plt.fill(new_tt1[0,:],new_tt1[1,:],edgecolor='y',fill=False)\n",
    "plt.legend(handles=[p1, p2, p3, p4])\n",
    "x = np.linspace(0,70)\n",
    "zer = [0]*len(x)\n",
    "v = np.array([x,x,zer])\n",
    "w = new_base_transform@v\n",
    "plt.plot(w[0,:],w[1,:],'k--')\n",
    "v = np.array([x,zer,x])\n",
    "w = new_base_transform@v\n",
    "plt.plot(w[0,:],w[1,:],'k--')\n",
    "v = np.array([zer,x,x])\n",
    "w = new_base_transform@v\n",
    "plt.plot(w[0,:],w[1,:],'k--')\n",
    "\n",
    "x = np.linspace(-90,0)\n",
    "zer = [0]*len(x)\n",
    "v = np.array([x,x,zer])\n",
    "w = new_base_transform@v\n",
    "plt.plot(w[0,:],w[1,:],'k-')\n",
    "v = np.array([x,zer,x])\n",
    "w = new_base_transform@v\n",
    "plt.plot(w[0,:],w[1,:],'k-')\n",
    "v = np.array([zer,x,x])\n",
    "w = new_base_transform@v\n",
    "plt.plot(w[0,:],w[1,:],'k-')\n",
    "\n",
    "plt.xlabel('[MPa]')\n",
    "plt.ylabel('[MPa]')\n",
    "plt.axis('equal')\n",
    "#plt.axis('off')\n",
    "plt.show()"
   ]
  },
  {
   "cell_type": "code",
   "execution_count": 24,
   "metadata": {},
   "outputs": [],
   "source": [
    "plt.close()\n",
    "p1, = plt.fill(new_far_P1[0,:],new_far_P1[1,:],edgecolor='b',fill=False,label='6 sided - P1')\n",
    "p2, = plt.fill(new_near[0,:],new_near[1,:],edgecolor='r',fill=False,label='6 sided - P2')\n",
    "plt.fill(new_transP2[0,:],new_transP2[1,:],edgecolor='r',fill=False)\n",
    "plt.fill(new_transP1[0,:],new_transP1[1,:],edgecolor='b',fill=False)\n",
    "p3, = plt.fill(new_middle[0,:],new_middle[1,:],edgecolor='k',fill=False,label='12 sided - P2 and P1')\n",
    "plt.legend(handles=[p1, p2, p3])\n",
    "\n",
    "x = np.linspace(0,100)\n",
    "zer = [0]*len(x)\n",
    "v = np.array([x,x,zer])\n",
    "w = new_base_transform@v\n",
    "plt.plot(w[0,:],w[1,:],'k--')\n",
    "v = np.array([x,zer,x])\n",
    "w = new_base_transform@v\n",
    "plt.plot(w[0,:],w[1,:],'k--')\n",
    "v = np.array([zer,x,x])\n",
    "w = new_base_transform@v\n",
    "plt.plot(w[0,:],w[1,:],'k--')\n",
    "\n",
    "x = np.linspace(-110,0)\n",
    "zer = [0]*len(x)\n",
    "v = np.array([x,x,zer])\n",
    "w = new_base_transform@v\n",
    "plt.plot(w[0,:],w[1,:],'k-')\n",
    "v = np.array([x,zer,x])\n",
    "w = new_base_transform@v\n",
    "plt.plot(w[0,:],w[1,:],'k-')\n",
    "v = np.array([zer,x,x])\n",
    "w = new_base_transform@v\n",
    "plt.plot(w[0,:],w[1,:],'k-')\n",
    "\n",
    "plt.xlabel('[MPa]')\n",
    "plt.ylabel('[MPa]')\n",
    "plt.axis('equal')\n",
    "#plt.axis('off')\n",
    "plt.show()"
   ]
  },
  {
   "cell_type": "code",
   "execution_count": 48,
   "metadata": {},
   "outputs": [],
   "source": [
    "plt.close()"
   ]
  }
 ],
 "metadata": {
  "kernelspec": {
   "display_name": "Python 3",
   "language": "python",
   "name": "python3"
  },
  "language_info": {
   "codemirror_mode": {
    "name": "ipython",
    "version": 3
   },
   "file_extension": ".py",
   "mimetype": "text/x-python",
   "name": "python",
   "nbconvert_exporter": "python",
   "pygments_lexer": "ipython3",
   "version": "3.7.4"
  }
 },
 "nbformat": 4,
 "nbformat_minor": 4
}
