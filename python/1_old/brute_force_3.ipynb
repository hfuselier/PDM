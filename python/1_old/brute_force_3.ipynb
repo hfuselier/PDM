{
 "cells": [
  {
   "cell_type": "code",
   "execution_count": 1,
   "metadata": {},
   "outputs": [],
   "source": [
    "import numpy as np\n",
    "from tqdm.auto import tqdm\n",
    "from load import load_data\n",
    "from convert import convert\n",
    "from pmc2 import *"
   ]
  },
  {
   "cell_type": "code",
   "execution_count": 2,
   "metadata": {},
   "outputs": [
    {
     "name": "stdout",
     "output_type": "stream",
     "text": [
      "[ 9.9  8.3 14.8 13.4 21.  19.6 30.5 29.3 46.1 45.3 58.2 57.  69.8 68.5\n",
      " 80.7 79.4 91.3 90.3]\n",
      "[ 23.6  27.1  27.3  35.3  35.2  43.4  42.7  49.8  68.6  96.4 107.9]\n",
      "[28.3 28.3 28.3 56.  56. ]\n"
     ]
    }
   ],
   "source": [
    "data = load_data(13)\n",
    "d = convert(data)\n",
    "\n",
    "print(d['C'][:,3])\n",
    "print(d['E'][:,3])\n",
    "print(d['o'][:,3])"
   ]
  },
  {
   "cell_type": "code",
   "execution_count": 3,
   "metadata": {},
   "outputs": [],
   "source": [
    "## INITIALIZATION\n",
    "lin_C = d['pC'].size\n",
    "lin_E = d['pE'].size\n",
    "lin_o = d['po'].size\n",
    "\n",
    "data_C = get_C(data)[np.argsort(get_C(data)[:, 3])] # sorted with p (mean stress)\n",
    "data_E = get_E(data)[np.argsort(get_E(data)[:, 3])] # sorted with p (mean stress)\n",
    "data_o = get_o(data)[np.argsort(get_o(data)[:, 5])] # sorted with teta (Lodge angle)"
   ]
  },
  {
   "cell_type": "code",
   "execution_count": 4,
   "metadata": {},
   "outputs": [
    {
     "data": {
      "application/vnd.jupyter.widget-view+json": {
       "model_id": "fb20a604389c44b194dced80cbcbf1a1",
       "version_major": 2,
       "version_minor": 0
      },
      "text/plain": [
       "HBox(children=(IntProgress(value=0, max=17), HTML(value='')))"
      ]
     },
     "metadata": {},
     "output_type": "display_data"
    },
    {
     "name": "stdout",
     "output_type": "stream",
     "text": [
      "\n",
      "7.0 3.0 2.0\n"
     ]
    }
   ],
   "source": [
    "## ITERATIONS\n",
    "if lin_C == 0 :\n",
    "    mean_error, P1_E, P2_E, P1_o, P2_o, P1_C, P2_C = brute_force_two_sets(data_E,lin_E,data_o,lin_o,data_C)\n",
    "if lin_E == 0 :\n",
    "    mean_error, P1_C, P2_C, P1_o, P2_o, P1_E, P2_E = brute_force_two_sets(data_C,lin_C,data_o,lin_o,data_E)\n",
    "if lin_o == 0 :\n",
    "    mean_error, P1_C, P2_C, P1_E, P2_E, P1_o, P2_o = brute_force_two_sets(data_C,lin_C,data_E,lin_E,data_o)\n",
    "if lin_C != 0 and lin_E != 0 and lin_o != 0 :\n",
    "    mean_error, P1_C, P2_C, P1_E, P2_E, P1_o, P2_o = brute_force_three_sets(data_C,lin_C,data_E,lin_E,data_o,lin_o)"
   ]
  },
  {
   "cell_type": "code",
   "execution_count": 5,
   "metadata": {},
   "outputs": [
    {
     "name": "stdout",
     "output_type": "stream",
     "text": [
      "0.07566318839478585\n",
      "[45.68424548 32.20162158 -1.06081639 79.47893648 15.20496742 12.5475467 ]\n",
      "[13.72724253  9.5092449  -1.08953858  9.05169239 37.24904817 39.55115315]\n"
     ]
    }
   ],
   "source": [
    "## RESULTS\n",
    "print(np.nanmin(mean_error))\n",
    "P1_init, P2_init = create_P1_and_P2_iteration(P1_C,P2_C,P1_E,P2_E,P1_o,P2_o)\n",
    "\n",
    "if P1_init.Vo < P2_init.Vo :\n",
    "    P1 = P2_init\n",
    "    P2 = P1_init\n",
    "elif P1_init.Vo > P2_init.Vo :\n",
    "    P1 = P1_init\n",
    "    P2 = P2_init\n",
    "    \n",
    "print(P1.sol)\n",
    "print(P2.sol)"
   ]
  },
  {
   "cell_type": "code",
   "execution_count": 6,
   "metadata": {},
   "outputs": [
    {
     "name": "stdout",
     "output_type": "stream",
     "text": [
      "0.9971033628521127\n"
     ]
    }
   ],
   "source": [
    "## ERROR COMPUTATION\n",
    "\n",
    "## Error based on Asig1+Bsig2+Csig3=1\n",
    "P1_coeff = [P1.A,P1.B,P1.C]\n",
    "P2_coeff = [P2.A,P2.B,P2.C]\n",
    "sP1 = np.dot(np.transpose(P1.sig123),P1_coeff) #yi P1\n",
    "sP2 = np.dot(np.transpose(P2.sig123),P2_coeff) #yi P2\n",
    "sP = np.concatenate((sP1,sP2),axis=None) #yi\n",
    "nb_err = sP.size\n",
    "#print(sP)\n",
    "\n",
    "# MAPE = (1/n)*sum((ymeas-ypred)/(ymeas))*100\n",
    "#ymeas = sP\n",
    "#ypred = 1\n",
    "#Sm = 0\n",
    "#for i in range(0,nb_err-1,1) :\n",
    "#    Sm = Sm + abs((ymeas[i]-ypred)/ymeas[i])\n",
    "#MAPE = (1/nb_err)*Sm*100\n",
    "#print(MAPE)\n",
    "\n",
    "## Error based on q computation\n",
    "q_fitP1 = ((P1.bc)/(cos(P1.t)-P1.k*sin(P1.t)))*((P1.p/P1.Vo)+1)\n",
    "q_fitP2 = ((P2.bc)/(cos(P2.t)-P2.k*sin(P2.t)))*((P2.p/P2.Vo)+1)\n",
    "#print(q_fitP1)\n",
    "#print(P1.q)\n",
    "#print(q_fitP2)\n",
    "\n",
    "f_P1 = q_fitP1\n",
    "y_P1 = P1.q\n",
    "f_P2 = q_fitP2\n",
    "y_P2 = P2.q \n",
    "f = np.concatenate((f_P1,f_P2),axis=None)\n",
    "err_P1 = y_P1-f_P1\n",
    "err_P2 = y_P2-f_P2\n",
    "err = np.concatenate((err_P1,err_P2),axis=None)\n",
    "#print(err)\n",
    "\n",
    "# R^2 = 1 - SSres/SStot\n",
    "#SSres = Sum(yi-fi)^2\n",
    "nb_err = err.size\n",
    "#print(nb_err)\n",
    "SSres = 0\n",
    "for i in range(0,nb_err-1,1) :\n",
    "    SSres = SSres + (err[i])**2\n",
    "#print(SSres)\n",
    "# SStot = Sum(yi-ymean)^2\n",
    "ymean = np.mean(abs(err))\n",
    "#print(ymean)\n",
    "SStot = 0\n",
    "for i in range(0,nb_err-1,1) :\n",
    "    SStot = SStot + (f[i]-ymean)**2\n",
    "#print(SStot)\n",
    "# R^2 = 1 - SSres/SStot\n",
    "Rsqu = 1 - SSres/SStot\n",
    "print(Rsqu)\n"
   ]
  },
  {
   "cell_type": "code",
   "execution_count": null,
   "metadata": {},
   "outputs": [],
   "source": []
  },
  {
   "cell_type": "code",
   "execution_count": null,
   "metadata": {},
   "outputs": [],
   "source": []
  }
 ],
 "metadata": {
  "kernelspec": {
   "display_name": "Python 3",
   "language": "python",
   "name": "python3"
  },
  "language_info": {
   "codemirror_mode": {
    "name": "ipython",
    "version": 3
   },
   "file_extension": ".py",
   "mimetype": "text/x-python",
   "name": "python",
   "nbconvert_exporter": "python",
   "pygments_lexer": "ipython3",
   "version": "3.7.4"
  }
 },
 "nbformat": 4,
 "nbformat_minor": 4
}
