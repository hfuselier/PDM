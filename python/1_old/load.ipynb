{
 "cells": [
  {
   "cell_type": "code",
   "execution_count": 1,
   "metadata": {},
   "outputs": [],
   "source": [
    "import numpy as np"
   ]
  },
  {
   "cell_type": "code",
   "execution_count": 4,
   "metadata": {},
   "outputs": [],
   "source": [
    "file_name_list = ['DDsand.txt',\n",
    "             'Yuubarishale.txt',\n",
    "             'RedWildmoorsand.txt',\n",
    "             'Bereasand.txt',\n",
    "             'Apuliancalcarenite.txt',\n",
    "             'Indianalime.txt',\n",
    "             'Mizuhotrachyte.txt',\n",
    "             'Shirahamasand.txt',\n",
    "             'Taiwansilt.txt'\n",
    "             'Coconinosand.txt',\n",
    "             'Dunnvillesand_wTT.txt',\n",
    "             'Bentheimsand.txt',\n",
    "             'Dunnvillesand.txt']\n",
    "name_list = ['Darley Dale Sandstone',\n",
    "        'Yuubari Shale',\n",
    "        'Red Wildmoor Sandstone',\n",
    "        'Berea Sandstone',\n",
    "        'Apulian Calcarenite',\n",
    "        'Indiana Limestone',\n",
    "        'Mizuho Trachyte',\n",
    "        'Shirahama Sandstone',\n",
    "        'Taiwan Siltstone',\n",
    "        'Coconino Sandstone',\n",
    "        'Bentheim Sandstone',\n",
    "        'Dunnville Sandstone']"
   ]
  },
  {
   "cell_type": "code",
   "execution_count": 12,
   "metadata": {},
   "outputs": [],
   "source": [
    "def load_data(idx):\n",
    "    fname = file_name_list[idx-1]\n",
    "    name = name_list[idx-1]\n",
    "    data = np.loadtxt('data/{}'.format(fname))\n",
    "    return data"
   ]
  },
  {
   "cell_type": "code",
   "execution_count": null,
   "metadata": {},
   "outputs": [],
   "source": []
  }
 ],
 "metadata": {
  "kernelspec": {
   "display_name": "Python 3",
   "language": "python",
   "name": "python3"
  },
  "language_info": {
   "codemirror_mode": {
    "name": "ipython",
    "version": 3
   },
   "file_extension": ".py",
   "mimetype": "text/x-python",
   "name": "python",
   "nbconvert_exporter": "python",
   "pygments_lexer": "ipython3",
   "version": "3.7.4"
  }
 },
 "nbformat": 4,
 "nbformat_minor": 4
}
