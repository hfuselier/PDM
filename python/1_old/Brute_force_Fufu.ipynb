{
 "cells": [
  {
   "cell_type": "code",
   "execution_count": 1,
   "metadata": {},
   "outputs": [],
   "source": [
    "import numpy as np\n",
    "from tqdm.auto import tqdm\n",
    "from load import load_data\n",
    "from convert import convert\n",
    "from pmc2 import *\n"
   ]
  },
  {
   "cell_type": "code",
   "execution_count": 2,
   "metadata": {},
   "outputs": [],
   "source": [
    "data = load_data(7)\n",
    "d = convert(data)"
   ]
  },
  {
   "cell_type": "code",
   "execution_count": 3,
   "metadata": {},
   "outputs": [
    {
     "name": "stdout",
     "output_type": "stream",
     "text": [
      "[ 33.3  74.8 106.1 130.4 153.3 172.9 211.8]\n",
      "[]\n"
     ]
    }
   ],
   "source": [
    "print(d['C'][:,3])\n",
    "print(d['E'][:,3])"
   ]
  },
  {
   "cell_type": "code",
   "execution_count": 4,
   "metadata": {},
   "outputs": [
    {
     "name": "stdout",
     "output_type": "stream",
     "text": [
      "[ 33.3  74.8 106.1 130.4 153.3 172.9 211.8]\n",
      "[]\n"
     ]
    }
   ],
   "source": [
    "C_index = d['pC'].size\n",
    "E_index = d['pE'].size\n",
    "\n",
    "if C_index ==0 :\n",
    "    pC_vec = d['pC']\n",
    "elif C_index !=0 :\n",
    "    pC_vec = np.sort(d['pC'])\n",
    "    \n",
    "if E_index ==0 :\n",
    "    pE_vec = d['pE']\n",
    "elif E_index !=0 :\n",
    "    pE_vec = np.sort(d['pE'])\n",
    "\n",
    "print(pC_vec)\n",
    "print(pE_vec)\n",
    "\n",
    "if pC_vec.size == 0:\n",
    "    bpC_last = int(max(np.sort(d['p'])))+2\n",
    "    first_C = int(max(np.sort(d['p'])))+1\n",
    "    lin_C = range(first_C,bpC_last,1)\n",
    "elif pC_vec.size != 0:\n",
    "    bpC_last = int(pC_vec[C_index-1])+2\n",
    "    first_C = int(pC_vec[0])+1\n",
    "    lin_C = range(first_C,bpC_last,1)\n",
    "if pE_vec.size == 0:\n",
    "    bpE_last = int(max(np.sort(d['p'])))+2\n",
    "    first_E = int(max(np.sort(d['p'])))+1\n",
    "    lin_E = range(first_E,bpE_last,1)\n",
    "elif pE_vec.size != 0:\n",
    "    bpE_last = int(pE_vec[E_index-1])+2\n",
    "    first_E = int(pE_vec[0])+1\n",
    "    lin_E = range(first_E,bpE_last,1)\n",
    "\n",
    "nb_comb = int(len(lin_E)*len(lin_C));\n",
    "nb_comb_trio = int(len(lin_E)*len(lin_C)*len(range(1,3,1)));"
   ]
  },
  {
   "cell_type": "code",
   "execution_count": 7,
   "metadata": {},
   "outputs": [
    {
     "data": {
      "application/vnd.jupyter.widget-view+json": {
       "model_id": "e4472e67c3374d1e901ad55264dcf1ea",
       "version_major": 2,
       "version_minor": 0
      },
      "text/plain": [
       "HBox(children=(IntProgress(value=0, max=179), HTML(value='')))"
      ]
     },
     "metadata": {},
     "output_type": "display_data"
    },
    {
     "name": "stdout",
     "output_type": "stream",
     "text": [
      "\n",
      "[0.07376783 0.07376783 0.07376783 0.07376783 0.07376783 0.07376783\n",
      " 0.07376783 0.07376783 0.07376783 0.07376783 0.07376783 0.07376783\n",
      " 0.07376783 0.07376783 0.07376783 0.07376783 0.07376783 0.07376783\n",
      " 0.07376783 0.07376783 0.07376783 0.07376783 0.07376783 0.07376783\n",
      " 0.07376783 0.07376783 0.07376783 0.07376783 0.07376783 0.07376783\n",
      " 0.07376783 0.07376783 0.07376783 0.07376783 0.07376783 0.07376783\n",
      " 0.07376783 0.07376783 0.07376783 0.07376783 0.07376783 0.06552592\n",
      " 0.06552592 0.06552592 0.06552592 0.06552592 0.06552592 0.06552592\n",
      " 0.06552592 0.06552592 0.06552592 0.06552592 0.06552592 0.06552592\n",
      " 0.06552592 0.06552592 0.06552592 0.06552592 0.06552592 0.06552592\n",
      " 0.06552592 0.06552592 0.06552592 0.06552592 0.06552592 0.06552592\n",
      " 0.06552592 0.06552592 0.06552592 0.06552592 0.06552592 0.06552592\n",
      " 0.06552592 0.0651246  0.0651246  0.0651246  0.0651246  0.0651246\n",
      " 0.0651246  0.0651246  0.0651246  0.0651246  0.0651246  0.0651246\n",
      " 0.0651246  0.0651246  0.0651246  0.0651246  0.0651246  0.0651246\n",
      " 0.0651246  0.0651246  0.0651246  0.0651246  0.0651246  0.0651246\n",
      " 0.0651246  0.06519304 0.06519304 0.06519304 0.06519304 0.06519304\n",
      " 0.06519304 0.06519304 0.06519304 0.06519304 0.06519304 0.06519304\n",
      " 0.06519304 0.06519304 0.06519304 0.06519304 0.06519304 0.06519304\n",
      " 0.06519304 0.06519304 0.06519304 0.06519304 0.06519304 0.06519304\n",
      " 0.06508664 0.06508664 0.06508664 0.06508664 0.06508664 0.06508664\n",
      " 0.06508664 0.06508664 0.06508664 0.06508664 0.06508664 0.06508664\n",
      " 0.06508664 0.06508664 0.06508664 0.06508664 0.06508664 0.06508664\n",
      " 0.06508664 0.06513502 0.06513502 0.06513502 0.06513502 0.06513502\n",
      " 0.06513502 0.06513502 0.06513502 0.06513502 0.06513502 0.06513502\n",
      " 0.06513502 0.06513502 0.06513502 0.06513502 0.06513502 0.06513502\n",
      " 0.06513502 0.06513502 0.06513502 0.06513502 0.06513502 0.06513502\n",
      " 0.06513502 0.06513502 0.06513502 0.06513502 0.06513502 0.06513502\n",
      " 0.06513502 0.06513502 0.06513502 0.06513502 0.06513502 0.06513502\n",
      " 0.06513502 0.06513502 0.06513502 0.06513502 0.06652233]\n"
     ]
    }
   ],
   "source": [
    "bp_couple = np.zeros((nb_comb//1,2))\n",
    "#bp_trio = np.zeros((nb_comb_trio//1,3))\n",
    "mean_error = []\n",
    "a=0\n",
    "for i in tqdm(lin_C) :\n",
    "    for j in lin_E :\n",
    "        #for k in range(1,3,1):\n",
    "        bp_couple[a,0] = i\n",
    "        bp_couple[a,1] = j\n",
    "            #bp_trio[a,0] = i\n",
    "            #bp_trio[a,1] = j\n",
    "            #bp_trio[a,2] = k\n",
    "        P1, P2 = create_P1_and_P2_initialization(data,i,j) \n",
    "        P1_coeff = [P1.A,P1.B,P1.C]\n",
    "        P2_coeff = [P2.A,P2.B,P2.C]\n",
    "        #print(P1.sol)\n",
    "        sP1 = np.dot(np.transpose(P1.sig123),P1_coeff)\n",
    "        sP2 = np.dot(np.transpose(P2.sig123),P2_coeff)\n",
    "        errP1 = abs(1-sP1)\n",
    "        errP2 = abs(1-sP2)\n",
    "        sumP1 = np.sum(errP1)\n",
    "        sumP2 = np.sum(errP2)\n",
    "        mean_error.append((sumP1 + sumP2)/(len(errP1)+len(errP2)))\n",
    "        a=a+1\n",
    "        \n",
    "mean_error = np.array(mean_error)\n",
    "print(mean_error)\n",
    "min_error_index = np.nanargmin(mean_error)"
   ]
  },
  {
   "cell_type": "code",
   "execution_count": 6,
   "metadata": {},
   "outputs": [
    {
     "name": "stdout",
     "output_type": "stream",
     "text": [
      "154.0 333.0\n"
     ]
    }
   ],
   "source": [
    "bpC, bpE = bp_couple[min_error_index]\n",
    "print(bpC,bpE)\n"
   ]
  },
  {
   "cell_type": "code",
   "execution_count": null,
   "metadata": {},
   "outputs": [],
   "source": []
  },
  {
   "cell_type": "code",
   "execution_count": null,
   "metadata": {},
   "outputs": [],
   "source": []
  },
  {
   "cell_type": "code",
   "execution_count": null,
   "metadata": {},
   "outputs": [],
   "source": []
  }
 ],
 "metadata": {
  "kernelspec": {
   "display_name": "Python 3",
   "language": "python",
   "name": "python3"
  },
  "language_info": {
   "codemirror_mode": {
    "name": "ipython",
    "version": 3
   },
   "file_extension": ".py",
   "mimetype": "text/x-python",
   "name": "python",
   "nbconvert_exporter": "python",
   "pygments_lexer": "ipython3",
   "version": "3.7.4"
  }
 },
 "nbformat": 4,
 "nbformat_minor": 4
}
