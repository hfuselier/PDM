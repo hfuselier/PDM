{
 "cells": [
  {
   "cell_type": "code",
   "execution_count": 5,
   "metadata": {},
   "outputs": [],
   "source": [
    "import numpy as np\n",
    "from load import load_data\n",
    "from collections import defaultdict"
   ]
  },
  {
   "cell_type": "code",
   "execution_count": 6,
   "metadata": {},
   "outputs": [],
   "source": [
    "data = load_data(7)\n",
    "row = data.shape[0]"
   ]
  },
  {
   "cell_type": "code",
   "execution_count": 7,
   "metadata": {},
   "outputs": [],
   "source": [
    "p = data[:,3]\n",
    "q = data[:,4]"
   ]
  },
  {
   "cell_type": "code",
   "execution_count": 8,
   "metadata": {},
   "outputs": [],
   "source": [
    "sig = {}\n",
    "sig[1] = data[:,0]\n",
    "sig[2] = data[:,1]\n",
    "sig[3] = data[:,2]"
   ]
  },
  {
   "cell_type": "code",
   "execution_count": 9,
   "metadata": {},
   "outputs": [],
   "source": [
    "filter_ = {}\n",
    "\n",
    "filter_['E'] = data[data[:,5] == 60]\n",
    "filter_['C'] = data[data[:,5] == 0]\n",
    "filter_['o'] = data[np.logical_and(data[:,5] != 60 , data[:,5] != 0)]"
   ]
  },
  {
   "cell_type": "code",
   "execution_count": 10,
   "metadata": {},
   "outputs": [],
   "source": [
    "d = {}\n",
    "for G in ('E','C','o') :\n",
    "    d['q'+ G] = filter_[G][:,4]\n",
    "    d['p'+ G] = filter_[G][:,3]\n",
    "    d['t'+ G] = filter_[G][:,5]\n",
    "for i in range(3):\n",
    "    d['s'+str(i+1)+'o'] = filter_['o'][:i]"
   ]
  },
  {
   "cell_type": "code",
   "execution_count": 11,
   "metadata": {},
   "outputs": [],
   "source": [
    "for i in range(1,4):\n",
    "    d['sig'+str(i)] = data[:,i-1]"
   ]
  },
  {
   "cell_type": "code",
   "execution_count": 12,
   "metadata": {},
   "outputs": [
    {
     "data": {
      "text/plain": [
       "{'qE': array([], dtype=float64),\n",
       " 'pE': array([], dtype=float64),\n",
       " 'tE': array([], dtype=float64),\n",
       " 'qC': array([100. , 179.3, 228.3, 256.3, 280. , 293.7, 335.3]),\n",
       " 'pC': array([ 33.3,  74.8, 106.1, 130.4, 153.3, 172.9, 211.8]),\n",
       " 'tC': array([0., 0., 0., 0., 0., 0., 0.]),\n",
       " 'qo': array([261.4, 269.9, 273.9, 267. , 272. , 289.8, 294.4, 282.8, 295.6,\n",
       "        299.5, 298.3, 297.5, 292. , 314.3, 312.2, 317.4, 316.5, 314.4,\n",
       "        342.1, 348.7, 362.8, 345.4, 367.8, 365.4]),\n",
       " 'po': array([138.6, 146.1, 158.3, 177.3, 203.2, 231.6, 240.4, 165.4, 192.7,\n",
       "        215.8, 225.3, 239.4, 249.8, 195.6, 212.7, 240.9, 264.5, 274.7,\n",
       "        297.5, 229. , 254.4, 284.4, 325.8, 332.5]),\n",
       " 'to': array([ 2.5,  4.2,  8.4, 17.3, 30.7, 45. , 54.6,  4. , 12.3, 21.3, 26.2,\n",
       "        34.7, 47.1,  5.1, 11.4, 21.6, 33.9, 42.3, 47.3,  3.7,  9.7, 23.2,\n",
       "        37.1, 42.7]),\n",
       " 's1o': array([], shape=(0, 6), dtype=float64),\n",
       " 's2o': array([[312.7,  58.1,  45. , 138.6, 261.4,   2.5]]),\n",
       " 's3o': array([[312.7,  58.1,  45. , 138.6, 261.4,   2.5],\n",
       "        [325.5,  67.7,  45. , 146.1, 269.9,   4.2]]),\n",
       " 'sig1': array([100. , 194.3, 258.3, 301.3, 312.7, 325.5, 338.9, 349.1, 359.1,\n",
       "        368.2, 354. , 340. , 353.4, 385.2, 401.8, 403.7, 402.4, 382.3,\n",
       "        368.7, 404.3, 416.7, 437.6, 439.6, 429.7, 452.2, 435.3, 461. ,\n",
       "        492.8, 496. , 521.4, 511.7]),\n",
       " 'sig2': array([  0. ,  15. ,  30. ,  45. ,  58.1,  67.7,  90.9, 137.8, 205.4,\n",
       "        281.7, 322.1,  60. ,  82.7, 132.9, 185.6, 212.1, 255.8, 307. ,\n",
       "         75. , 107.5, 146.5, 210. , 278.9, 319.5, 365.2, 100. , 126. ,\n",
       "        170.4, 257.3, 356. , 385.9]),\n",
       " 'sig3': array([  0.,  15.,  30.,  45.,  45.,  45.,  45.,  45.,  45.,  45.,  45.,\n",
       "         60.,  60.,  60.,  60.,  60.,  60.,  60.,  75.,  75.,  75.,  75.,\n",
       "         75.,  75.,  75., 100., 100., 100., 100., 100., 100.])}"
      ]
     },
     "execution_count": 12,
     "metadata": {},
     "output_type": "execute_result"
    }
   ],
   "source": [
    "d['conf'] = np.unique(d['sig3'])"
   ]
  },
  {
   "cell_type": "code",
   "execution_count": null,
   "metadata": {},
   "outputs": [],
   "source": []
  }
 ],
 "metadata": {
  "kernelspec": {
   "display_name": "Python 3",
   "language": "python",
   "name": "python3"
  },
  "language_info": {
   "codemirror_mode": {
    "name": "ipython",
    "version": 3
   },
   "file_extension": ".py",
   "mimetype": "text/x-python",
   "name": "python",
   "nbconvert_exporter": "python",
   "pygments_lexer": "ipython3",
   "version": "3.7.4"
  }
 },
 "nbformat": 4,
 "nbformat_minor": 4
}
