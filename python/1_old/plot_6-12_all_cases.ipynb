{
 "cells": [
  {
   "cell_type": "code",
   "execution_count": 1,
   "metadata": {},
   "outputs": [],
   "source": [
    "import numpy as np\n",
    "from load import load_data\n",
    "from convert import convert\n",
    "from pmc2 import *"
   ]
  },
  {
   "cell_type": "code",
   "execution_count": 2,
   "metadata": {},
   "outputs": [],
   "source": [
    "#%matplotlib widget\n",
    "#matplotlib inline\n",
    "%matplotlib qt\n",
    "#%matplotlib gtk\n",
    "\n",
    "import matplotlib.pyplot as plt\n",
    "import matplotlib.font_manager\n",
    "\n",
    "from mpl_toolkits.mplot3d import Axes3D\n",
    "from mpl_toolkits.mplot3d.art3d import Poly3DCollection\n",
    "\n",
    "plt.rcParams.update({\n",
    "    'pgf.rcfonts': False,\n",
    "})\n",
    "\n",
    "plt.rcParams['font.family'] = 'serif'\n",
    "\n",
    "from matplotlib.backends.backend_pgf import FigureCanvasPgf\n",
    "matplotlib.backend_bases.register_backend('pdf', FigureCanvasPgf)"
   ]
  },
  {
   "cell_type": "code",
   "execution_count": null,
   "metadata": {},
   "outputs": [],
   "source": []
  },
  {
   "cell_type": "code",
   "execution_count": 3,
   "metadata": {},
   "outputs": [],
   "source": [
    "bpC = 150 #CT Compression data Break Point in p-q plane\n",
    "bpE = 158 #CT Extension data Break Point in p-q plane "
   ]
  },
  {
   "cell_type": "code",
   "execution_count": 4,
   "metadata": {},
   "outputs": [],
   "source": [
    "data = load_data(9)\n",
    "d = convert(data)\n",
    "P1, P2 = create_P1_and_P2(data,bpC,bpE)\n",
    "P1_init, P2_init = create_P1_and_P2(data,bpC,bpE)\n",
    "#print(P1.sol)\n",
    "#print(P2.sol)\n",
    "#if P1_init.Vo <= P2_init.Vo :\n",
    "#    P1 = P2_init\n",
    "#    P2 = P1_init\n",
    "#elif P1_init.Vo >= P2_init.Vo :\n",
    "#    P1 = P1_init\n",
    "#    P2 = P2_init\n",
    "#print(P1.sol)"
   ]
  },
  {
   "cell_type": "markdown",
   "metadata": {},
   "source": [
    "in this situation $\\phi_C^1 > \\phi_C^2$ in this situation. planes P1 and P2 in zone 0, 2 and 4 do not intersect\n",
    "\n",
    "if $\\phi_E^1 > \\phi_E^2$ planes P1 and P2 in zone 1, 3 and 5 do not intersect"
   ]
  },
  {
   "cell_type": "code",
   "execution_count": 5,
   "metadata": {},
   "outputs": [
    {
     "name": "stdout",
     "output_type": "stream",
     "text": [
      "P1 P2\n",
      "19.110608285284137 30.436670603567013\n",
      "16.69243443141745 30.85512943822601\n"
     ]
    }
   ],
   "source": [
    "print('P1 P2\\n{} {}\\n{} {}'.format(P1.phyC*180/pi,P2.phyC*180/pi,P1.phyE*180/pi,P2.phyE*180/pi))"
   ]
  },
  {
   "cell_type": "code",
   "execution_count": 6,
   "metadata": {},
   "outputs": [],
   "source": [
    "special_case_phyC = P1.phyC > P2.phyC\n",
    "special_case_phyE = P1.phyE > P2.phyE"
   ]
  },
  {
   "cell_type": "code",
   "execution_count": 7,
   "metadata": {},
   "outputs": [
    {
     "name": "stdout",
     "output_type": "stream",
     "text": [
      "P1 < P2 ?\n",
      "phyC : False\n",
      "phyE : False\n"
     ]
    }
   ],
   "source": [
    "print('P1 < P2 ?\\nphyC : {}\\nphyE : {}'.format(special_case_phyC,special_case_phyE))"
   ]
  },
  {
   "cell_type": "code",
   "execution_count": 8,
   "metadata": {},
   "outputs": [
    {
     "name": "stdout",
     "output_type": "stream",
     "text": [
      "V0 P1 : 181.66296296276897\n",
      "V0 P2 : 50.01858666022968\n"
     ]
    }
   ],
   "source": [
    "print('V0 P1 : {}\\nV0 P2 : {}'.format(P1.Vo,P2.Vo))"
   ]
  },
  {
   "cell_type": "code",
   "execution_count": 9,
   "metadata": {},
   "outputs": [
    {
     "name": "stdout",
     "output_type": "stream",
     "text": [
      "you shouldn't be here\n",
      "offset = None\n"
     ]
    }
   ],
   "source": [
    "offset = None\n",
    "if special_case_phyC:\n",
    "    offset = 0\n",
    "elif special_case_phyE:\n",
    "    offset = 0\n",
    "else:\n",
    "    print(\"you shouldn't be here\")\n",
    "print('offset = {}'.format(offset))"
   ]
  },
  {
   "cell_type": "markdown",
   "metadata": {},
   "source": [
    "## 3D plot | Calculating intersections"
   ]
  },
  {
   "cell_type": "markdown",
   "metadata": {},
   "source": [
    "### P1 P2 transition points"
   ]
  },
  {
   "cell_type": "code",
   "execution_count": 10,
   "metadata": {},
   "outputs": [
    {
     "ename": "TypeError",
     "evalue": "unsupported operand type(s) for -: 'int' and 'NoneType'",
     "output_type": "error",
     "traceback": [
      "\u001b[0;31m---------------------------------------------------------------------------\u001b[0m",
      "\u001b[0;31mTypeError\u001b[0m                                 Traceback (most recent call last)",
      "\u001b[0;32m<ipython-input-10-29788edfc54a>\u001b[0m in \u001b[0;36m<module>\u001b[0;34m\u001b[0m\n\u001b[1;32m      2\u001b[0m \u001b[0;34m\u001b[0m\u001b[0m\n\u001b[1;32m      3\u001b[0m \u001b[0;32mfor\u001b[0m \u001b[0mi\u001b[0m \u001b[0;32min\u001b[0m \u001b[0mrange\u001b[0m\u001b[0;34m(\u001b[0m\u001b[0;36m6\u001b[0m\u001b[0;34m)\u001b[0m\u001b[0;34m:\u001b[0m\u001b[0;34m\u001b[0m\u001b[0;34m\u001b[0m\u001b[0m\n\u001b[0;32m----> 4\u001b[0;31m     \u001b[0meq_pts_transisiton_P12\u001b[0m\u001b[0;34m[\u001b[0m\u001b[0;34m(\u001b[0m\u001b[0mi\u001b[0m\u001b[0;34m-\u001b[0m\u001b[0moffset\u001b[0m\u001b[0;34m)\u001b[0m\u001b[0;34m%\u001b[0m\u001b[0;36m6\u001b[0m\u001b[0;34m]\u001b[0m \u001b[0;34m=\u001b[0m \u001b[0mnp\u001b[0m\u001b[0;34m.\u001b[0m\u001b[0marray\u001b[0m\u001b[0;34m(\u001b[0m\u001b[0;34m[\u001b[0m\u001b[0mget_plane_normal_6_cycle\u001b[0m\u001b[0;34m(\u001b[0m\u001b[0mP1\u001b[0m\u001b[0;34m,\u001b[0m\u001b[0mi\u001b[0m\u001b[0;34m)\u001b[0m\u001b[0;34m,\u001b[0m\u001b[0mget_plane_normal_6_cycle\u001b[0m\u001b[0;34m(\u001b[0m\u001b[0mP1\u001b[0m\u001b[0;34m,\u001b[0m\u001b[0mi\u001b[0m\u001b[0;34m-\u001b[0m\u001b[0;36m1\u001b[0m\u001b[0;34m)\u001b[0m\u001b[0;34m,\u001b[0m\u001b[0mget_plane_normal_6_cycle\u001b[0m\u001b[0;34m(\u001b[0m\u001b[0mP2\u001b[0m\u001b[0;34m,\u001b[0m\u001b[0mi\u001b[0m\u001b[0;34m)\u001b[0m\u001b[0;34m]\u001b[0m\u001b[0;34m)\u001b[0m\u001b[0;34m\u001b[0m\u001b[0;34m\u001b[0m\u001b[0m\n\u001b[0m\u001b[1;32m      5\u001b[0m \u001b[0;34m\u001b[0m\u001b[0m\n\u001b[1;32m      6\u001b[0m \u001b[0mones\u001b[0m \u001b[0;34m=\u001b[0m \u001b[0mnp\u001b[0m\u001b[0;34m.\u001b[0m\u001b[0mones\u001b[0m\u001b[0;34m(\u001b[0m\u001b[0;34m(\u001b[0m\u001b[0;36m6\u001b[0m\u001b[0;34m,\u001b[0m\u001b[0;36m3\u001b[0m\u001b[0;34m)\u001b[0m\u001b[0;34m)\u001b[0m\u001b[0;34m\u001b[0m\u001b[0;34m\u001b[0m\u001b[0m\n",
      "\u001b[0;31mTypeError\u001b[0m: unsupported operand type(s) for -: 'int' and 'NoneType'"
     ]
    }
   ],
   "source": [
    "eq_pts_transisiton_P12 = np.zeros((6,3,3))\n",
    "\n",
    "for i in range(6):\n",
    "    eq_pts_transisiton_P12[(i-offset)%6] = np.array([get_plane_normal_6_cycle(P1,i),get_plane_normal_6_cycle(P1,i-1),get_plane_normal_6_cycle(P2,i)])\n",
    "    \n",
    "ones = np.ones((6,3))\n",
    "\n",
    "pts_transisiton_P12 = np.linalg.solve(eq_pts_transisiton_P12, ones).transpose()\n",
    "print(pts_transisiton_P12)"
   ]
  },
  {
   "cell_type": "code",
   "execution_count": null,
   "metadata": {},
   "outputs": [],
   "source": [
    "if offset == 0:\n",
    "    pts_transisiton_P12 = pts_transisiton_P12[:,1::2]\n",
    "elif offset == 2:\n",
    "    pts_transisiton_P12 = pts_transisiton_P12[:,::2]\n",
    "print(pts_transisiton_P12)\n",
    "#assert(pts_transisiton_P12.shape==(3,3))"
   ]
  },
  {
   "cell_type": "markdown",
   "metadata": {},
   "source": [
    "$V_0^2$"
   ]
  },
  {
   "cell_type": "code",
   "execution_count": 12,
   "metadata": {},
   "outputs": [],
   "source": [
    "eq_pts_P2 = np.array([get_plane_normal_6_cycle(P2,0),get_plane_normal_6_cycle(P2,1),get_plane_normal_6_cycle(P2,2)])\n",
    "pts_P2 = np.linalg.solve(eq_pts_P2,np.ones((3,1)))"
   ]
  },
  {
   "cell_type": "markdown",
   "metadata": {},
   "source": [
    "### Intersection with far plane"
   ]
  },
  {
   "cell_type": "code",
   "execution_count": null,
   "metadata": {},
   "outputs": [],
   "source": []
  },
  {
   "cell_type": "code",
   "execution_count": 13,
   "metadata": {},
   "outputs": [],
   "source": [
    "def p_plane_intersection_12(P1,P2,plane_dist,offset):\n",
    "    p_plane_n = np.ones(3)/np.sqrt(3)\n",
    "    p_plane_o = p_plane_n*plane_dist\n",
    "    \n",
    "    eq = np.zeros((12,3,3))\n",
    "    b = np.array([[1,1,np.dot(p_plane_n,p_plane_o)]])\n",
    "    \n",
    "    for i in range(12):\n",
    "        eq[i] = np.array([get_plane_normal_12_cycle(P1,P2,i,offset),get_plane_normal_12_cycle(P1,P2,i-1,offset),p_plane_n])\n",
    "        \n",
    "    pts = np.linalg.solve(eq,b).transpose()\n",
    "    return pts\n",
    "    \n",
    "    "
   ]
  },
  {
   "cell_type": "code",
   "execution_count": 14,
   "metadata": {},
   "outputs": [],
   "source": [
    "sig_pts = np.concatenate((P1.pts,P2.pts),axis=1)\n",
    "all_pts = np.concatenate((sig_pts,pts_transisiton_P12,pts_P2),axis=1) #miss pts_P2\n",
    "pts_with_largest_coord = 1*all_pts[:,np.argmax(np.max(all_pts, axis=0))]\n",
    "pts_with_largest_coord *= 1.1"
   ]
  },
  {
   "cell_type": "code",
   "execution_count": 15,
   "metadata": {},
   "outputs": [],
   "source": [
    "dist = np.dot(np.ones(3)/np.sqrt(3),pts_with_largest_coord)\n",
    "pts_far = p_plane_intersection_12(P1,P2,dist,offset)"
   ]
  },
  {
   "cell_type": "code",
   "execution_count": 16,
   "metadata": {},
   "outputs": [
    {
     "data": {
      "text/plain": [
       "[<mpl_toolkits.mplot3d.art3d.Line3D at 0x11cac03d0>]"
      ]
     },
     "execution_count": 16,
     "metadata": {},
     "output_type": "execute_result"
    }
   ],
   "source": [
    "fig = plt.figure()\n",
    "ax = fig.add_subplot(111, projection='3d')\n",
    "#ax.set_aspect('equal')\n",
    "ax.plot(d['sig2'],d['sig3'],d['sig1'],'k.')"
   ]
  },
  {
   "cell_type": "code",
   "execution_count": 17,
   "metadata": {},
   "outputs": [
    {
     "data": {
      "text/plain": [
       "[<mpl_toolkits.mplot3d.art3d.Line3D at 0x121531590>]"
      ]
     },
     "execution_count": 17,
     "metadata": {},
     "output_type": "execute_result"
    }
   ],
   "source": [
    "ax.plot(*pts_transisiton_P12[:,:], 'ro',alpha=1)\n",
    "#ax.plot(*pts_transisiton_P12[:,-1:], 'yo',alpha=1)\n",
    "ax.plot(*pts_P2,'ko',alpha=1)\n",
    "ax.plot(*pts_far,'bo',alpha=1)"
   ]
  },
  {
   "cell_type": "code",
   "execution_count": null,
   "metadata": {},
   "outputs": [],
   "source": []
  },
  {
   "cell_type": "code",
   "execution_count": 18,
   "metadata": {},
   "outputs": [],
   "source": [
    "def get_verts(cord):\n",
    "    return [list(zip(*cord))]"
   ]
  },
  {
   "cell_type": "markdown",
   "metadata": {},
   "source": [
    "## Draw P2 planes"
   ]
  },
  {
   "cell_type": "code",
   "execution_count": 19,
   "metadata": {},
   "outputs": [],
   "source": [
    "for i in range(3):\n",
    "    cord_l = np.zeros((3,4))\n",
    "    cord_r = np.zeros((3,4))\n",
    "    far_pts_inter_P2_idx = i*4\n",
    "    cord_r[:,0] = pts_P2[:,0]\n",
    "    cord_r[:,1] = pts_transisiton_P12[:,i] \n",
    "    cord_r[:,2] = pts_far[:,(far_pts_inter_P2_idx+1)%12]\n",
    "    cord_r[:,3] = pts_far[:,far_pts_inter_P2_idx]\n",
    "    \n",
    "    cord_l[:,0] = pts_P2[:,0]\n",
    "    cord_l[:,1] = pts_transisiton_P12[:,(i-1)%3] \n",
    "    cord_l[:,2] = pts_far[:,(far_pts_inter_P2_idx-1)%12]\n",
    "    cord_l[:,3] = pts_far[:,far_pts_inter_P2_idx]\n",
    "    \n",
    "    verts = get_verts(cord_r)\n",
    "    poly = Poly3DCollection(verts,linewidths=1, alpha=0.2)\n",
    "    poly.set_facecolor('r')\n",
    "    ax.add_collection3d(poly)\n",
    "    \n",
    "    verts = get_verts(cord_l)\n",
    "    poly = Poly3DCollection(verts,linewidths=1, alpha=0.2)\n",
    "    poly.set_facecolor('r')\n",
    "    ax.add_collection3d(poly)"
   ]
  },
  {
   "cell_type": "markdown",
   "metadata": {},
   "source": [
    "## Draw P1 planes"
   ]
  },
  {
   "cell_type": "code",
   "execution_count": 20,
   "metadata": {},
   "outputs": [],
   "source": [
    "for i in range(3):\n",
    "    cord_l = np.zeros((3,3))\n",
    "    cord_r = np.zeros((3,3))\n",
    "    far_pts_inter_P2_idx = i*4 + 2\n",
    "    cord_r[:,0] = pts_transisiton_P12[:,i] \n",
    "    cord_r[:,1] = pts_far[:,(far_pts_inter_P2_idx+1)%12]\n",
    "    cord_r[:,2] = pts_far[:,far_pts_inter_P2_idx]\n",
    "\n",
    "    cord_l[:,0] = pts_transisiton_P12[:,i] \n",
    "    cord_l[:,1] = pts_far[:,(far_pts_inter_P2_idx-1)%12]\n",
    "    cord_l[:,2] = pts_far[:,far_pts_inter_P2_idx]\n",
    "    \n",
    "    verts = get_verts(cord_r)\n",
    "    poly = Poly3DCollection(verts,linewidths=1, alpha=0.2)\n",
    "    poly.set_facecolor('b')\n",
    "    ax.add_collection3d(poly)\n",
    "    \n",
    "    verts = get_verts(cord_l)\n",
    "    poly = Poly3DCollection(verts,linewidths=1, alpha=0.2)\n",
    "    poly.set_facecolor('b')\n",
    "    ax.add_collection3d(poly)"
   ]
  },
  {
   "cell_type": "code",
   "execution_count": 21,
   "metadata": {},
   "outputs": [],
   "source": [
    "#ax.set_aspect('equal')\n",
    "fig.show()"
   ]
  },
  {
   "cell_type": "code",
   "execution_count": null,
   "metadata": {},
   "outputs": [],
   "source": []
  },
  {
   "cell_type": "markdown",
   "metadata": {},
   "source": [
    "# 2D view"
   ]
  },
  {
   "cell_type": "code",
   "execution_count": 26,
   "metadata": {},
   "outputs": [],
   "source": [
    "new_base = np.zeros((3,3))\n",
    "\n",
    "new_z = np.array([1,1,1])\n",
    "new_y = np.array([-1,-1,2])\n",
    "new_x = np.array([-1,1,0])\n",
    "new_base[:,0] = new_x /np.linalg.norm(new_x )\n",
    "new_base[:,1] = new_y /np.linalg.norm(new_y )\n",
    "new_base[:,2] = new_z /np.linalg.norm(new_z )\n",
    "new_base_transform = np.linalg.inv(new_base)"
   ]
  },
  {
   "cell_type": "code",
   "execution_count": 27,
   "metadata": {},
   "outputs": [],
   "source": [
    "new_sig_pts = new_base_transform @ sig_pts\n",
    "new_P2 = new_base_transform @ pts_P2\n",
    "new_transi = new_base_transform @ pts_transisiton_P12\n",
    "new_far = new_base_transform @ pts_far"
   ]
  },
  {
   "cell_type": "code",
   "execution_count": 28,
   "metadata": {},
   "outputs": [],
   "source": [
    "transi_dist = new_transi[2,2]\n",
    "near_inter = p_plane_intersection_6(P2,transi_dist*0.99)\n",
    "new_near = new_base_transform @ near_inter"
   ]
  },
  {
   "cell_type": "code",
   "execution_count": 29,
   "metadata": {},
   "outputs": [
    {
     "data": {
      "text/plain": [
       "[<matplotlib.patches.Polygon at 0x122f1dfd0>]"
      ]
     },
     "execution_count": 29,
     "metadata": {},
     "output_type": "execute_result"
    }
   ],
   "source": [
    "plt.close()\n",
    "#plt.axis('equal')\n",
    "plt.plot(new_P2[0,:],new_P2[1,:],'r.')\n",
    "plt.plot(new_sig_pts[0,:],new_sig_pts[1,:],'k.')\n",
    "plt.fill(new_far[0,:],new_far[1,:],edgecolor='b',fill=False)\n",
    "plt.fill(new_near[0,:],new_near[1,:],edgecolor='r',fill=False)"
   ]
  },
  {
   "cell_type": "code",
   "execution_count": 26,
   "metadata": {},
   "outputs": [
    {
     "data": {
      "text/plain": [
       "array([41.42024211, 22.75859844, -1.52418406, 22.17600714, 45.41359589,\n",
       "       38.24425525])"
      ]
     },
     "execution_count": 26,
     "metadata": {},
     "output_type": "execute_result"
    }
   ],
   "source": [
    "P1.sol"
   ]
  },
  {
   "cell_type": "code",
   "execution_count": 27,
   "metadata": {},
   "outputs": [
    {
     "data": {
      "text/plain": [
       "array([41.2051625 , 31.24259624, -0.94555849, 27.18533908, 37.23010391,\n",
       "       45.29694948])"
      ]
     },
     "execution_count": 27,
     "metadata": {},
     "output_type": "execute_result"
    }
   ],
   "source": [
    "P2.sol"
   ]
  },
  {
   "cell_type": "code",
   "execution_count": null,
   "metadata": {},
   "outputs": [],
   "source": []
  },
  {
   "cell_type": "code",
   "execution_count": null,
   "metadata": {},
   "outputs": [],
   "source": []
  },
  {
   "cell_type": "code",
   "execution_count": null,
   "metadata": {},
   "outputs": [],
   "source": []
  }
 ],
 "metadata": {
  "kernelspec": {
   "display_name": "Python 3",
   "language": "python",
   "name": "python3"
  },
  "language_info": {
   "codemirror_mode": {
    "name": "ipython",
    "version": 3
   },
   "file_extension": ".py",
   "mimetype": "text/x-python",
   "name": "python",
   "nbconvert_exporter": "python",
   "pygments_lexer": "ipython3",
   "version": "3.7.4"
  }
 },
 "nbformat": 4,
 "nbformat_minor": 4
}
