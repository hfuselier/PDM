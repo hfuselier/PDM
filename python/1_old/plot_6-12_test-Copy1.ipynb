{
 "cells": [
  {
   "cell_type": "code",
   "execution_count": 1,
   "metadata": {},
   "outputs": [],
   "source": [
    "import numpy as np\n",
    "from load import load_data\n",
    "from convert import convert\n",
    "from pmc import *"
   ]
  },
  {
   "cell_type": "code",
   "execution_count": 2,
   "metadata": {},
   "outputs": [],
   "source": [
    "#%matplotlib widget\n",
    "#%matplotlib inline\n",
    "%matplotlib qt\n",
    "#%matplotlib gtk\n",
    "\n",
    "import matplotlib.pyplot as plt\n",
    "import matplotlib.font_manager\n",
    "\n",
    "from mpl_toolkits.mplot3d import Axes3D\n",
    "from mpl_toolkits.mplot3d.art3d import Poly3DCollection\n",
    "\n",
    "plt.rcParams.update({\n",
    "    'pgf.rcfonts': False,\n",
    "})\n",
    "\n",
    "plt.rcParams['font.family'] = 'serif'\n",
    "\n",
    "from matplotlib.backends.backend_pgf import FigureCanvasPgf\n",
    "matplotlib.backend_bases.register_backend('pdf', FigureCanvasPgf)"
   ]
  },
  {
   "cell_type": "code",
   "execution_count": null,
   "metadata": {},
   "outputs": [],
   "source": []
  },
  {
   "cell_type": "code",
   "execution_count": 3,
   "metadata": {},
   "outputs": [],
   "source": [
    "bpC = 400 #CT Compression data Break Point in p-q plane\n",
    "bpE = 150 #CT Extension data Break Point in p-q plane "
   ]
  },
  {
   "cell_type": "code",
   "execution_count": 4,
   "metadata": {},
   "outputs": [],
   "source": [
    "data = load_data(9)\n",
    "d = convert(data)\n",
    "P1, P2 = create_P1_and_P2(d,bpC,bpE)"
   ]
  },
  {
   "cell_type": "markdown",
   "metadata": {},
   "source": [
    "in this situation $\\phi_C^1 > \\phi_C^2$ in this situation. planes P1 and P2 in zone 0, 2 and 4 do not intersect\n",
    "\n",
    "if $\\phi_E^1 > \\phi_E^2$ planes P1 and P2 in zone 1, 3 and 5 do not intersect"
   ]
  },
  {
   "cell_type": "code",
   "execution_count": 5,
   "metadata": {},
   "outputs": [
    {
     "name": "stdout",
     "output_type": "stream",
     "text": [
      "P1 P2\n",
      "31.463314872369153 29.890501808856005\n",
      "27.819624911617833 41.69821864862035\n"
     ]
    }
   ],
   "source": [
    "print('P1 P2\\n{} {}\\n{} {}'.format(P1['phyC']*180/pi,P2['phyC']*180/pi,P1['phyE']*180/pi,P2['phyE']*180/pi))"
   ]
  },
  {
   "cell_type": "code",
   "execution_count": 6,
   "metadata": {},
   "outputs": [],
   "source": [
    "special_case_phyC = P1['phyC'] > P2['phyC']\n",
    "special_case_phyE = P1['phyE'] > P2['phyE']"
   ]
  },
  {
   "cell_type": "code",
   "execution_count": 7,
   "metadata": {},
   "outputs": [
    {
     "name": "stdout",
     "output_type": "stream",
     "text": [
      "P1 < P2 ?\n",
      "phyC : True\n",
      "phyE : False\n"
     ]
    }
   ],
   "source": [
    "print('P1 < P2 ?\\nphyC : {}\\nphyE : {}'.format(special_case_phyC,special_case_phyE))"
   ]
  },
  {
   "cell_type": "markdown",
   "metadata": {},
   "source": [
    "## Calculating intersections"
   ]
  },
  {
   "cell_type": "markdown",
   "metadata": {},
   "source": [
    "### P1 P2 transition points"
   ]
  },
  {
   "cell_type": "code",
   "execution_count": 8,
   "metadata": {},
   "outputs": [],
   "source": [
    "eq_pts_transisiton_P12 = np.zeros((6,3,3))\n",
    "\n",
    "for i in range(6):\n",
    "    eq_pts_transisiton_P12[i] = np.array([get_plane_n(P1,i),get_plane_n(P1,i-1),get_plane_n(P2,i)])\n",
    "    \n",
    "ones = np.ones((6,3))\n",
    "\n",
    "pts_transisiton_P12 = np.linalg.solve(eq_pts_transisiton_P12, ones).transpose()"
   ]
  },
  {
   "cell_type": "code",
   "execution_count": 9,
   "metadata": {},
   "outputs": [
    {
     "name": "stdout",
     "output_type": "stream",
     "text": [
      "[[ 18.3606332   18.3606332  -32.14509724]\n",
      " [-32.14509724  18.3606332   18.3606332 ]\n",
      " [ 18.3606332  -32.14509724  18.3606332 ]]\n"
     ]
    }
   ],
   "source": [
    "pts_transisiton_P12 = pts_transisiton_P12[:,1::2]\n",
    "print(pts_transisiton_P12)"
   ]
  },
  {
   "cell_type": "markdown",
   "metadata": {},
   "source": [
    "$V_0^2$"
   ]
  },
  {
   "cell_type": "code",
   "execution_count": 10,
   "metadata": {},
   "outputs": [],
   "source": [
    "eq_pts_P2 = np.array([get_plane_n(P2,0),get_plane_n(P2,1),get_plane_n(P2,2)])\n",
    "pts_P2 = np.linalg.solve(eq_pts_P2,np.ones((3,1)))"
   ]
  },
  {
   "cell_type": "markdown",
   "metadata": {},
   "source": [
    "### Intersection with far plane"
   ]
  },
  {
   "cell_type": "code",
   "execution_count": 11,
   "metadata": {},
   "outputs": [],
   "source": [
    "def twelve_plane_cycle(P1,P2,num,offset=0):\n",
    "    num = (num + offset)%12\n",
    "    p_cycle = [P2,P1,P1,P2]\n",
    "    P = p_cycle[num%4]\n",
    "    return get_plane_n(P,num//2)"
   ]
  },
  {
   "cell_type": "code",
   "execution_count": 12,
   "metadata": {},
   "outputs": [
    {
     "name": "stdout",
     "output_type": "stream",
     "text": [
      "[ 0.00750689  0.00185949 -0.02575906]\n",
      "[ 0.00750689  0.00185949 -0.02575906]\n"
     ]
    }
   ],
   "source": [
    "print(twelve_plane_cycle(P1,P2,3,2))\n",
    "print(twelve_plane_cycle(P1,P2,5,0))"
   ]
  },
  {
   "cell_type": "code",
   "execution_count": 13,
   "metadata": {},
   "outputs": [],
   "source": [
    "sig_pts = np.array([d['sig2'],d['sig3'],d['sig1']])\n",
    "all_pts = np.concatenate((sig_pts,pts_transisiton_P12,pts_P2),axis=1) #miss pts_P2\n",
    "pts_with_largest_coord = 1*all_pts[:,np.argmax(np.max(all_pts, axis=0))]\n",
    "\n",
    "far_plane_n = np.ones(3)/np.sqrt(3)\n",
    "far_plane_o = far_plane_n*(np.dot(far_plane_n,pts_with_largest_coord)*1.5)"
   ]
  },
  {
   "cell_type": "code",
   "execution_count": 14,
   "metadata": {},
   "outputs": [
    {
     "ename": "TypeError",
     "evalue": "unsupported operand type(s) for +: 'int' and 'str'",
     "output_type": "error",
     "traceback": [
      "\u001b[0;31m---------------------------------------------------------------------------\u001b[0m",
      "\u001b[0;31mTypeError\u001b[0m                                 Traceback (most recent call last)",
      "\u001b[0;32m<ipython-input-14-3fda6988077a>\u001b[0m in \u001b[0;36m<module>\u001b[0;34m\u001b[0m\n\u001b[1;32m      4\u001b[0m \u001b[0;34m\u001b[0m\u001b[0m\n\u001b[1;32m      5\u001b[0m \u001b[0;32mfor\u001b[0m \u001b[0mi\u001b[0m \u001b[0;32min\u001b[0m \u001b[0mrange\u001b[0m\u001b[0;34m(\u001b[0m\u001b[0;36m12\u001b[0m\u001b[0;34m)\u001b[0m\u001b[0;34m:\u001b[0m\u001b[0;34m\u001b[0m\u001b[0;34m\u001b[0m\u001b[0m\n\u001b[0;32m----> 6\u001b[0;31m     \u001b[0meq_pts_far\u001b[0m\u001b[0;34m[\u001b[0m\u001b[0mi\u001b[0m\u001b[0;34m]\u001b[0m \u001b[0;34m=\u001b[0m \u001b[0mnp\u001b[0m\u001b[0;34m.\u001b[0m\u001b[0marray\u001b[0m\u001b[0;34m(\u001b[0m\u001b[0;34m[\u001b[0m\u001b[0mtwelve_plane_cycle\u001b[0m\u001b[0;34m(\u001b[0m\u001b[0mP1\u001b[0m\u001b[0;34m,\u001b[0m\u001b[0mP2\u001b[0m\u001b[0;34m,\u001b[0m\u001b[0mi\u001b[0m\u001b[0;34m,\u001b[0m\u001b[0;34m'phyC'\u001b[0m\u001b[0;34m)\u001b[0m\u001b[0;34m,\u001b[0m\u001b[0mtwelve_plane_cycle\u001b[0m\u001b[0;34m(\u001b[0m\u001b[0mP1\u001b[0m\u001b[0;34m,\u001b[0m\u001b[0mP2\u001b[0m\u001b[0;34m,\u001b[0m\u001b[0mi\u001b[0m\u001b[0;34m-\u001b[0m\u001b[0;36m1\u001b[0m\u001b[0;34m,\u001b[0m\u001b[0;34m'phyC'\u001b[0m\u001b[0;34m)\u001b[0m\u001b[0;34m,\u001b[0m\u001b[0mfar_plane_n\u001b[0m\u001b[0;34m]\u001b[0m\u001b[0;34m)\u001b[0m\u001b[0;34m\u001b[0m\u001b[0;34m\u001b[0m\u001b[0m\n\u001b[0m\u001b[1;32m      7\u001b[0m \u001b[0;34m\u001b[0m\u001b[0m\n\u001b[1;32m      8\u001b[0m \u001b[0mpts_far\u001b[0m \u001b[0;34m=\u001b[0m \u001b[0mnp\u001b[0m\u001b[0;34m.\u001b[0m\u001b[0mlinalg\u001b[0m\u001b[0;34m.\u001b[0m\u001b[0msolve\u001b[0m\u001b[0;34m(\u001b[0m\u001b[0meq_pts_far\u001b[0m\u001b[0;34m,\u001b[0m\u001b[0mb_far\u001b[0m\u001b[0;34m)\u001b[0m\u001b[0;34m.\u001b[0m\u001b[0mtranspose\u001b[0m\u001b[0;34m(\u001b[0m\u001b[0;34m)\u001b[0m\u001b[0;34m\u001b[0m\u001b[0;34m\u001b[0m\u001b[0m\n",
      "\u001b[0;32m<ipython-input-11-c96359ef4f5a>\u001b[0m in \u001b[0;36mtwelve_plane_cycle\u001b[0;34m(P1, P2, num, offset)\u001b[0m\n\u001b[1;32m      1\u001b[0m \u001b[0;32mdef\u001b[0m \u001b[0mtwelve_plane_cycle\u001b[0m\u001b[0;34m(\u001b[0m\u001b[0mP1\u001b[0m\u001b[0;34m,\u001b[0m\u001b[0mP2\u001b[0m\u001b[0;34m,\u001b[0m\u001b[0mnum\u001b[0m\u001b[0;34m,\u001b[0m\u001b[0moffset\u001b[0m\u001b[0;34m=\u001b[0m\u001b[0;36m0\u001b[0m\u001b[0;34m)\u001b[0m\u001b[0;34m:\u001b[0m\u001b[0;34m\u001b[0m\u001b[0;34m\u001b[0m\u001b[0m\n\u001b[0;32m----> 2\u001b[0;31m     \u001b[0mnum\u001b[0m \u001b[0;34m=\u001b[0m \u001b[0;34m(\u001b[0m\u001b[0mnum\u001b[0m \u001b[0;34m+\u001b[0m \u001b[0moffset\u001b[0m\u001b[0;34m)\u001b[0m\u001b[0;34m%\u001b[0m\u001b[0;36m12\u001b[0m\u001b[0;34m\u001b[0m\u001b[0;34m\u001b[0m\u001b[0m\n\u001b[0m\u001b[1;32m      3\u001b[0m     \u001b[0mp_cycle\u001b[0m \u001b[0;34m=\u001b[0m \u001b[0;34m[\u001b[0m\u001b[0mP2\u001b[0m\u001b[0;34m,\u001b[0m\u001b[0mP1\u001b[0m\u001b[0;34m,\u001b[0m\u001b[0mP1\u001b[0m\u001b[0;34m,\u001b[0m\u001b[0mP2\u001b[0m\u001b[0;34m]\u001b[0m\u001b[0;34m\u001b[0m\u001b[0;34m\u001b[0m\u001b[0m\n\u001b[1;32m      4\u001b[0m     \u001b[0mP\u001b[0m \u001b[0;34m=\u001b[0m \u001b[0mp_cycle\u001b[0m\u001b[0;34m[\u001b[0m\u001b[0mnum\u001b[0m\u001b[0;34m%\u001b[0m\u001b[0;36m4\u001b[0m\u001b[0;34m]\u001b[0m\u001b[0;34m\u001b[0m\u001b[0;34m\u001b[0m\u001b[0m\n\u001b[1;32m      5\u001b[0m     \u001b[0;32mreturn\u001b[0m \u001b[0mget_plane_n\u001b[0m\u001b[0;34m(\u001b[0m\u001b[0mP\u001b[0m\u001b[0;34m,\u001b[0m\u001b[0mnum\u001b[0m\u001b[0;34m//\u001b[0m\u001b[0;36m2\u001b[0m\u001b[0;34m)\u001b[0m\u001b[0;34m\u001b[0m\u001b[0;34m\u001b[0m\u001b[0m\n",
      "\u001b[0;31mTypeError\u001b[0m: unsupported operand type(s) for +: 'int' and 'str'"
     ]
    }
   ],
   "source": [
    "eq_pts_far = np.zeros((12,3,3))\n",
    "\n",
    "b_far = np.array([[1,1,np.dot(far_plane_n,far_plane_o)]])\n",
    "\n",
    "for i in range(12):\n",
    "    eq_pts_far[i] = np.array([twelve_plane_cycle(P1,P2,i,'phyC'),twelve_plane_cycle(P1,P2,i-1,'phyC'),far_plane_n])\n",
    "    \n",
    "pts_far = np.linalg.solve(eq_pts_far,b_far).transpose()"
   ]
  },
  {
   "cell_type": "code",
   "execution_count": null,
   "metadata": {},
   "outputs": [],
   "source": [
    "print(pts_far)"
   ]
  },
  {
   "cell_type": "markdown",
   "metadata": {},
   "source": [
    "## plotting 3D"
   ]
  },
  {
   "cell_type": "code",
   "execution_count": null,
   "metadata": {},
   "outputs": [],
   "source": [
    "fig = plt.figure()\n",
    "ax = fig.add_subplot(111, projection='3d')\n",
    "#ax.set_aspect('equal')\n",
    "ax.plot(d['sig2'],d['sig3'],d['sig1'],'k.')"
   ]
  },
  {
   "cell_type": "code",
   "execution_count": null,
   "metadata": {},
   "outputs": [],
   "source": [
    "ax.plot(*pts_transisiton_P12[:,:2], 'ro',alpha=1)\n",
    "ax.plot(*pts_transisiton_P12[:,-1:], 'yo',alpha=1)\n",
    "ax.plot(*pts_P2,'ko',alpha=1)\n",
    "ax.plot(*pts_far,'bo',alpha=1)"
   ]
  },
  {
   "cell_type": "code",
   "execution_count": null,
   "metadata": {},
   "outputs": [],
   "source": [
    "pts_transisiton_P12[:,-1:]"
   ]
  },
  {
   "cell_type": "code",
   "execution_count": null,
   "metadata": {},
   "outputs": [],
   "source": [
    "def get_verts(cord):\n",
    "    return [list(zip(*cord))]"
   ]
  },
  {
   "cell_type": "markdown",
   "metadata": {},
   "source": [
    "## Draw P2 planes"
   ]
  },
  {
   "cell_type": "code",
   "execution_count": null,
   "metadata": {},
   "outputs": [],
   "source": [
    "for i in range(3):\n",
    "    cord_l = np.zeros((3,4))\n",
    "    cord_r = np.zeros((3,4))\n",
    "    far_pts_inter_P2_idx = i*4\n",
    "    cord_r[:,0] = pts_P2[:,0]\n",
    "    cord_r[:,1] = pts_transisiton_P12[:,i] \n",
    "    cord_r[:,2] = pts_far[:,(far_pts_inter_P2_idx+1)%12]\n",
    "    cord_r[:,3] = pts_far[:,far_pts_inter_P2_idx]\n",
    "    \n",
    "    cord_l[:,0] = pts_P2[:,0]\n",
    "    cord_l[:,1] = pts_transisiton_P12[:,(i-1)%3] \n",
    "    cord_l[:,2] = pts_far[:,(far_pts_inter_P2_idx-1)%12]\n",
    "    cord_l[:,3] = pts_far[:,far_pts_inter_P2_idx]\n",
    "    \n",
    "    verts = get_verts(cord_r)\n",
    "    poly = Poly3DCollection(verts,linewidths=1, alpha=0.2)\n",
    "    poly.set_facecolor('r')\n",
    "    ax.add_collection3d(poly)\n",
    "    \n",
    "    verts = get_verts(cord_l)\n",
    "    poly = Poly3DCollection(verts,linewidths=1, alpha=0.2)\n",
    "    poly.set_facecolor('r')\n",
    "    ax.add_collection3d(poly)"
   ]
  },
  {
   "cell_type": "markdown",
   "metadata": {},
   "source": [
    "## Draw P1 planes"
   ]
  },
  {
   "cell_type": "code",
   "execution_count": null,
   "metadata": {},
   "outputs": [],
   "source": [
    "for i in range(3):\n",
    "    cord_l = np.zeros((3,3))\n",
    "    cord_r = np.zeros((3,3))\n",
    "    far_pts_inter_P2_idx = i*4 + 2\n",
    "    cord_r[:,0] = pts_transisiton_P12[:,i] \n",
    "    cord_r[:,1] = pts_far[:,(far_pts_inter_P2_idx+1)%12]\n",
    "    cord_r[:,2] = pts_far[:,far_pts_inter_P2_idx]\n",
    "\n",
    "    cord_l[:,0] = pts_transisiton_P12[:,i] \n",
    "    cord_l[:,1] = pts_far[:,(far_pts_inter_P2_idx-1)%12]\n",
    "    cord_l[:,2] = pts_far[:,far_pts_inter_P2_idx]\n",
    "    \n",
    "    verts = get_verts(cord_r)\n",
    "    poly = Poly3DCollection(verts,linewidths=1, alpha=0.2)\n",
    "    poly.set_facecolor('b')\n",
    "    ax.add_collection3d(poly)\n",
    "    \n",
    "    verts = get_verts(cord_l)\n",
    "    poly = Poly3DCollection(verts,linewidths=1, alpha=0.2)\n",
    "    poly.set_facecolor('b')\n",
    "    ax.add_collection3d(poly)"
   ]
  },
  {
   "cell_type": "code",
   "execution_count": null,
   "metadata": {},
   "outputs": [],
   "source": [
    "ax.set_aspect('equal')\n",
    "fig.show()"
   ]
  },
  {
   "cell_type": "code",
   "execution_count": null,
   "metadata": {},
   "outputs": [],
   "source": [
    "-1 // 2"
   ]
  },
  {
   "cell_type": "code",
   "execution_count": null,
   "metadata": {},
   "outputs": [],
   "source": [
    "d"
   ]
  },
  {
   "cell_type": "code",
   "execution_count": null,
   "metadata": {},
   "outputs": [],
   "source": [
    "P1['Vo']"
   ]
  },
  {
   "cell_type": "code",
   "execution_count": null,
   "metadata": {},
   "outputs": [],
   "source": [
    "P2['Vo']"
   ]
  }
 ],
 "metadata": {
  "kernelspec": {
   "display_name": "Python 3",
   "language": "python",
   "name": "python3"
  },
  "language_info": {
   "codemirror_mode": {
    "name": "ipython",
    "version": 3
   },
   "file_extension": ".py",
   "mimetype": "text/x-python",
   "name": "python",
   "nbconvert_exporter": "python",
   "pygments_lexer": "ipython3",
   "version": "3.7.4"
  }
 },
 "nbformat": 4,
 "nbformat_minor": 4
}
