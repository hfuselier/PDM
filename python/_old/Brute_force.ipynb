{
 "cells": [
  {
   "cell_type": "code",
   "execution_count": 18,
   "metadata": {},
   "outputs": [],
   "source": [
    "import numpy as np\n",
    "from load import load_data\n",
    "from convert import convert\n",
    "from pmc2 import *\n"
   ]
  },
  {
   "cell_type": "code",
   "execution_count": 19,
   "metadata": {},
   "outputs": [],
   "source": [
    "data = load_data(7)\n",
    "d = convert(data)"
   ]
  },
  {
   "cell_type": "code",
   "execution_count": 20,
   "metadata": {},
   "outputs": [
    {
     "name": "stdout",
     "output_type": "stream",
     "text": [
      "[ 33.3  74.8 106.1 130.4 153.3 172.9 211.8]\n",
      "[]\n"
     ]
    }
   ],
   "source": [
    "print(d['C'][:,3])\n",
    "print(d['E'][:,3])"
   ]
  },
  {
   "cell_type": "code",
   "execution_count": 21,
   "metadata": {},
   "outputs": [],
   "source": [
    "C_index = d['pC'].size\n",
    "E_index = d['pE'].size\n",
    "if d['pC'].size == 0:\n",
    "    bpE_last = 400 \n",
    "elif d['pC'].size != 0:\n",
    "    bpC_last = int(d['pC'][C_index-1])\n",
    "if d['pE'].size == 0:\n",
    "    bpE_last = 400 \n",
    "elif d['pE'].size != 0:\n",
    "    bpE_last = int(d['pE'][E_index-1])\n",
    "#print(bpC_last)\n",
    "#print(bpE_last)\n",
    "nb_comb = int(len(range(0,bpE_last,5))*len(range(0,bpC_last,5)));\n",
    "#print(nb_comb)"
   ]
  },
  {
   "cell_type": "code",
   "execution_count": 22,
   "metadata": {},
   "outputs": [],
   "source": [
    "#error_stored = np.zeros(nb_comb//1)\n",
    "#bp_stored = np.zeros((nb_comb//1,2))\n",
    "bp_couple = np.zeros((nb_comb//1,2))\n",
    "mean_error = []\n",
    "a=0\n",
    "for i in range(0,bpC_last,5):\n",
    "    for j in range(0,bpE_last,5):\n",
    "        bp_couple[a,0] = i\n",
    "        bp_couple[a,1] = j\n",
    "        P1, P2 = create_P1_and_P2(data,i,j)\n",
    "        P1_coeff = np.transpose(get_plane_normal(P1,1,'x'))\n",
    "        P2_coeff = np.transpose(get_plane_normal(P2,1,'x'))\n",
    "        sP1 = np.dot(np.transpose(P1.sig123),P1_coeff)\n",
    "        sP2 = np.dot(np.transpose(P2.sig123),P2_coeff)\n",
    "        errP1 = 1-sP1\n",
    "        errP2 = 1-sP2\n",
    "        sumP1 = 0\n",
    "        sumP2 = 0\n",
    "        for err in errP1:\n",
    "            sumP1 += err\n",
    "        for err in errP2:\n",
    "            sumP2 += err\n",
    "        mean_error.append((sumP1 + sumP2)/(len(errP1)+len(errP2)))\n",
    "        #print(mean_error[a])\n",
    "        a=a+1\n",
    "        \n",
    "mean_error = np.array(mean_error)"
   ]
  },
  {
   "cell_type": "code",
   "execution_count": 23,
   "metadata": {},
   "outputs": [
    {
     "data": {
      "text/plain": [
       "array([[  0.,   0.],\n",
       "       [  0.,   5.],\n",
       "       [  0.,  10.],\n",
       "       ...,\n",
       "       [210., 385.],\n",
       "       [210., 390.],\n",
       "       [210., 395.]])"
      ]
     },
     "execution_count": 23,
     "metadata": {},
     "output_type": "execute_result"
    }
   ],
   "source": [
    "bp_couple"
   ]
  },
  {
   "cell_type": "code",
   "execution_count": 24,
   "metadata": {},
   "outputs": [
    {
     "data": {
      "text/plain": [
       "array([4.36461839, 4.36461839, 4.36461839, ..., 4.03891977, 4.03891977,\n",
       "       4.03891977])"
      ]
     },
     "execution_count": 24,
     "metadata": {},
     "output_type": "execute_result"
    }
   ],
   "source": [
    "mean_error"
   ]
  },
  {
   "cell_type": "code",
   "execution_count": null,
   "metadata": {},
   "outputs": [],
   "source": []
  },
  {
   "cell_type": "code",
   "execution_count": null,
   "metadata": {},
   "outputs": [],
   "source": []
  },
  {
   "cell_type": "code",
   "execution_count": null,
   "metadata": {},
   "outputs": [],
   "source": []
  }
 ],
 "metadata": {
  "kernelspec": {
   "display_name": "Python 3",
   "language": "python",
   "name": "python3"
  },
  "language_info": {
   "codemirror_mode": {
    "name": "ipython",
    "version": 3
   },
   "file_extension": ".py",
   "mimetype": "text/x-python",
   "name": "python",
   "nbconvert_exporter": "python",
   "pygments_lexer": "ipython3",
   "version": "3.7.4"
  }
 },
 "nbformat": 4,
 "nbformat_minor": 4
}
