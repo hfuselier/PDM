{
 "cells": [
  {
   "cell_type": "code",
   "execution_count": 1,
   "metadata": {},
   "outputs": [],
   "source": [
    "import numpy as np\n",
    "from load import load_data\n",
    "from convert import convert\n",
    "from math import pi, sqrt\n",
    "from numpy import sin, tan ,cos\n",
    "import math"
   ]
  },
  {
   "cell_type": "code",
   "execution_count": 2,
   "metadata": {},
   "outputs": [],
   "source": [
    "#%matplotlib widget\n",
    "#%matplotlib inline\n",
    "#%matplotlib qt\n",
    "import matplotlib.pyplot as plt\n",
    "import matplotlib\n",
    "\n",
    "from matplotlib.backends.backend_pgf import FigureCanvasPgf\n",
    "matplotlib.backend_bases.register_backend('pdf', FigureCanvasPgf)"
   ]
  },
  {
   "cell_type": "code",
   "execution_count": 3,
   "metadata": {},
   "outputs": [],
   "source": [
    "data = load_data(9)\n",
    "d = convert(data)"
   ]
  },
  {
   "cell_type": "markdown",
   "metadata": {},
   "source": [
    "# Input\n",
    "\n",
    "- bpC : CT Compression data Break Point in p-q plane \n",
    "- bpE : CT Extension data Break Point in p-q plane"
   ]
  },
  {
   "cell_type": "code",
   "execution_count": 4,
   "metadata": {},
   "outputs": [],
   "source": [
    "bpC = 400 #CT Compression data Break Point in p-q plane\n",
    "bpE = 150 #CT Extension data Break Point in p-q plane "
   ]
  },
  {
   "cell_type": "code",
   "execution_count": 5,
   "metadata": {},
   "outputs": [
    {
     "data": {
      "image/png": "[encoded data removed]",
      "text/plain": [
       "<Figure size 432x288 with 1 Axes>"
      ]
     },
     "metadata": {
      "needs_background": "light"
     },
     "output_type": "display_data"
    }
   ],
   "source": [
    "plt.plot(d['pC'],d['qC'],'ko',d['pE'],-1*d['qE'],'ko',d['po'],d['qo'],'g*')\n",
    "plt.grid()\n",
    "plt.savefig('pmc3.pdf')\n",
    "plt.show()"
   ]
  },
  {
   "cell_type": "code",
   "execution_count": 6,
   "metadata": {},
   "outputs": [],
   "source": [
    "P1 = {}\n",
    "P2 = {}"
   ]
  },
  {
   "cell_type": "markdown",
   "metadata": {},
   "source": [
    "## Separate points in 2 planes"
   ]
  },
  {
   "cell_type": "code",
   "execution_count": 7,
   "metadata": {},
   "outputs": [],
   "source": [
    "for i in ('p','q','t'):\n",
    "    # ???? Why do we need to re-write the same piece of code as in pmc2.py ?\n",
    "    key = i+'C'\n",
    "    P1[key] = d[key][d['pC'] >= bpC]\n",
    "    P2[key] = d[key][d['pC'] <= bpC]\n",
    "    \n",
    "    key = i+'E'\n",
    "    P1[key] = d[key][d['pE'] >= bpE]\n",
    "    P2[key] = d[key][d['pE'] <= bpE]\n",
    "    \n",
    "    key = i+'o'\n",
    "    P1[key] = d[key][d['s1o'] <  2*d['s2o']]\n",
    "    P2[key] = d[key][d['s1o'] >= 2*d['s2o']]\n",
    "    \n",
    "    P1[i+'tot'] = np.concatenate((P1[i+'C'],P1[i+'E'],P1[i+'o']))\n",
    "    P2[i+'tot'] = np.concatenate((P2[i+'C'],P2[i+'E'],P2[i+'o']))\n",
    "    \n",
    "P1['ttot']*=pi/180\n",
    "P2['ttot']*=pi/180"
   ]
  },
  {
   "cell_type": "markdown",
   "metadata": {},
   "source": [
    "## Solving plane equations"
   ]
  },
  {
   "cell_type": "code",
   "execution_count": 8,
   "metadata": {},
   "outputs": [],
   "source": [
    "for P in (P1,P2):\n",
    "    a = P['qtot']*np.sin(P['ttot'])\n",
    "    \n",
    "    A = np.ndarray((P['ptot'].shape[0],3))\n",
    "    A[:,0] = P['ptot']\n",
    "    A[:,1] = a\n",
    "    A[:,2] = 1\n",
    "    \n",
    "    b = P['qtot']*np.cos(P['ttot'])\n",
    "    \n",
    "    P['x'] = np.linalg.pinv(A)@b"
   ]
  },
  {
   "cell_type": "code",
   "execution_count": null,
   "metadata": {},
   "outputs": [],
   "source": []
  },
  {
   "cell_type": "code",
   "execution_count": 9,
   "metadata": {},
   "outputs": [],
   "source": [
    "for P in (P1,P2):\n",
    "    bc = P['x'][2]\n",
    "    k = P['x'][1]\n",
    "    P['Vo'] = bc/P['x'][0]\n",
    "    be = 2*bc/(1-sqrt(3)*k)\n",
    "    P['phyC'] = math.asin(3*bc/(6*P['Vo']+bc))\n",
    "    P['phyE'] = math.asin(3*be/(6*P['Vo']-be))\n",
    "    P['Sol'] = np.array([bc, be, k, P['Vo'], P['phyC']*180/pi, P['phyE']*180/pi])"
   ]
  },
  {
   "cell_type": "code",
   "execution_count": 10,
   "metadata": {},
   "outputs": [],
   "source": [
    "#for P in (P1,P2): #old way\n",
    "#    phyCP = P['phyC']\n",
    "#    phyEP = P['phyE']\n",
    "#    VoP = P['Vo']\n",
    "#    P['qCfit'] = lambda x :(6*sin(phyCP)/(3-sin(phyCP)))*x+(6*VoP*tan(phyCP)*cos(phyCP)/(3-sin(phyCP)));\n",
    "#    P['qEfit'] = lambda x : -(6*sin(phyEP)/(3+sin(phyEP)))*x-(6*VoP*tan(phyEP)*cos(phyEP)/(3+sin(phyEP)));\n",
    "    \n",
    "def qCfit(P,x):\n",
    "    phyCP = P['phyC']\n",
    "    phyEP = P['phyE']\n",
    "    VoP = P['Vo']\n",
    "    return (6*sin(phyCP)/(3-sin(phyCP)))*x+(6*VoP*tan(phyCP)*cos(phyCP)/(3-sin(phyCP)));\n",
    "\n",
    "def qEfit(P,x):\n",
    "    phyCP = P['phyC']\n",
    "    phyEP = P['phyE']\n",
    "    VoP = P['Vo']\n",
    "    return -(6*sin(phyEP)/(3+sin(phyEP)))*x-(6*VoP*tan(phyEP)*cos(phyEP)/(3+sin(phyEP)));\n",
    "                            \n",
    "    "
   ]
  },
  {
   "cell_type": "markdown",
   "metadata": {},
   "source": [
    "## Some Error computations"
   ]
  },
  {
   "cell_type": "code",
   "execution_count": 11,
   "metadata": {},
   "outputs": [],
   "source": [
    "for P in (P1,P2): #curently not in pmc.py\n",
    "    dmeasC = P['qC']\n",
    "    dpredC = qCfit(P,P['pC'])\n",
    "    P['SC'] = np.sum((np.abs(dmeasC-dpredC))/dmeasC)\n",
    "    P['MAPEC'] = (1/P['pC'].shape[0])*P['SC']*100 if P['pC'].shape[0] != 0  else 0.0\n",
    "    \n",
    "    dmeasE = P['qE']\n",
    "    dpredE = -qEfit(P,P['pE'])\n",
    "    P['SE'] = np.sum((np.abs(dmeasE-dpredE))/dmeasE)\n",
    "    P['MAPEE'] = (1/P['pE'].shape[0])*P['SE']*100 if P['pE'].shape[0] != 0  else 0.0"
   ]
  },
  {
   "cell_type": "code",
   "execution_count": null,
   "metadata": {},
   "outputs": [],
   "source": []
  },
  {
   "cell_type": "code",
   "execution_count": 12,
   "metadata": {},
   "outputs": [],
   "source": [
    "# Compute planes angles information"
   ]
  },
  {
   "cell_type": "code",
   "execution_count": 13,
   "metadata": {},
   "outputs": [],
   "source": [
    "for P in (P1,P2):\n",
    "    P['Nc'] = (1-sin(P['phyC']))/(2*sin(P['phyC']))\n",
    "    P['Ne'] = (1-sin(P['phyE']))/(2*sin(P['phyE']))\n",
    "    \n",
    "    #P['sig1'] = lambda x,y : (1/P['Nc'])*(P['Vo']+P['Nc']*x+P['Ne']*(y-x)+y)\n",
    "\n",
    "def sig1(P,x,y):\n",
    "    return (1/P['Nc'])*(P['Vo']+P['Nc']*x+P['Ne']*(y-x)+y)"
   ]
  },
  {
   "cell_type": "code",
   "execution_count": null,
   "metadata": {},
   "outputs": [],
   "source": []
  },
  {
   "cell_type": "markdown",
   "metadata": {},
   "source": [
    "## Plane equations constant"
   ]
  },
  {
   "cell_type": "code",
   "execution_count": 14,
   "metadata": {},
   "outputs": [],
   "source": [
    "for P in (P1,P2):\n",
    "    P['A'] = ((1-sin(P['phyC']))/(2*sin(P['phyC'])))/P['Vo']\n",
    "    P['B'] = ((sin(P['phyC'])-sin(P['phyE']))/(2*sin(P['phyC'])*sin(P['phyE'])))/P['Vo']\n",
    "    P['C'] = -((1+sin(P['phyE']))/(2*sin(P['phyE'])))/P['Vo']\n",
    "    \n",
    "    "
   ]
  },
  {
   "cell_type": "code",
   "execution_count": 15,
   "metadata": {},
   "outputs": [],
   "source": [
    "def get_z_pmc(P,sigma_num,configuration,x,y):\n",
    "    Vo = P['Vo']\n",
    "    A, B, C = P['A'], P['B'], P['C']\n",
    "    if configuration == 'x':\n",
    "        if sigma_num == 1:\n",
    "            return (1/A)*(1-x*B-y*C)\n",
    "        elif signma_num == 2:\n",
    "            return (1/B)*(1-x*A-y*C)\n",
    "        elif signma_num == 3:\n",
    "            return (1/C)*(1-x*A-y*B)\n",
    "    elif configuration == 'y':\n",
    "        if sigma_num == 1:\n",
    "            return (1/A)*(1-y*B-x*C)\n",
    "        elif signma_num == 2:\n",
    "            return (1/B)*(1-y*A-x*C)\n",
    "        elif signma_num == 3:\n",
    "            return (1/C)*(1-y*A-x*B)\n",
    "    "
   ]
  },
  {
   "cell_type": "code",
   "execution_count": 16,
   "metadata": {},
   "outputs": [],
   "source": [
    "conf_cycle = [1,2,3,3,2,1]\n",
    "form_cycle = ['x','y']\n",
    "\n",
    "def get_plane_n(P,num):\n",
    "    return get_plane(P,conf_cycle[num%6],form_cycle[(num//3)%2])\n",
    "\n",
    "def get_plane(P,sigma,form):\n",
    "    P_coef = [P['A'],P['B'],P['C']]\n",
    "    normal = np.zeros(3)\n",
    "    normal[2] = P_coef[sigma-1]\n",
    "    del P_coef[sigma-1]\n",
    "    if form == 'y':\n",
    "        P_coef = P_coef[::-1]\n",
    "        # P_coef = [P_coef[1],P_coef[0]]\n",
    "    normal[:2] = P_coef\n",
    "    #origin = 1/(normal*3)\n",
    "    \n",
    "    return normal #origin"
   ]
  },
  {
   "cell_type": "code",
   "execution_count": 17,
   "metadata": {},
   "outputs": [
    {
     "data": {
      "text/plain": [
       "array([ 0.00185949, -0.02575906,  0.00750689])"
      ]
     },
     "execution_count": 17,
     "metadata": {},
     "output_type": "execute_result"
    }
   ],
   "source": [
    "get_plane_n(P1,0)"
   ]
  },
  {
   "cell_type": "code",
   "execution_count": 24,
   "metadata": {},
   "outputs": [
    {
     "ename": "ValueError",
     "evalue": "The truth value of an array with more than one element is ambiguous. Use a.any() or a.all()",
     "output_type": "error",
     "traceback": [
      "\u001b[0;31m---------------------------------------------------------------------------\u001b[0m",
      "\u001b[0;31mValueError\u001b[0m                                Traceback (most recent call last)",
      "\u001b[0;32m<ipython-input-24-67d9aba0d234>\u001b[0m in \u001b[0;36m<module>\u001b[0;34m\u001b[0m\n\u001b[0;32m----> 1\u001b[0;31m \u001b[0mdata\u001b[0m\u001b[0;34m[\u001b[0m\u001b[0mnp\u001b[0m\u001b[0;34m.\u001b[0m\u001b[0mall\u001b[0m\u001b[0;34m(\u001b[0m\u001b[0mdata\u001b[0m\u001b[0;34m[\u001b[0m\u001b[0;34m:\u001b[0m\u001b[0;34m,\u001b[0m\u001b[0;34m-\u001b[0m\u001b[0;36m1\u001b[0m\u001b[0;34m]\u001b[0m \u001b[0;34m==\u001b[0m \u001b[0;36m0\u001b[0m \u001b[0;32mand\u001b[0m \u001b[0mdata\u001b[0m\u001b[0;34m[\u001b[0m\u001b[0;34m:\u001b[0m\u001b[0;34m,\u001b[0m\u001b[0;36m3\u001b[0m\u001b[0;34m]\u001b[0m \u001b[0;34m==\u001b[0m \u001b[0;36m110\u001b[0m\u001b[0;34m)\u001b[0m\u001b[0;34m]\u001b[0m\u001b[0;34m\u001b[0m\u001b[0;34m\u001b[0m\u001b[0m\n\u001b[0m",
      "\u001b[0;31mValueError\u001b[0m: The truth value of an array with more than one element is ambiguous. Use a.any() or a.all()"
     ]
    }
   ],
   "source": [
    "data[data[:,-1] == 0 and data[:,3] == 110]\n"
   ]
  },
  {
   "cell_type": "code",
   "execution_count": 32,
   "metadata": {},
   "outputs": [
    {
     "data": {
      "text/plain": [
       "array([[ 62.8,   0. ,   0. ,  20.9,  62.8,   0. ],\n",
       "       [121.1,  10. ,  10. ,  47. , 111.1,   0. ],\n",
       "       [221.3,  40. ,  40. , 100.4, 181.3,   0. ]])"
      ]
     },
     "execution_count": 32,
     "metadata": {},
     "output_type": "execute_result"
    }
   ],
   "source": [
    "data[np.logical_and(data[:,-1] == 0, data[:,3] <= 110)]"
   ]
  },
  {
   "cell_type": "code",
   "execution_count": 40,
   "metadata": {},
   "outputs": [],
   "source": [
    "is_C = data[:,-1] == 0\n",
    "is_P2_C = data[:,3] <= 110"
   ]
  },
  {
   "cell_type": "code",
   "execution_count": 41,
   "metadata": {},
   "outputs": [],
   "source": [
    "is_in_P2_C = np.logical_and(is_C,is_P2_C)"
   ]
  },
  {
   "cell_type": "code",
   "execution_count": 42,
   "metadata": {},
   "outputs": [],
   "source": [
    "P2_C = data[is_in_P2_C]"
   ]
  },
  {
   "cell_type": "code",
   "execution_count": 43,
   "metadata": {},
   "outputs": [
    {
     "data": {
      "text/plain": [
       "array([[ 62.8,   0. ,   0. ,  20.9,  62.8,   0. ],\n",
       "       [121.1,  10. ,  10. ,  47. , 111.1,   0. ],\n",
       "       [221.3,  40. ,  40. , 100.4, 181.3,   0. ]])"
      ]
     },
     "execution_count": 43,
     "metadata": {},
     "output_type": "execute_result"
    }
   ],
   "source": [
    "P2_C"
   ]
  },
  {
   "cell_type": "code",
   "execution_count": 44,
   "metadata": {},
   "outputs": [
    {
     "data": {
      "text/plain": [
       "112.80944109426304"
      ]
     },
     "execution_count": 44,
     "metadata": {},
     "output_type": "execute_result"
    }
   ],
   "source": [
    "np.linalg.norm(P2_C[:,3])"
   ]
  },
  {
   "cell_type": "code",
   "execution_count": 49,
   "metadata": {},
   "outputs": [],
   "source": [
    "pts_P2 = P2_C[:,:3].transpose()"
   ]
  },
  {
   "cell_type": "code",
   "execution_count": 50,
   "metadata": {},
   "outputs": [
    {
     "data": {
      "text/plain": [
       "array([[ 62.8, 121.1, 221.3],\n",
       "       [  0. ,  10. ,  40. ],\n",
       "       [  0. ,  10. ,  40. ]])"
      ]
     },
     "execution_count": 50,
     "metadata": {},
     "output_type": "execute_result"
    }
   ],
   "source": [
    "pts_P2"
   ]
  },
  {
   "cell_type": "code",
   "execution_count": null,
   "metadata": {},
   "outputs": [],
   "source": []
  }
 ],
 "metadata": {
  "kernelspec": {
   "display_name": "Python 3",
   "language": "python",
   "name": "python3"
  },
  "language_info": {
   "codemirror_mode": {
    "name": "ipython",
    "version": 3
   },
   "file_extension": ".py",
   "mimetype": "text/x-python",
   "name": "python",
   "nbconvert_exporter": "python",
   "pygments_lexer": "ipython3",
   "version": "3.7.4"
  }
 },
 "nbformat": 4,
 "nbformat_minor": 4
}
