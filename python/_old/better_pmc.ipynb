{
 "cells": [
  {
   "cell_type": "code",
   "execution_count": 1,
   "metadata": {},
   "outputs": [],
   "source": [
    "import numpy as np\n",
    "from load import load_data\n",
    "from convert import convert\n",
    "from math import pi, sqrt\n",
    "from numpy import sin, tan ,cos\n",
    "import math"
   ]
  },
  {
   "cell_type": "code",
   "execution_count": 2,
   "metadata": {},
   "outputs": [],
   "source": [
    "#%matplotlib widget\n",
    "#%matplotlib inline\n",
    "#%matplotlib qt\n",
    "import matplotlib.pyplot as plt\n",
    "import matplotlib\n",
    "\n",
    "from matplotlib.backends.backend_pgf import FigureCanvasPgf\n",
    "matplotlib.backend_bases.register_backend('pdf', FigureCanvasPgf)"
   ]
  },
  {
   "cell_type": "code",
   "execution_count": 3,
   "metadata": {},
   "outputs": [],
   "source": [
    "def get_C(data):\n",
    "    return data[data[:,5] == 0]\n",
    "def get_E(data):\n",
    "    return data[data[:,5] == 60]\n",
    "def get_o(data):\n",
    "    return data[np.logical_and(data[:,5] != 60 , data[:,5] != 0)]\n",
    "\n",
    "def get_p(data):\n",
    "    return data[:,3]\n",
    "def get_q(data):\n",
    "    return data[:,4]\n",
    "def get_t(data):\n",
    "    return data[:,5]"
   ]
  },
  {
   "cell_type": "code",
   "execution_count": 4,
   "metadata": {},
   "outputs": [],
   "source": [
    "import pmc2"
   ]
  },
  {
   "cell_type": "code",
   "execution_count": 5,
   "metadata": {},
   "outputs": [],
   "source": [
    "data = load_data(9)\n",
    "d = convert(data)"
   ]
  },
  {
   "cell_type": "code",
   "execution_count": 6,
   "metadata": {},
   "outputs": [
    {
     "data": {
      "text/plain": [
       "array([[ 62.8,   0. ,   0. ,  20.9,  62.8,   0. ],\n",
       "       [121.1,  10. ,  10. ,  47. , 111.1,   0. ],\n",
       "       [135.4,  18.1,  10. ,  54.5, 121.6,   3.3],\n",
       "       [137.6,  38.6,  10. ,  62.1, 115.9,  12.3],\n",
       "       [145.2,  58.1,  10. ,  71.1, 118.7,  20.5],\n",
       "       [154. ,  77.5,  10. ,  80.5, 124.8,  27.9],\n",
       "       [129.7,  97. ,  10. ,  78.9, 107.2,  44.7],\n",
       "       [141.8, 108.9,  10. ,  86.9, 118.8,  46.1],\n",
       "       [221.3,  40. ,  40. , 100.4, 181.3,   0. ],\n",
       "       [237.7,  78.4,  40. , 118.7, 181.5,  10.6],\n",
       "       [239.8, 119.5,  40. , 133.1, 174.2,  23.3],\n",
       "       [268.3, 157.3,  40. , 155.2, 197.7,  30.9],\n",
       "       [234. , 199.5,  40. , 157.8, 179.3,  50.4],\n",
       "       [218.6, 218.6,  40. , 159. , 178.6,  60. ],\n",
       "       [271.9,  60. ,  60. , 130.6, 211.9,   0. ],\n",
       "       [286.1,  89.1,  60. , 145.1, 213. ,   6.8],\n",
       "       [295.9, 119.4,  60. , 158.4, 212.6,  14. ],\n",
       "       [288.1, 148.6,  60. , 165.6, 199.2,  22.6],\n",
       "       [283.6, 178.8,  60. , 174.2, 193.8,  32.1],\n",
       "       [281.4, 209.1,  60. , 183.5, 195.5,  41.3],\n",
       "       [282.4, 239.4,  60. , 193.9, 204.3,  49.5],\n",
       "       [254.8, 254.8,  60. , 189.9, 194.8,  60. ],\n",
       "       [374.2, 100. , 100. , 191.4, 274.2,   0. ],\n",
       "       [411.5, 147.2, 100. , 219.6, 290.8,   8.1],\n",
       "       [414.5, 245.6, 100. , 253.4, 272.6,  27.5],\n",
       "       [408.9, 298.6, 100. , 269.1, 271.1,  39.4],\n",
       "       [390. , 347.3, 100. , 279.1, 271.2,  52.2]])"
      ]
     },
     "execution_count": 6,
     "metadata": {},
     "output_type": "execute_result"
    }
   ],
   "source": [
    "data"
   ]
  },
  {
   "cell_type": "markdown",
   "metadata": {},
   "source": [
    "# Input\n",
    "\n",
    "- bpC : CT Compression data Break Point in p-q plane \n",
    "- bpE : CT Extension data Break Point in p-q plane"
   ]
  },
  {
   "cell_type": "code",
   "execution_count": 7,
   "metadata": {},
   "outputs": [],
   "source": [
    "bpC = 400 #CT Compression data Break Point in p-q plane\n",
    "bpE = 150 #CT Extension data Break Point in p-q plane "
   ]
  },
  {
   "cell_type": "code",
   "execution_count": 8,
   "metadata": {},
   "outputs": [
    {
     "name": "stdout",
     "output_type": "stream",
     "text": [
      "[ 1.26378338 -1.22931457 77.09439478]\n",
      "0.4666895990527434\n",
      "[ 1.19523394 -0.69004668 53.61178889]\n",
      "0.6652071410182365\n"
     ]
    }
   ],
   "source": [
    "P1,P2 = pmc2.create_P1_and_P2(data,bpC,bpE)"
   ]
  },
  {
   "cell_type": "code",
   "execution_count": 11,
   "metadata": {},
   "outputs": [
    {
     "data": {
      "text/plain": [
       "array([1.04719755, 1.04719755, 0.48694686, 0.78016218, 0.80459679,\n",
       "       0.53930674, 0.87964594, 0.39444441, 0.56025069, 0.72082098,\n",
       "       0.86393798, 0.47996554, 0.68765973, 0.91106187])"
      ]
     },
     "execution_count": 11,
     "metadata": {},
     "output_type": "execute_result"
    }
   ],
   "source": [
    "P1.t"
   ]
  },
  {
   "cell_type": "code",
   "execution_count": 11,
   "metadata": {},
   "outputs": [
    {
     "name": "stdout",
     "output_type": "stream",
     "text": [
      "[ 1.26378338 -1.22931457 77.09439478]\n",
      "0.46668959905274326\n",
      "[ 1.19523394 -0.69004668 53.61178889]\n",
      "0.6652071410182355\n"
     ]
    },
    {
     "data": {
      "text/plain": [
       "({'data': array([[218.6, 218.6,  40. , 159. , 178.6,  60. ],\n",
       "         [254.8, 254.8,  60. , 189.9, 194.8,  60. ],\n",
       "         [135.4,  18.1,  10. ,  54.5, 121.6,   3.3],\n",
       "         [137.6,  38.6,  10. ,  62.1, 115.9,  12.3],\n",
       "         [145.2,  58.1,  10. ,  71.1, 118.7,  20.5],\n",
       "         [154. ,  77.5,  10. ,  80.5, 124.8,  27.9],\n",
       "         [129.7,  97. ,  10. ,  78.9, 107.2,  44.7],\n",
       "         [141.8, 108.9,  10. ,  86.9, 118.8,  46.1],\n",
       "         [237.7,  78.4,  40. , 118.7, 181.5,  10.6],\n",
       "         [239.8, 119.5,  40. , 133.1, 174.2,  23.3],\n",
       "         [268.3, 157.3,  40. , 155.2, 197.7,  30.9],\n",
       "         [234. , 199.5,  40. , 157.8, 179.3,  50.4],\n",
       "         [286.1,  89.1,  60. , 145.1, 213. ,   6.8],\n",
       "         [295.9, 119.4,  60. , 158.4, 212.6,  14. ],\n",
       "         [288.1, 148.6,  60. , 165.6, 199.2,  22.6],\n",
       "         [283.6, 178.8,  60. , 174.2, 193.8,  32.1],\n",
       "         [281.4, 209.1,  60. , 183.5, 195.5,  41.3],\n",
       "         [282.4, 239.4,  60. , 193.9, 204.3,  49.5],\n",
       "         [411.5, 147.2, 100. , 219.6, 290.8,   8.1],\n",
       "         [414.5, 245.6, 100. , 253.4, 272.6,  27.5],\n",
       "         [408.9, 298.6, 100. , 269.1, 271.1,  39.4],\n",
       "         [390. , 347.3, 100. , 279.1, 271.2,  52.2]]),\n",
       "  'pC': array([], dtype=float64),\n",
       "  'pE': array([159. , 189.9]),\n",
       "  'po': array([ 80.5,  78.9,  86.9, 155.2, 157.8, 165.6, 174.2, 183.5, 193.9,\n",
       "         253.4, 269.1, 279.1]),\n",
       "  'ptot': array([159. , 189.9,  80.5,  78.9,  86.9, 155.2, 157.8, 165.6, 174.2,\n",
       "         183.5, 193.9, 253.4, 269.1, 279.1]),\n",
       "  'qC': array([], dtype=float64),\n",
       "  'qE': array([178.6, 194.8]),\n",
       "  'qo': array([124.8, 107.2, 118.8, 197.7, 179.3, 199.2, 193.8, 195.5, 204.3,\n",
       "         272.6, 271.1, 271.2]),\n",
       "  'qtot': array([178.6, 194.8, 124.8, 107.2, 118.8, 197.7, 179.3, 199.2, 193.8,\n",
       "         195.5, 204.3, 272.6, 271.1, 271.2]),\n",
       "  'tC': array([], dtype=float64),\n",
       "  'tE': array([60., 60.]),\n",
       "  'to': array([27.9, 44.7, 46.1, 30.9, 50.4, 22.6, 32.1, 41.3, 49.5, 27.5, 39.4,\n",
       "         52.2]),\n",
       "  'ttot': array([1.04719755, 1.04719755, 0.48694686, 0.78016218, 0.80459679,\n",
       "         0.53930674, 0.87964594, 0.39444441, 0.56025069, 0.72082098,\n",
       "         0.86393798, 0.47996554, 0.68765973, 0.91106187]),\n",
       "  'Vo': 61.0028555877927,\n",
       "  'phyC': 0.5491384381145412,\n",
       "  'phyE': 0.4855440513775677,\n",
       "  'Sol': array([77.09439478, 49.2736325 , -1.22931457, 61.00285559, 31.46331487,\n",
       "         27.81962491]),\n",
       "  'Nc': 0.4579415156896588,\n",
       "  'Ne': 0.571375923129352,\n",
       "  'A': 0.007506886542886651,\n",
       "  'B': 0.001859493401525168,\n",
       "  'C': -0.025759055178456277},\n",
       " {'data': array([[ 62.8,   0. ,   0. ,  20.9,  62.8,   0. ],\n",
       "         [121.1,  10. ,  10. ,  47. , 111.1,   0. ],\n",
       "         [221.3,  40. ,  40. , 100.4, 181.3,   0. ],\n",
       "         [271.9,  60. ,  60. , 130.6, 211.9,   0. ],\n",
       "         [374.2, 100. , 100. , 191.4, 274.2,   0. ]]),\n",
       "  'pC': array([ 20.9,  47. , 100.4, 130.6, 191.4]),\n",
       "  'pE': array([], dtype=float64),\n",
       "  'po': array([ 54.5,  62.1,  71.1, 118.7, 133.1, 145.1, 158.4, 219.6]),\n",
       "  'ptot': array([ 20.9,  47. , 100.4, 130.6, 191.4,  54.5,  62.1,  71.1, 118.7,\n",
       "         133.1, 145.1, 158.4, 219.6]),\n",
       "  'qC': array([ 62.8, 111.1, 181.3, 211.9, 274.2]),\n",
       "  'qE': array([], dtype=float64),\n",
       "  'qo': array([121.6, 115.9, 118.7, 181.5, 174.2, 213. , 212.6, 290.8]),\n",
       "  'qtot': array([ 62.8, 111.1, 181.3, 211.9, 274.2, 121.6, 115.9, 118.7, 181.5,\n",
       "         174.2, 213. , 212.6, 290.8]),\n",
       "  'tC': array([0., 0., 0., 0., 0.]),\n",
       "  'tE': array([], dtype=float64),\n",
       "  'to': array([ 3.3, 12.3, 20.5, 10.6, 23.3,  6.8, 14. ,  8.1]),\n",
       "  'ttot': array([0.        , 0.        , 0.        , 0.        , 0.        ,\n",
       "         0.05759587, 0.2146755 , 0.3577925 , 0.1850049 , 0.40666172,\n",
       "         0.11868239, 0.2443461 , 0.14137167]),\n",
       "  'Vo': 44.85464050920015,\n",
       "  'phyC': 0.521687671637858,\n",
       "  'phyE': 0.7277712076349255,\n",
       "  'Sol': array([53.61178889, 48.84465084, -0.69004668, 44.85464051, 29.89050181,\n",
       "         41.69821865]),\n",
       "  'Nc': 0.5033229587860298,\n",
       "  'Ne': 0.2516455689796832,\n",
       "  'A': 0.01122120148711911,\n",
       "  'B': -0.005610955454090087,\n",
       "  'C': -0.027904483343768133})"
      ]
     },
     "execution_count": 11,
     "metadata": {},
     "output_type": "execute_result"
    }
   ],
   "source": [
    "import pmc\n",
    "pmc.create_P1_and_P2(data,d,bpC,bpE)"
   ]
  },
  {
   "cell_type": "code",
   "execution_count": 10,
   "metadata": {},
   "outputs": [
    {
     "ename": "NameError",
     "evalue": "name 'be' is not defined",
     "output_type": "error",
     "traceback": [
      "\u001b[0;31m---------------------------------------------------------------------------\u001b[0m",
      "\u001b[0;31mNameError\u001b[0m                                 Traceback (most recent call last)",
      "\u001b[0;32m<ipython-input-10-e81560af4469>\u001b[0m in \u001b[0;36m<module>\u001b[0;34m\u001b[0m\n\u001b[0;32m----> 1\u001b[0;31m \u001b[0mmath\u001b[0m\u001b[0;34m.\u001b[0m\u001b[0masin\u001b[0m\u001b[0;34m(\u001b[0m\u001b[0;36m3\u001b[0m\u001b[0;34m*\u001b[0m\u001b[0mbe\u001b[0m\u001b[0;34m/\u001b[0m\u001b[0;34m(\u001b[0m\u001b[0;36m6\u001b[0m\u001b[0;34m*\u001b[0m\u001b[0mP\u001b[0m\u001b[0;34m[\u001b[0m\u001b[0;34m'Vo'\u001b[0m\u001b[0;34m]\u001b[0m\u001b[0;34m-\u001b[0m\u001b[0mbe\u001b[0m\u001b[0;34m)\u001b[0m\u001b[0;34m)\u001b[0m\u001b[0;34m\u001b[0m\u001b[0;34m\u001b[0m\u001b[0m\n\u001b[0m",
      "\u001b[0;31mNameError\u001b[0m: name 'be' is not defined"
     ]
    }
   ],
   "source": [
    "math.asin(3*be/(6*P['Vo']-be))"
   ]
  },
  {
   "cell_type": "code",
   "execution_count": null,
   "metadata": {},
   "outputs": [],
   "source": []
  }
 ],
 "metadata": {
  "kernelspec": {
   "display_name": "Python 3",
   "language": "python",
   "name": "python3"
  },
  "language_info": {
   "codemirror_mode": {
    "name": "ipython",
    "version": 3
   },
   "file_extension": ".py",
   "mimetype": "text/x-python",
   "name": "python",
   "nbconvert_exporter": "python",
   "pygments_lexer": "ipython3",
   "version": "3.7.4"
  }
 },
 "nbformat": 4,
 "nbformat_minor": 4
}
