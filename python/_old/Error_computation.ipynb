{
 "cells": [
  {
   "cell_type": "code",
   "execution_count": 1,
   "metadata": {},
   "outputs": [],
   "source": [
    "import numpy as np\n",
    "from load import load_data\n",
    "from convert import convert\n",
    "from pmc2 import *"
   ]
  },
  {
   "cell_type": "code",
   "execution_count": 2,
   "metadata": {},
   "outputs": [
    {
     "name": "stdout",
     "output_type": "stream",
     "text": [
      "[77.08955848 49.07350219 -1.23656866 60.78075419 31.56731005 27.80487258]\n",
      "[55.95943119 42.05536616 -0.95910967 45.86630147 30.46050828 32.76227011]\n"
     ]
    }
   ],
   "source": [
    "bpC = 192 #CT Compression data Break Point in p-q plane\n",
    "bpE = 160 #CT Extension data Break Point in p-q plane \n",
    "data = load_data(9)\n",
    "d = convert(data)\n",
    "P1_init, P2_init = create_P1_and_P2(data,bpC,bpE)\n",
    "\n",
    "if P1_init.Vo < P2_init.Vo :\n",
    "    P1 = P2_init\n",
    "    P2 = P1_init\n",
    "elif P1_init.Vo > P2_init.Vo :\n",
    "    P1 = P1_init\n",
    "    P2 = P2_init\n",
    "    \n",
    "print(P1.sol) \n",
    "print(P2.sol)"
   ]
  },
  {
   "cell_type": "code",
   "execution_count": 3,
   "metadata": {},
   "outputs": [
    {
     "name": "stdout",
     "output_type": "stream",
     "text": [
      "[0.84575986 1.04340762 0.89892453 1.0123917  1.27673587 1.10099301\n",
      " 0.89104036 0.91537421 0.957122   1.02283053 0.98940174 1.04930879\n",
      " 1.00136663 0.66584259 0.95992265 1.05014942 0.93853866 0.72697998\n",
      " 0.7787318  1.10052845 1.09598624 1.15005742 1.17183053 1.13822422\n",
      " 1.04953659 1.11225184 1.0582924 ]\n"
     ]
    }
   ],
   "source": [
    "P1_coeff = [P1.A,P1.B,P1.C]\n",
    "P2_coeff = [P2.A,P2.B,P2.C]\n",
    "sP1 = np.dot(np.transpose(P1.sig123),P1_coeff) #yi P1\n",
    "sP2 = np.dot(np.transpose(P2.sig123),P2_coeff) #yi P2\n",
    "sP = np.concatenate((sP1,sP2),axis=None) #yi\n",
    "nb_err = sP.size\n",
    "print(sP)"
   ]
  },
  {
   "cell_type": "code",
   "execution_count": 4,
   "metadata": {},
   "outputs": [
    {
     "name": "stdout",
     "output_type": "stream",
     "text": [
      "11.2599715536601\n"
     ]
    }
   ],
   "source": [
    "# MAPE = (1/n)*sum((ymeas-ypred)/(ymeas))*100\n",
    "ymeas = sP\n",
    "ypred = 1\n",
    "Sm = 0\n",
    "for i in range(0,nb_err-1,1) :\n",
    "    Sm = Sm + abs((ymeas[i]-ypred)/ymeas[i])\n",
    "MAPE = (1/nb_err)*Sm*100\n",
    "print(MAPE)"
   ]
  },
  {
   "cell_type": "code",
   "execution_count": 5,
   "metadata": {},
   "outputs": [],
   "source": [
    "## SSres = Sum(yi-fi)^2\n",
    "#nb_err = sP.size\n",
    "#print(nb_err)\n",
    "#SSres = 0\n",
    "#for i in range(0,nb_err-1,1) :\n",
    "#    SSres = SSres + (sP[i]-1)**2\n",
    "#print(SSres)\n",
    "## SStot = Sum(yi-ymean)^2\n",
    "#ymean = np.mean(sP)\n",
    "#print(ymean)\n",
    "#SStot = 0\n",
    "#for i in range(0,nb_err-1,1) :\n",
    "#    SStot = SStot + (sP[i]-ymean)**2\n",
    "#print(SStot)\n",
    "## R^2 = 1 - SSres/SStot\n",
    "#if SSres/SStot > 1 : \n",
    "#    Rsqu = - (1 - SSres/SStot)\n",
    "#elif SSres/SStot < 1 :\n",
    "#    Rsqu = 1 - SSres/SStot\n",
    "#print(Rsqu)"
   ]
  },
  {
   "cell_type": "code",
   "execution_count": null,
   "metadata": {},
   "outputs": [],
   "source": []
  },
  {
   "cell_type": "code",
   "execution_count": null,
   "metadata": {},
   "outputs": [],
   "source": []
  }
 ],
 "metadata": {
  "kernelspec": {
   "display_name": "Python 3",
   "language": "python",
   "name": "python3"
  },
  "language_info": {
   "codemirror_mode": {
    "name": "ipython",
    "version": 3
   },
   "file_extension": ".py",
   "mimetype": "text/x-python",
   "name": "python",
   "nbconvert_exporter": "python",
   "pygments_lexer": "ipython3",
   "version": "3.7.4"
  }
 },
 "nbformat": 4,
 "nbformat_minor": 4
}
