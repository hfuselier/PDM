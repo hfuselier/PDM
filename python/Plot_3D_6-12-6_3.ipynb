{
 "cells": [
  {
   "cell_type": "code",
   "execution_count": 1,
   "metadata": {},
   "outputs": [],
   "source": [
    "import numpy as np\n",
    "from load import load_data\n",
    "from convert import convert\n",
    "#from pmc import *\n",
    "#from brute_force import planes_def\n",
    "from pmc_4p import *\n",
    "from brute_force_4pPMC import planes_def"
   ]
  },
  {
   "cell_type": "code",
   "execution_count": 2,
   "metadata": {},
   "outputs": [],
   "source": [
    "#%matplotlib widget\n",
    "#%matplotlib inline\n",
    "%matplotlib qt\n",
    "#%matplotlib gtk\n",
    "import matplotlib.pyplot as plt\n",
    "import matplotlib.font_manager\n",
    "from mpl_toolkits.mplot3d import Axes3D\n",
    "from mpl_toolkits.mplot3d.art3d import Poly3DCollection\n",
    "plt.rcParams.update({\n",
    "    'pgf.rcfonts': False,\n",
    "})\n",
    "plt.rcParams['font.family'] = 'serif'\n",
    "#from matplotlib.backends.backend_pgf import FigureCanvasPgf\n",
    "#matplotlib.backend_bases.register_backend('pdf', FigureCanvasPgf)"
   ]
  },
  {
   "cell_type": "code",
   "execution_count": 3,
   "metadata": {},
   "outputs": [],
   "source": [
    "alf_inter = 1\n",
    "alf_plane = 0.5"
   ]
  },
  {
   "cell_type": "markdown",
   "metadata": {},
   "source": [
    "# Input"
   ]
  },
  {
   "cell_type": "code",
   "execution_count": 4,
   "metadata": {},
   "outputs": [
    {
     "data": {
      "application/vnd.jupyter.widget-view+json": {
       "model_id": "247abe88450946778d709e5090dde373",
       "version_major": 2,
       "version_minor": 0
      },
      "text/plain": [
       "HBox(children=(IntProgress(value=0, max=24), HTML(value='')))"
      ]
     },
     "metadata": {},
     "output_type": "display_data"
    },
    {
     "name": "stdout",
     "output_type": "stream",
     "text": [
      "\n",
      "[103.81364665  13.07220553  13.07220553]\n",
      "[11.19819018 34.24979471 34.24979471]\n",
      "[[ 71.5   10.    10.    30.5   61.5    0.  ]\n",
      " [ 91.08  20.    20.    44.72  71.08   0.  ]\n",
      " [ 95.9   20.    20.    45.3   75.9    0.  ]\n",
      " [ 98.4   20.    20.    46.1   78.4    0.  ]\n",
      " [ 99.98  20.    20.    46.65  62.28   0.  ]\n",
      " [110.9   30.    30.    57.    80.9    0.  ]\n",
      " [114.5   30.    30.    58.2   84.5    0.  ]\n",
      " [127.3   40.    40.    65.73  87.3    0.  ]\n",
      " [125.5   40.    40.    68.5   85.5    0.  ]\n",
      " [129.4   40.    40.    69.8   89.4    0.  ]\n",
      " [138.1   50.    50.    79.4   88.1    0.  ]\n",
      " [142.1   50.    50.    80.7   92.1    0.  ]\n",
      " [151.1   60.    60.    88.12  91.1    0.  ]\n",
      " [150.8   60.    60.    90.3   90.8    0.  ]\n",
      " [153.8   60.    60.    91.3   93.8    0.  ]\n",
      " [ 88.14  46.85  10.    48.33  55.28  28.12]\n",
      " [ 70.6   49.4   15.    45.    48.7   37.8 ]\n",
      " [ 83.9   62.1   22.    56.    54.4   39.7 ]\n",
      " [ 77.5   70.5   20.    56.    54.3   53.5 ]]\n",
      "[[24.9   0.    0.    8.3  24.9   0.  ]\n",
      " [29.7   0.    0.    9.9  29.7   0.  ]\n",
      " [35.2   2.5   2.5  13.4  32.7   0.  ]\n",
      " [39.4   2.5   2.5  14.8  36.9   0.  ]\n",
      " [48.8   5.    5.   19.6  43.8   0.  ]\n",
      " [49.43  5.    5.   19.81 44.43  0.  ]\n",
      " [52.9   5.    5.   21.   47.9   0.  ]\n",
      " [61.43 10.   10.   27.95 51.43  0.  ]\n",
      " [29.8   0.    0.   27.95 51.43  0.  ]\n",
      " [68.   10.   10.   29.3  58.    0.  ]\n",
      " [35.   35.    0.8  23.6  34.2  60.  ]\n",
      " [35.   35.    3.96 24.64 31.08 60.  ]\n",
      " [40.   40.    1.2  27.1  38.8  60.  ]\n",
      " [40.   40.    1.8  27.3  38.2  60.  ]\n",
      " [40.   40.    4.5  27.89 36.34 60.  ]\n",
      " [50.   50.    5.7  35.2  44.3  60.  ]\n",
      " [50.   50.    6.   35.3  44.   60.  ]\n",
      " [60.   60.    8.   42.7  52.   60.  ]\n",
      " [60.   60.    9.68 43.01 50.98 60.  ]\n",
      " [60.   60.   10.1  43.4  49.9  60.  ]\n",
      " [69.   69.   11.5  49.8  57.5  60.  ]\n",
      " [63.9  12.1   9.   28.3  53.4   2.9 ]\n",
      " [52.9  25.1   7.   28.3  40.1  22.7 ]\n",
      " [48.3  31.6   5.   28.3  37.8  37.5 ]]\n",
      "12.211849806367495 6.5683851590816325\n"
     ]
    }
   ],
   "source": [
    "data = load_data(13)\n",
    "d = convert(data)\n",
    "P1, P2, SP1, SP2 = planes_def(data,d)\n",
    "print(SP1,SP2)\n",
    "#print(P1.coeff)\n",
    "#print(P2.coeff)\n",
    "\n",
    "## stress state computation at failure\n",
    "#sig3 = 10\n",
    "#sig2 = 60\n",
    "#sig1 = (1/P2.A)*(-P2.B*sig2-P2.C*sig3+1)\n",
    "#print(sig1)"
   ]
  },
  {
   "cell_type": "code",
   "execution_count": 5,
   "metadata": {},
   "outputs": [],
   "source": [
    "eq_pts_transisiton_P12 = np.zeros((6,3,3))\n",
    "for i in range(6):\n",
    "    eq_pts_transisiton_P12[i] = np.array([get_plane_normal_6_cycle(P1,i),get_plane_normal_6_cycle(P1,i-1),get_plane_normal_6_cycle(P2,i)])\n",
    "\n",
    "ones = np.ones((6,3))\n",
    "pts_transisiton_P12 = np.linalg.solve(eq_pts_transisiton_P12, ones).transpose()"
   ]
  },
  {
   "cell_type": "code",
   "execution_count": 6,
   "metadata": {},
   "outputs": [
    {
     "name": "stdout",
     "output_type": "stream",
     "text": [
      "[29.7  0.   0. ]\n"
     ]
    }
   ],
   "source": [
    "data = data[0,:]\n",
    "print(data[:3])"
   ]
  },
  {
   "cell_type": "code",
   "execution_count": 7,
   "metadata": {},
   "outputs": [],
   "source": [
    "eq_pts_P2 = np.array([get_plane_normal_6_cycle(P2,0),get_plane_normal_6_cycle(P2,1),get_plane_normal_6_cycle(P2,2)])\n",
    "pts_P2 = np.linalg.solve(eq_pts_P2,np.ones((3,1)))"
   ]
  },
  {
   "cell_type": "code",
   "execution_count": 8,
   "metadata": {},
   "outputs": [],
   "source": [
    "p_trans = (pts_transisiton_P12[0,:]+pts_transisiton_P12[1,:]+pts_transisiton_P12[2,:])/3"
   ]
  },
  {
   "cell_type": "code",
   "execution_count": 9,
   "metadata": {},
   "outputs": [],
   "source": [
    "sig_pts = np.concatenate((P1.pts,P2.pts),axis=1) #miss pts_P2\n",
    "pts_with_largest_coord = sig_pts[:,np.argmax(np.max(sig_pts, axis=0))]\n",
    "dist = np.dot(np.ones(3)/np.sqrt(3),pts_with_largest_coord)*1.1"
   ]
  },
  {
   "cell_type": "code",
   "execution_count": 10,
   "metadata": {},
   "outputs": [],
   "source": [
    "pts_P1_far = p_plane_intersection_6(P1,dist)"
   ]
  },
  {
   "cell_type": "code",
   "execution_count": 11,
   "metadata": {},
   "outputs": [],
   "source": [
    "fig = plt.figure()\n",
    "ax = fig.add_subplot(111, projection='3d')\n",
    "ax.plot(d['sig2'],d['sig3'],d['sig1'],'k.')\n",
    "#ax.plot(*P1.pts,'k.')\n",
    "#ax.plot(*P2.pts,'k.')\n",
    "#ax.plot(d['sig2'],d['sig3'],d['sig1'],'k.')\n",
    "ax.plot(*pts_P2,'ko',alpha=0)\n",
    "ax.plot(*pts_transisiton_P12,'ro',alpha=alf_inter)\n",
    "ax.plot(*pts_P1_far,'bo',alpha=alf_inter)\n",
    "ax.set_xlabel('[MPa]')\n",
    "ax.set_ylabel('[MPa]')\n",
    "ax.set_zlabel('[MPa]')\n",
    "def get_verts(coord):\n",
    "    return [list(zip(*cord))]"
   ]
  },
  {
   "cell_type": "markdown",
   "metadata": {},
   "source": [
    "## Draw P2 plane"
   ]
  },
  {
   "cell_type": "code",
   "execution_count": 12,
   "metadata": {},
   "outputs": [],
   "source": [
    "for i in range(6):\n",
    "    cord = np.zeros((3,3))\n",
    "    cord[:,0] = pts_P2[:,0]\n",
    "    cord[:,1] = pts_transisiton_P12[:,i]\n",
    "    cord[:,2] = pts_transisiton_P12[:,(i+1)%6]\n",
    "    \n",
    "    verts = get_verts(cord)\n",
    "    poly = Poly3DCollection(verts,linewidths=1, alpha=alf_plane)\n",
    "    poly.set_facecolor('r')\n",
    "    ax.add_collection3d(poly)"
   ]
  },
  {
   "cell_type": "markdown",
   "metadata": {},
   "source": [
    "## Draw P1 plane"
   ]
  },
  {
   "cell_type": "code",
   "execution_count": 13,
   "metadata": {},
   "outputs": [],
   "source": [
    "for i in range(6):\n",
    "    cord = np.zeros((3,4))\n",
    "    cord[:,0] = pts_transisiton_P12[:,i]\n",
    "    cord[:,1] = pts_transisiton_P12[:,(i+1)%6]\n",
    "    cord[:,2] = pts_P1_far[:,(i+1)%6]\n",
    "    cord[:,3] = pts_P1_far[:,i%6]\n",
    "    \n",
    "    verts = get_verts(cord)\n",
    "    poly = Poly3DCollection(verts,linewidths=1, alpha=alf_plane)\n",
    "    poly.set_facecolor('b')\n",
    "    ax.add_collection3d(poly)"
   ]
  },
  {
   "cell_type": "code",
   "execution_count": 14,
   "metadata": {},
   "outputs": [],
   "source": [
    "ax.grid(b=None)\n",
    "ax.set_zticks([0,40,80,120,160])\n",
    "ax.set_xticks([0,40,80,120,160])\n",
    "ax.set_yticks([0,40,80,120,160])\n",
    "fig.show()\n",
    "#fig.savefig('3D.pdf')"
   ]
  },
  {
   "cell_type": "markdown",
   "metadata": {},
   "source": [
    "# 2D view"
   ]
  },
  {
   "cell_type": "code",
   "execution_count": 15,
   "metadata": {},
   "outputs": [],
   "source": [
    "new_base = np.zeros((3,3))\n",
    "\n",
    "new_z = np.array([1,1,1])\n",
    "new_y = np.array([-1,-1,2])\n",
    "new_x = np.array([-1,1,0])\n",
    "new_base[:,0] = new_x /np.linalg.norm(new_x )\n",
    "new_base[:,1] = new_y /np.linalg.norm(new_y )\n",
    "new_base[:,2] = new_z /np.linalg.norm(new_z )\n",
    "new_base_transform = np.linalg.inv(new_base)"
   ]
  },
  {
   "cell_type": "code",
   "execution_count": null,
   "metadata": {},
   "outputs": [],
   "source": []
  },
  {
   "cell_type": "code",
   "execution_count": 16,
   "metadata": {},
   "outputs": [],
   "source": [
    "#new_sig = new_base_transform @ sig_pts\n",
    "new_transi = new_base_transform @ pts_transisiton_P12\n",
    "new_P2 = new_base_transform @ pts_P2\n",
    "new_far_P1 = new_base_transform @ pts_P1_far"
   ]
  },
  {
   "cell_type": "code",
   "execution_count": 17,
   "metadata": {},
   "outputs": [],
   "source": [
    "transi_dist_min = np.min(new_transi[2,:])\n",
    "transi_dist_max = np.max(new_transi[2,:])\n",
    "transi_dist_mid = (transi_dist_min+transi_dist_max)/2\n",
    "near_inter = p_plane_intersection_6(P2,transi_dist_min*0.4)\n",
    "near_transP2 = p_plane_intersection_6(P2,transi_dist_mid*1)\n",
    "near_transP1 = p_plane_intersection_6(P1,transi_dist_mid*1)\n",
    "new_near = new_base_transform @ near_inter\n",
    "new_transP2 = new_base_transform @ near_transP2\n",
    "new_transP1 = new_base_transform @ near_transP1"
   ]
  },
  {
   "cell_type": "code",
   "execution_count": 18,
   "metadata": {},
   "outputs": [],
   "source": [
    "transi_dist_max = np.max(new_transi[2,:])\n",
    "t = 0.5\n",
    "dist = transi_dist_max*t + transi_dist_min*(1-t)\n",
    "#offset = 2 if np.allclose(new_transi[0,0],transi_dist_max) else 0\n",
    "offset = 2 if p_trans[0]>p_trans[1] else 0\n",
    "middle_inter = p_plane_intersection_12(P1,P2,dist,offset)\n",
    "new_middle = new_base_transform @ middle_inter"
   ]
  },
  {
   "cell_type": "code",
   "execution_count": 19,
   "metadata": {},
   "outputs": [],
   "source": [
    "o_sig = d['o'][:,:3].transpose()\n",
    "o_pts = np.zeros(o_sig.shape)\n",
    "o_pts[0,:] = o_sig[1,:]\n",
    "o_pts[1,:] = o_sig[2,:]\n",
    "o_pts[2,:] = o_sig[0,:]\n",
    "new_o_pts = new_base_transform @ o_pts"
   ]
  },
  {
   "cell_type": "code",
   "execution_count": 20,
   "metadata": {},
   "outputs": [],
   "source": [
    "p = np.unique(d['o'][:,3])\n",
    "pts_tt1p = p_planes(p[0],P1,P2,p_trans,offset)\n",
    "pts_tt2p = p_planes(p[1],P1,P2,p_trans,offset)\n",
    "pts_tt3p = p_planes(p[3],P1,P2,p_trans,offset)\n",
    "pts_tt1 = p_planes(p[2],P1,P2,p_trans,offset)"
   ]
  },
  {
   "cell_type": "code",
   "execution_count": 21,
   "metadata": {},
   "outputs": [],
   "source": [
    "new_tt1p = new_base_transform @ pts_tt1p\n",
    "new_tt2p = new_base_transform @ pts_tt2p\n",
    "new_tt3p = new_base_transform @ pts_tt3p\n",
    "new_tt1 = new_base_transform @ pts_tt1"
   ]
  },
  {
   "cell_type": "code",
   "execution_count": 24,
   "metadata": {},
   "outputs": [],
   "source": [
    "plt.close()\n",
    "#plt.axis('equal')\n",
    "p1, = plt.plot(new_o_pts[0,:3],new_o_pts[1,:3],'r*', label='p={} MPa'.format(p[0]))\n",
    "p2, = plt.plot(new_o_pts[0,3],new_o_pts[1,3],'b.',label='p={} MPa'.format(p[1]))\n",
    "p3, = plt.plot(new_o_pts[0,4:6],new_o_pts[1,4:6],'gp',label='p={} MPa'.format(p[3]))\n",
    "p4, = plt.plot(new_o_pts[0,6],new_o_pts[1,6],'yX',label='p={} MPa'.format(p[2]))\n",
    "\n",
    "#p5, = plt.fill(new_middle[0,:],new_middle[1,:],edgecolor='k',fill=False,label='12 sided - P2 and P1')\n",
    "plt.fill(new_tt1p[0,:],new_tt1p[1,:],edgecolor='r',fill=False)\n",
    "plt.fill(new_tt2p[0,:],new_tt2p[1,:],edgecolor='b',fill=False)\n",
    "plt.fill(new_tt3p[0,:],new_tt3p[1,:],edgecolor='g',fill=False)\n",
    "plt.fill(new_tt1[0,:],new_tt1[1,:],edgecolor='y',fill=False)\n",
    "plt.legend(handles=[p1, p2, p3, p4])\n",
    "x = np.linspace(0,70)\n",
    "zer = [0]*len(x)\n",
    "v = np.array([x,x,zer])\n",
    "w = new_base_transform@v\n",
    "plt.plot(w[0,:],w[1,:],'k--')\n",
    "v = np.array([x,zer,x])\n",
    "w = new_base_transform@v\n",
    "plt.plot(w[0,:],w[1,:],'k--')\n",
    "v = np.array([zer,x,x])\n",
    "w = new_base_transform@v\n",
    "plt.plot(w[0,:],w[1,:],'k--')\n",
    "\n",
    "x = np.linspace(-90,0)\n",
    "zer = [0]*len(x)\n",
    "v = np.array([x,x,zer])\n",
    "w = new_base_transform@v\n",
    "plt.plot(w[0,:],w[1,:],'k-')\n",
    "v = np.array([x,zer,x])\n",
    "w = new_base_transform@v\n",
    "plt.plot(w[0,:],w[1,:],'k-')\n",
    "v = np.array([zer,x,x])\n",
    "w = new_base_transform@v\n",
    "plt.plot(w[0,:],w[1,:],'k-')\n",
    "\n",
    "plt.xlabel('[MPa]')\n",
    "plt.ylabel('[MPa]')\n",
    "plt.axis('equal')\n",
    "#plt.axis('off')\n",
    "plt.show()"
   ]
  },
  {
   "cell_type": "code",
   "execution_count": 23,
   "metadata": {},
   "outputs": [],
   "source": [
    "plt.close()\n",
    "p1, = plt.fill(new_far_P1[0,:],new_far_P1[1,:],edgecolor='b',fill=False,label='6 sided - P1')\n",
    "p2, = plt.fill(new_near[0,:],new_near[1,:],edgecolor='r',fill=False,label='6 sided - P2')\n",
    "plt.fill(new_transP2[0,:],new_transP2[1,:],edgecolor='r',fill=False)\n",
    "plt.fill(new_transP1[0,:],new_transP1[1,:],edgecolor='b',fill=False)\n",
    "p3, = plt.fill(new_middle[0,:],new_middle[1,:],edgecolor='k',fill=False,label='12 sided - P2 and P1')\n",
    "plt.legend(handles=[p1, p2, p3])\n",
    "\n",
    "x = np.linspace(0,100)\n",
    "zer = [0]*len(x)\n",
    "v = np.array([x,x,zer])\n",
    "w = new_base_transform@v\n",
    "plt.plot(w[0,:],w[1,:],'k--')\n",
    "v = np.array([x,zer,x])\n",
    "w = new_base_transform@v\n",
    "plt.plot(w[0,:],w[1,:],'k--')\n",
    "v = np.array([zer,x,x])\n",
    "w = new_base_transform@v\n",
    "plt.plot(w[0,:],w[1,:],'k--')\n",
    "\n",
    "x = np.linspace(-110,0)\n",
    "zer = [0]*len(x)\n",
    "v = np.array([x,x,zer])\n",
    "w = new_base_transform@v\n",
    "plt.plot(w[0,:],w[1,:],'k-')\n",
    "v = np.array([x,zer,x])\n",
    "w = new_base_transform@v\n",
    "plt.plot(w[0,:],w[1,:],'k-')\n",
    "v = np.array([zer,x,x])\n",
    "w = new_base_transform@v\n",
    "plt.plot(w[0,:],w[1,:],'k-')\n",
    "\n",
    "plt.xlabel('[MPa]')\n",
    "plt.ylabel('[MPa]')\n",
    "plt.axis('equal')\n",
    "#plt.axis('off')\n",
    "plt.show()"
   ]
  },
  {
   "cell_type": "code",
   "execution_count": 48,
   "metadata": {},
   "outputs": [],
   "source": [
    "plt.close()"
   ]
  }
 ],
 "metadata": {
  "kernelspec": {
   "display_name": "Python 3",
   "language": "python",
   "name": "python3"
  },
  "language_info": {
   "codemirror_mode": {
    "name": "ipython",
    "version": 3
   },
   "file_extension": ".py",
   "mimetype": "text/x-python",
   "name": "python",
   "nbconvert_exporter": "python",
   "pygments_lexer": "ipython3",
   "version": "3.7.4"
  }
 },
 "nbformat": 4,
 "nbformat_minor": 4
}
