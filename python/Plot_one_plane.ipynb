{
 "cells": [
  {
   "cell_type": "code",
   "execution_count": 1,
   "metadata": {},
   "outputs": [],
   "source": [
    "import numpy as np\n",
    "from load import load_data\n",
    "from convert import convert\n",
    "from pmc2 import *\n",
    "from brute_force import planes_def\n",
    "from error_computation import *\n",
    "from mc import *"
   ]
  },
  {
   "cell_type": "code",
   "execution_count": 2,
   "metadata": {},
   "outputs": [],
   "source": [
    "#%matplotlib widget\n",
    "#%matplotlib inline\n",
    "%matplotlib qt\n",
    "#%matplotlib gtk\n",
    "import matplotlib.pyplot as plt\n",
    "import matplotlib.font_manager\n",
    "from mpl_toolkits.mplot3d import Axes3D\n",
    "from mpl_toolkits.mplot3d.art3d import Poly3DCollection\n",
    "plt.rcParams.update({\n",
    "    'pgf.rcfonts': False,\n",
    "})\n",
    "\n",
    "plt.rcParams['font.family'] = 'serif'\n",
    "#from matplotlib.backends.backend_pgf import FigureCanvasPgf\n",
    "#matplotlib.backend_bases.register_backend('pdf', FigureCanvasPgf)"
   ]
  },
  {
   "cell_type": "code",
   "execution_count": 3,
   "metadata": {},
   "outputs": [],
   "source": [
    "alf_inter = 1\n",
    "alf_plane = 0.5"
   ]
  },
  {
   "cell_type": "markdown",
   "metadata": {},
   "source": [
    "# Input"
   ]
  },
  {
   "cell_type": "code",
   "execution_count": 20,
   "metadata": {},
   "outputs": [
    {
     "name": "stdout",
     "output_type": "stream",
     "text": [
      "2.058780900891726\n"
     ]
    }
   ],
   "source": [
    "data = load_data(13)\n",
    "d = convert(data)\n",
    "P = Plane_HB(data)\n",
    "#print(P.sol)\n",
    "#Err,Err_P1,Err_P2 = error_computation(P,P)\n",
    "#print(Err)"
   ]
  },
  {
   "cell_type": "code",
   "execution_count": 21,
   "metadata": {},
   "outputs": [],
   "source": [
    "eq_pts_P_near = np.array([get_plane_normal_6_cycle(P,0),get_plane_normal_6_cycle(P,1),get_plane_normal_6_cycle(P,2)])\n",
    "pts_P_near = np.linalg.solve(eq_pts_P_near,np.ones((3,1)))"
   ]
  },
  {
   "cell_type": "code",
   "execution_count": 22,
   "metadata": {},
   "outputs": [],
   "source": [
    "sig_pts = P.pts #miss pts_P2\n",
    "pts_with_largest_coord = sig_pts[:,np.argmax(np.max(sig_pts, axis=0))]\n",
    "dist = np.dot(np.ones(3)/np.sqrt(3),pts_with_largest_coord)\n",
    "#print(dist)"
   ]
  },
  {
   "cell_type": "code",
   "execution_count": 23,
   "metadata": {},
   "outputs": [],
   "source": [
    "pts_P_far = p_plane_intersection_6(P,dist)"
   ]
  },
  {
   "cell_type": "code",
   "execution_count": 24,
   "metadata": {},
   "outputs": [],
   "source": [
    "fig = plt.figure()\n",
    "ax = fig.add_subplot(111, projection='3d')\n",
    "#ax.plot(d['sig2'],d['sig3'],d['sig1'],'k.')\n",
    "ax.plot(*P.pts,'k.')\n",
    "#ax.plot(d['sig2'],d['sig3'],d['sig1'],'k.')\n",
    "ax.plot(*pts_P_near,'ko',alpha=alf_inter)\n",
    "#ax.plot(*pts_P1_far,'bo',alpha=alf_inter)\n",
    "def get_verts(coord):\n",
    "    return [list(zip(*cord))]"
   ]
  },
  {
   "cell_type": "markdown",
   "metadata": {},
   "source": [
    "## Draw pyramid"
   ]
  },
  {
   "cell_type": "code",
   "execution_count": 25,
   "metadata": {},
   "outputs": [],
   "source": [
    "for i in range(6):\n",
    "    cord = np.zeros((3,3))\n",
    "    cord[:,0] = pts_P_near[:,0]\n",
    "    cord[:,1] = pts_P_far[:,i]\n",
    "    cord[:,2] = pts_P_far[:,(i+1)%6]\n",
    "    \n",
    "    verts = get_verts(cord)\n",
    "    poly = Poly3DCollection(verts,linewidths=1, alpha=alf_plane)\n",
    "    poly.set_facecolor('r')\n",
    "    ax.add_collection3d(poly)"
   ]
  },
  {
   "cell_type": "code",
   "execution_count": 26,
   "metadata": {},
   "outputs": [],
   "source": [
    "fig.show()\n",
    "#fig.savefig('3D.pdf')"
   ]
  },
  {
   "cell_type": "markdown",
   "metadata": {},
   "source": [
    "# 2D view"
   ]
  },
  {
   "cell_type": "code",
   "execution_count": 27,
   "metadata": {},
   "outputs": [],
   "source": [
    "new_base = np.zeros((3,3))\n",
    "\n",
    "new_z = np.array([1,1,1])\n",
    "new_y = np.array([-1,-1,2])\n",
    "new_x = np.array([-1,1,0])\n",
    "new_base[:,0] = new_x /np.linalg.norm(new_x )\n",
    "new_base[:,1] = new_y /np.linalg.norm(new_y )\n",
    "new_base[:,2] = new_z /np.linalg.norm(new_z )\n",
    "new_base_transform = np.linalg.inv(new_base)"
   ]
  },
  {
   "cell_type": "code",
   "execution_count": null,
   "metadata": {},
   "outputs": [],
   "source": []
  },
  {
   "cell_type": "code",
   "execution_count": 28,
   "metadata": {},
   "outputs": [],
   "source": [
    "#new_sig = new_base_transform @ sig_pts\n",
    "#new_transi = new_base_transform @ pts_transisiton_P12\n",
    "new_P2 = new_base_transform @ pts_P_near\n",
    "new_far_P1 = new_base_transform @ pts_P_far"
   ]
  },
  {
   "cell_type": "code",
   "execution_count": 29,
   "metadata": {},
   "outputs": [],
   "source": [
    "#transi_dist_min = np.min(new_transi[2,:])\n",
    "#transi_dist_max = np.max(new_transi[2,:])\n",
    "#transi_dist_mid = (transi_dist_min+transi_dist_max)/2\n",
    "#near_inter = p_plane_intersection_6(P2,transi_dist_min*0.4)\n",
    "#near_transP2 = p_plane_intersection_6(P2,transi_dist_mid*1)\n",
    "#near_transP1 = p_plane_intersection_6(P1,transi_dist_mid*1)\n",
    "#new_near = new_base_transform @ near_inter\n",
    "#new_transP2 = new_base_transform @ near_transP2\n",
    "#new_transP1 = new_base_transform @ near_transP1"
   ]
  },
  {
   "cell_type": "code",
   "execution_count": 30,
   "metadata": {},
   "outputs": [],
   "source": [
    "#transi_dist_max = np.max(new_transi[2,:])\n",
    "#t = 0.5\n",
    "#dist = transi_dist_max*t + transi_dist_min*(1-t)\n",
    "#offset = 0 if np.allclose(new_transi[0,0],transi_dist_max) else 2\n",
    "#offset = 0 if p_trans[0]>p_trans[1] else 2\n",
    "#middle_inter = p_plane_intersection_12(P1,P2,dist,offset)\n",
    "#new_middle = new_base_transform @ middle_inter"
   ]
  },
  {
   "cell_type": "code",
   "execution_count": 31,
   "metadata": {},
   "outputs": [
    {
     "name": "stdout",
     "output_type": "stream",
     "text": [
      "[[31.6  25.1  12.1  49.4  70.5  62.1  46.85]\n",
      " [ 5.    7.    9.   15.   20.   22.   10.  ]\n",
      " [48.3  52.9  63.9  70.6  77.5  83.9  88.14]]\n"
     ]
    }
   ],
   "source": [
    "o_sig = d['o'][:,:3].transpose()\n",
    "o_pts = np.zeros(o_sig.shape)\n",
    "o_pts[0,:] = o_sig[1,:]\n",
    "o_pts[1,:] = o_sig[2,:]\n",
    "o_pts[2,:] = o_sig[0,:]\n",
    "new_o_pts = new_base_transform @ o_pts\n",
    "print(o_pts)"
   ]
  },
  {
   "cell_type": "code",
   "execution_count": 44,
   "metadata": {},
   "outputs": [],
   "source": [
    "p = np.unique(d['o'][:,3])\n",
    "pts_tt1p = p_plane_intersection_6(P,p[0]*sqrt(3))\n",
    "pts_tt2p = p_plane_intersection_6(P,p[1]*sqrt(3))\n",
    "pts_tt3p = p_plane_intersection_6(P,p[3]*sqrt(3))\n",
    "pts_tt1 = p_plane_intersection_6(P,p[2]*sqrt(3))\n",
    "\n",
    "new_tt1p = new_base_transform @ pts_tt1p\n",
    "new_tt2p = new_base_transform @ pts_tt2p\n",
    "new_tt3p = new_base_transform @ pts_tt3p\n",
    "new_tt1 = new_base_transform @ pts_tt1"
   ]
  },
  {
   "cell_type": "code",
   "execution_count": 49,
   "metadata": {},
   "outputs": [
    {
     "data": {
      "text/plain": [
       "<matplotlib.legend.Legend at 0x126623710>"
      ]
     },
     "execution_count": 49,
     "metadata": {},
     "output_type": "execute_result"
    }
   ],
   "source": [
    "plt.close()\n",
    "#plt.axis('equal')\n",
    "p1, = plt.plot(new_o_pts[0,:3],new_o_pts[1,:3],'r*', label='p={} MPa'.format(p[0]))\n",
    "p2, = plt.plot(new_o_pts[0,3],new_o_pts[1,3],'b.',label='p={} MPa'.format(p[1]))\n",
    "p3, = plt.plot(new_o_pts[0,4:6],new_o_pts[1,4:6],'gp',label='p={} MPa'.format(p[3]))\n",
    "p4, = plt.plot(new_o_pts[0,6],new_o_pts[1,6],'yX',label='p={} MPa'.format(p[2]))\n",
    "#plt.fill(new_P12[0,:],new_P12[1,:],edgecolor='k',fill=False)\n",
    "plt.fill(new_far_P1[0,:],new_far_P1[1,:],edgecolor='k',fill=False)\n",
    "plt.fill(new_P2[0,:],new_P2[1,:],edgecolor='k',fill=False)\n",
    "#plt.fill(new_middle[0,:],new_middle[1,:],edgecolor='k',fill=False,label='12 sided - P2 and P1')\n",
    "plt.fill(new_tt1p[0,:],new_tt1p[1,:],edgecolor='r',fill=False)\n",
    "plt.fill(new_tt2p[0,:],new_tt2p[1,:],edgecolor='b',fill=False)\n",
    "plt.fill(new_tt3p[0,:],new_tt3p[1,:],edgecolor='g',fill=False)\n",
    "plt.fill(new_tt1[0,:],new_tt1[1,:],edgecolor='y',fill=False)\n",
    "plt.legend(handles=[p1, p2, p3, p4])"
   ]
  },
  {
   "cell_type": "code",
   "execution_count": 50,
   "metadata": {},
   "outputs": [
    {
     "data": {
      "text/plain": [
       "[<matplotlib.lines.Line2D at 0x12667fb10>]"
      ]
     },
     "execution_count": 50,
     "metadata": {},
     "output_type": "execute_result"
    }
   ],
   "source": [
    "x = np.linspace(0,100)\n",
    "zer = [0]*len(x)\n",
    "v = np.array([x,x,zer])\n",
    "w = new_base_transform@v\n",
    "plt.plot(w[0,:],w[1,:],'k--')\n",
    "v = np.array([x,zer,x])\n",
    "w = new_base_transform@v\n",
    "plt.plot(w[0,:],w[1,:],'k--')\n",
    "v = np.array([zer,x,x])\n",
    "w = new_base_transform@v\n",
    "plt.plot(w[0,:],w[1,:],'k--')\n",
    "\n",
    "x = np.linspace(-110,0)\n",
    "zer = [0]*len(x)\n",
    "v = np.array([x,x,zer])\n",
    "w = new_base_transform@v\n",
    "plt.plot(w[0,:],w[1,:],'k-')\n",
    "v = np.array([x,zer,x])\n",
    "w = new_base_transform@v\n",
    "plt.plot(w[0,:],w[1,:],'k-')\n",
    "v = np.array([zer,x,x])\n",
    "w = new_base_transform@v\n",
    "plt.plot(w[0,:],w[1,:],'k-')"
   ]
  },
  {
   "cell_type": "code",
   "execution_count": 51,
   "metadata": {},
   "outputs": [],
   "source": [
    "plt.xlabel('[MPa]')\n",
    "plt.ylabel('[MPa]')\n",
    "plt.axis('equal')\n",
    "#plt.axis('off')\n",
    "plt.show()"
   ]
  },
  {
   "cell_type": "code",
   "execution_count": 26,
   "metadata": {},
   "outputs": [],
   "source": [
    "plt.close()"
   ]
  }
 ],
 "metadata": {
  "kernelspec": {
   "display_name": "Python 3",
   "language": "python",
   "name": "python3"
  },
  "language_info": {
   "codemirror_mode": {
    "name": "ipython",
    "version": 3
   },
   "file_extension": ".py",
   "mimetype": "text/x-python",
   "name": "python",
   "nbconvert_exporter": "python",
   "pygments_lexer": "ipython3",
   "version": "3.7.4"
  }
 },
 "nbformat": 4,
 "nbformat_minor": 4
}
