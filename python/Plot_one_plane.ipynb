{
 "cells": [
  {
   "cell_type": "code",
   "execution_count": 1,
   "metadata": {},
   "outputs": [],
   "source": [
    "import numpy as np\n",
    "from load import load_data\n",
    "from convert import convert\n",
    "from pmc2 import *\n",
    "from brute_force import planes_def\n",
    "from error_computation import *\n",
    "from mc import *\n",
    "from hb import *\n",
    "from sympy import plot_implicit, cos, sin, symbols, Eq, And\n",
    "from sympy.plotting import plot"
   ]
  },
  {
   "cell_type": "code",
   "execution_count": 2,
   "metadata": {},
   "outputs": [],
   "source": [
    "#%matplotlib widget\n",
    "#%matplotlib inline\n",
    "%matplotlib qt\n",
    "#%matplotlib gtk\n",
    "import matplotlib.pyplot as plt\n",
    "import matplotlib.font_manager\n",
    "from mpl_toolkits.mplot3d import Axes3D\n",
    "from mpl_toolkits.mplot3d.art3d import Poly3DCollection\n",
    "plt.rcParams.update({\n",
    "    'pgf.rcfonts': False,\n",
    "})\n",
    "\n",
    "plt.rcParams['font.family'] = 'serif'\n",
    "#from matplotlib.backends.backend_pgf import FigureCanvasPgf\n",
    "#matplotlib.backend_bases.register_backend('pdf', FigureCanvasPgf)"
   ]
  },
  {
   "cell_type": "code",
   "execution_count": 3,
   "metadata": {},
   "outputs": [],
   "source": [
    "alf_inter = 1\n",
    "alf_plane = 0.5"
   ]
  },
  {
   "cell_type": "markdown",
   "metadata": {},
   "source": [
    "# Input"
   ]
  },
  {
   "cell_type": "code",
   "execution_count": 4,
   "metadata": {},
   "outputs": [
    {
     "name": "stdout",
     "output_type": "stream",
     "text": [
      "[29.7         5.95959596]\n",
      "9.365409241778476\n"
     ]
    },
    {
     "name": "stderr",
     "output_type": "stream",
     "text": [
      "/Users/heloisefuselier/Dropbox/PDM/PDM/python/hb.py:41: RuntimeWarning: divide by zero encountered in true_divide\n",
      "  self.mc = (self.Co/get_C(data)[:,2])*(np.square((get_C(data)[:,0]-get_C(data)[:,2])/self.Co)-1)\n",
      "/Users/heloisefuselier/Dropbox/PDM/PDM/python/hb.py:41: RuntimeWarning: invalid value encountered in multiply\n",
      "  self.mc = (self.Co/get_C(data)[:,2])*(np.square((get_C(data)[:,0]-get_C(data)[:,2])/self.Co)-1)\n"
     ]
    }
   ],
   "source": [
    "data = load_data(13)\n",
    "d = convert(data)\n",
    "P = Plane_HB(data)\n",
    "print(P.sol)\n",
    "name = 'HB'\n",
    "SP = standard_dev(P,name)\n",
    "print(SP)"
   ]
  },
  {
   "cell_type": "code",
   "execution_count": 5,
   "metadata": {},
   "outputs": [],
   "source": [
    "eq_pts_P_near = np.array([get_plane_normal_6_cycle(P,0),get_plane_normal_6_cycle(P,1),get_plane_normal_6_cycle(P,2)])\n",
    "pts_P_near = np.linalg.solve(eq_pts_P_near,np.ones((3,1)))"
   ]
  },
  {
   "cell_type": "code",
   "execution_count": 6,
   "metadata": {},
   "outputs": [],
   "source": [
    "sig_pts = P.pts #miss pts_P2\n",
    "pts_with_largest_coord = sig_pts[:,np.argmax(np.max(sig_pts, axis=0))]\n",
    "dist = np.dot(np.ones(3)/np.sqrt(3),pts_with_largest_coord)\n",
    "#print(dist)"
   ]
  },
  {
   "cell_type": "code",
   "execution_count": 7,
   "metadata": {},
   "outputs": [
    {
     "name": "stdout",
     "output_type": "stream",
     "text": [
      "[[-19.14868421]\n",
      " [-19.14868421]\n",
      " [-19.14868421]]\n"
     ]
    }
   ],
   "source": [
    "pts_P_far = p_plane_intersection_6(P,dist)\n",
    "print(pts_P_near)"
   ]
  },
  {
   "cell_type": "code",
   "execution_count": 8,
   "metadata": {},
   "outputs": [],
   "source": [
    "fig = plt.figure()\n",
    "ax = fig.add_subplot(111, projection='3d')\n",
    "#ax.plot(d['sig2'],d['sig3'],d['sig1'],'k.')\n",
    "ax.plot(*P.pts,'k.')\n",
    "#ax.plot(d['sig2'],d['sig3'],d['sig1'],'k.')\n",
    "ax.plot(*pts_P_near,'ko',alpha=alf_inter)\n",
    "#ax.plot(*pts_P1_far,'bo',alpha=alf_inter)\n",
    "def get_verts(coord):\n",
    "    return [list(zip(*cord))]"
   ]
  },
  {
   "cell_type": "markdown",
   "metadata": {},
   "source": [
    "## Draw pyramid"
   ]
  },
  {
   "cell_type": "code",
   "execution_count": 9,
   "metadata": {},
   "outputs": [],
   "source": [
    "for i in range(6):\n",
    "    cord = np.zeros((3,3))\n",
    "    cord[:,0] = pts_P_near[:,0]\n",
    "    cord[:,1] = pts_P_far[:,i]\n",
    "    cord[:,2] = pts_P_far[:,(i+1)%6]\n",
    "    \n",
    "    verts = get_verts(cord)\n",
    "    poly = Poly3DCollection(verts,linewidths=1, alpha=alf_plane)\n",
    "    poly.set_facecolor('r')\n",
    "    ax.add_collection3d(poly)"
   ]
  },
  {
   "cell_type": "code",
   "execution_count": 10,
   "metadata": {},
   "outputs": [],
   "source": [
    "fig.show()\n",
    "#fig.savefig('3D.pdf')"
   ]
  },
  {
   "cell_type": "markdown",
   "metadata": {},
   "source": [
    "# 2D view"
   ]
  },
  {
   "cell_type": "code",
   "execution_count": 12,
   "metadata": {},
   "outputs": [],
   "source": [
    "new_base = np.zeros((3,3))\n",
    "\n",
    "new_z = np.array([1,1,1])\n",
    "new_y = np.array([-1,-1,2])\n",
    "new_x = np.array([-1,1,0])\n",
    "new_base[:,0] = new_x /np.linalg.norm(new_x )\n",
    "new_base[:,1] = new_y /np.linalg.norm(new_y )\n",
    "new_base[:,2] = new_z /np.linalg.norm(new_z )\n",
    "new_base_transform = np.linalg.inv(new_base)"
   ]
  },
  {
   "cell_type": "code",
   "execution_count": 12,
   "metadata": {},
   "outputs": [],
   "source": [
    "new_P2 = new_base_transform @ pts_P_near\n",
    "new_far_P1 = new_base_transform @ pts_P_far"
   ]
  },
  {
   "cell_type": "code",
   "execution_count": 13,
   "metadata": {},
   "outputs": [],
   "source": [
    "o_sig = d['o'][:,:3].transpose()\n",
    "o_pts = np.zeros(o_sig.shape)\n",
    "o_pts[0,:] = o_sig[1,:]\n",
    "o_pts[1,:] = o_sig[2,:]\n",
    "o_pts[2,:] = o_sig[0,:]\n",
    "new_o_pts = new_base_transform @ o_pts"
   ]
  },
  {
   "cell_type": "code",
   "execution_count": 14,
   "metadata": {},
   "outputs": [],
   "source": [
    "p = np.unique(d['o'][:,3])\n",
    "pts_tt1p = p_plane_intersection_6(P,p[0]*sqrt(3))\n",
    "pts_tt2p = p_plane_intersection_6(P,p[1]*sqrt(3))\n",
    "pts_tt3p = p_plane_intersection_6(P,p[3]*sqrt(3))\n",
    "pts_tt1 = p_plane_intersection_6(P,p[2]*sqrt(3))\n",
    "\n",
    "new_tt1p = new_base_transform @ pts_tt1p\n",
    "new_tt2p = new_base_transform @ pts_tt2p\n",
    "new_tt3p = new_base_transform @ pts_tt3p\n",
    "new_tt1 = new_base_transform @ pts_tt1"
   ]
  },
  {
   "cell_type": "code",
   "execution_count": 15,
   "metadata": {},
   "outputs": [
    {
     "data": {
      "text/plain": [
       "<matplotlib.legend.Legend at 0x1225e1550>"
      ]
     },
     "execution_count": 15,
     "metadata": {},
     "output_type": "execute_result"
    }
   ],
   "source": [
    "plt.close()\n",
    "#plt.axis('equal')\n",
    "p1, = plt.plot(new_o_pts[0,:3],new_o_pts[1,:3],'r*', label='p={} MPa'.format(p[0]))\n",
    "p2, = plt.plot(new_o_pts[0,3],new_o_pts[1,3],'b.',label='p={} MPa'.format(p[1]))\n",
    "p3, = plt.plot(new_o_pts[0,4:6],new_o_pts[1,4:6],'gp',label='p={} MPa'.format(p[3]))\n",
    "p4, = plt.plot(new_o_pts[0,6],new_o_pts[1,6],'yX',label='p={} MPa'.format(p[2]))\n",
    "plt.fill(new_far_P1[0,:],new_far_P1[1,:],edgecolor='k',fill=False)\n",
    "#plt.fill(new_P2[0,:],new_P2[1,:],edgecolor='k',fill=False)\n",
    "plt.fill(new_tt1p[0,:],new_tt1p[1,:],edgecolor='r',fill=False)\n",
    "plt.fill(new_tt2p[0,:],new_tt2p[1,:],edgecolor='b',fill=False)\n",
    "plt.fill(new_tt3p[0,:],new_tt3p[1,:],edgecolor='g',fill=False)\n",
    "plt.fill(new_tt1[0,:],new_tt1[1,:],edgecolor='y',fill=False)\n",
    "plt.legend(handles=[p1, p2, p3, p4])"
   ]
  },
  {
   "cell_type": "code",
   "execution_count": 16,
   "metadata": {},
   "outputs": [
    {
     "data": {
      "text/plain": [
       "[<matplotlib.lines.Line2D at 0x122661bd0>]"
      ]
     },
     "execution_count": 16,
     "metadata": {},
     "output_type": "execute_result"
    }
   ],
   "source": [
    "x = np.linspace(0,90)\n",
    "zer = [0]*len(x)\n",
    "v = np.array([x,x,zer])\n",
    "w = new_base_transform@v\n",
    "plt.plot(w[0,:],w[1,:],'k--')\n",
    "v = np.array([x,zer,x])\n",
    "w = new_base_transform@v\n",
    "plt.plot(w[0,:],w[1,:],'k--')\n",
    "v = np.array([zer,x,x])\n",
    "w = new_base_transform@v\n",
    "plt.plot(w[0,:],w[1,:],'k--')\n",
    "\n",
    "x = np.linspace(-120,0)\n",
    "zer = [0]*len(x)\n",
    "v = np.array([x,x,zer])\n",
    "w = new_base_transform@v\n",
    "plt.plot(w[0,:],w[1,:],'k-')\n",
    "v = np.array([x,zer,x])\n",
    "w = new_base_transform@v\n",
    "plt.plot(w[0,:],w[1,:],'k-')\n",
    "v = np.array([zer,x,x])\n",
    "w = new_base_transform@v\n",
    "plt.plot(w[0,:],w[1,:],'k-')"
   ]
  },
  {
   "cell_type": "code",
   "execution_count": 17,
   "metadata": {},
   "outputs": [],
   "source": [
    "plt.xlabel('[MPa]')\n",
    "plt.ylabel('[MPa]')\n",
    "plt.axis('equal')\n",
    "#plt.axis('off')\n",
    "plt.show()"
   ]
  },
  {
   "cell_type": "code",
   "execution_count": 34,
   "metadata": {},
   "outputs": [],
   "source": [
    "plt.close()"
   ]
  },
  {
   "cell_type": "code",
   "execution_count": 27,
   "metadata": {},
   "outputs": [
    {
     "name": "stdout",
     "output_type": "stream",
     "text": [
      "[ 28.3   45.    48.33  56.   100.  ]\n",
      "29.7\n",
      "5.959595959595959\n"
     ]
    },
    {
     "name": "stderr",
     "output_type": "stream",
     "text": [
      "/Users/heloisefuselier/opt/anaconda3/lib/python3.7/site-packages/ipykernel_launcher.py:8: RuntimeWarning: invalid value encountered in sqrt\n",
      "  \n",
      "/Users/heloisefuselier/opt/anaconda3/lib/python3.7/site-packages/ipykernel_launcher.py:9: RuntimeWarning: invalid value encountered in sqrt\n",
      "  if __name__ == '__main__':\n"
     ]
    },
    {
     "data": {
      "text/plain": [
       "<matplotlib.legend.Legend at 0x1214e39d0>"
      ]
     },
     "execution_count": 27,
     "metadata": {},
     "output_type": "execute_result"
    }
   ],
   "source": [
    "p = np.concatenate((np.unique(d['o'][:,3]),[100]))\n",
    "colors = ['r','b','y','g','k']\n",
    "print(p)\n",
    "print(P.Co)\n",
    "print(P.m)\n",
    "for i in range(p.size):\n",
    "    z = np.arange(-20, 20*p[i], 0.1)\n",
    "    pts0=z+P.Co*np.sqrt((P.m/P.Co)*z+1)\n",
    "    pts1=p[i]*3*np.sqrt(3)-2*z-P.Co*np.sqrt((P.m/P.Co)*z+1)\n",
    "    pts2=z\n",
    "    filter_ = [(x,y,z) for (x,y,z) in zip(pts0,pts1,pts2) if x>=y and y>=z]\n",
    "    pts0,pts1,pts2 = list(zip(*filter_))\n",
    "\n",
    "    pts_conf1 = np.array([pts0,pts1,pts2])\n",
    "    pts_conf2 = np.array([pts0,pts2,pts1])\n",
    "    pts_conf3 = np.array([pts1,pts0,pts2])\n",
    "    pts_conf4 = np.array([pts1,pts2,pts0])\n",
    "    pts_conf5 = np.array([pts2,pts1,pts0])\n",
    "    pts_conf6 = np.array([pts2,pts0,pts1])\n",
    "\n",
    "    new_pts_1 = new_base_transform @ pts_conf1\n",
    "    new_pts_2 = new_base_transform @ pts_conf2\n",
    "    new_pts_3 = new_base_transform @ pts_conf3\n",
    "    new_pts_4 = new_base_transform @ pts_conf4\n",
    "    new_pts_5 = new_base_transform @ pts_conf5\n",
    "    new_pts_6 = new_base_transform @ pts_conf6\n",
    "\n",
    "    plt.plot(new_pts_1[0,:],new_pts_1[1,:],colors[i])\n",
    "    plt.plot(new_pts_2[0,:],new_pts_2[1,:],colors[i])\n",
    "    plt.plot(new_pts_3[0,:],new_pts_3[1,:],colors[i])\n",
    "    plt.plot(new_pts_4[0,:],new_pts_4[1,:],colors[i])\n",
    "    plt.plot(new_pts_5[0,:],new_pts_5[1,:],colors[i])\n",
    "    plt.plot(new_pts_6[0,:],new_pts_6[1,:],colors[i])\n",
    "\n",
    "p1, = plt.plot(new_o_pts[0,:3],new_o_pts[1,:3],'r*', label='p={} MPa'.format(p[0]))\n",
    "p2, = plt.plot(new_o_pts[0,3],new_o_pts[1,3],'b.',label='p={} MPa'.format(p[1]))\n",
    "p3, = plt.plot(new_o_pts[0,4:6],new_o_pts[1,4:6],'gp',label='p={} MPa'.format(p[3]))\n",
    "p4, = plt.plot(new_o_pts[0,6],new_o_pts[1,6],'yX',label='p={} MPa'.format(p[2]))\n",
    "plt.legend(handles=[p1, p2, p3, p4])"
   ]
  },
  {
   "cell_type": "code",
   "execution_count": 28,
   "metadata": {},
   "outputs": [],
   "source": [
    "x = np.linspace(0,100)\n",
    "zer = [0]*len(x)\n",
    "v = np.array([x,x,zer])\n",
    "w = new_base_transform@v\n",
    "plt.plot(w[0,:],w[1,:],'k--')\n",
    "v = np.array([x,zer,x])\n",
    "w = new_base_transform@v\n",
    "plt.plot(w[0,:],w[1,:],'k--')\n",
    "v = np.array([zer,x,x])\n",
    "w = new_base_transform@v\n",
    "plt.plot(w[0,:],w[1,:],'k--')\n",
    "\n",
    "x = np.linspace(-110,0)\n",
    "zer = [0]*len(x)\n",
    "v = np.array([x,x,zer])\n",
    "w = new_base_transform@v\n",
    "plt.plot(w[0,:],w[1,:],'k-')\n",
    "v = np.array([x,zer,x])\n",
    "w = new_base_transform@v\n",
    "plt.plot(w[0,:],w[1,:],'k-')\n",
    "v = np.array([zer,x,x])\n",
    "w = new_base_transform@v\n",
    "plt.plot(w[0,:],w[1,:],'k-')\n",
    "\n",
    "plt.xlabel('[MPa]')\n",
    "plt.ylabel('[MPa]')\n",
    "plt.axis('equal')\n",
    "#plt.axis('off')\n",
    "plt.show()"
   ]
  },
  {
   "cell_type": "code",
   "execution_count": 11,
   "metadata": {},
   "outputs": [],
   "source": [
    "plt.close()"
   ]
  },
  {
   "cell_type": "code",
   "execution_count": 16,
   "metadata": {},
   "outputs": [
    {
     "data": {
      "text/plain": [
       "(-45.01550196745185, 85.95317722017123, -44.32817254449099, 74.9531243633068)"
      ]
     },
     "execution_count": 16,
     "metadata": {},
     "output_type": "execute_result"
    }
   ],
   "source": [
    "x, y = symbols('x y')\n",
    "p2 = plot_implicit(Eq((np.sqrt(6)/2)*y+(np.sqrt(2)/2)*x-P.Co*((P.m/P.Co)*(28.3-(np.sqrt(6)/6)*y-(np.sqrt(2)/2)*x)+1)**(1/2)), (y, -80, 80), (x, -80, 80))\n",
    "p1, = plt.plot(new_o_pts[0,:3],new_o_pts[1,:3],'r*', label='p={} MPa'.format(28.3))\n",
    "plt.axis('off')"
   ]
  },
  {
   "cell_type": "code",
   "execution_count": null,
   "metadata": {},
   "outputs": [],
   "source": []
  }
 ],
 "metadata": {
  "kernelspec": {
   "display_name": "Python 3",
   "language": "python",
   "name": "python3"
  },
  "language_info": {
   "codemirror_mode": {
    "name": "ipython",
    "version": 3
   },
   "file_extension": ".py",
   "mimetype": "text/x-python",
   "name": "python",
   "nbconvert_exporter": "python",
   "pygments_lexer": "ipython3",
   "version": "3.7.4"
  }
 },
 "nbformat": 4,
 "nbformat_minor": 4
}
